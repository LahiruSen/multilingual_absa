{
 "cells": [
  {
   "cell_type": "code",
   "execution_count": 1,
   "metadata": {},
   "outputs": [],
   "source": [
    "import sys\n",
    "import re\n",
    "import os\n",
    "from pathlib import Path\n",
    "from collections import namedtuple\n",
    "import numpy as np"
   ]
  },
  {
   "cell_type": "markdown",
   "metadata": {},
   "source": [
    "### Taking data set from Seeval 2016 - task 5 subset 1 : http://alt.qcri.org/semeval2016/task5/"
   ]
  },
  {
   "cell_type": "code",
   "execution_count": 2,
   "metadata": {},
   "outputs": [],
   "source": [
    "import os\n",
    "import sys\n",
    "import pandas as pd\n",
    "import numpy as np\n",
    "import pickle\n",
    "from collections import Counter, defaultdict\n",
    "import re\n",
    "import ast\n",
    "pd.set_option('display.max_colwidth' , -1)"
   ]
  },
  {
   "cell_type": "markdown",
   "metadata": {},
   "source": [
    "### English - Restaurant domain training data"
   ]
  },
  {
   "cell_type": "code",
   "execution_count": 3,
   "metadata": {},
   "outputs": [
    {
     "data": {
      "text/html": [
       "<div>\n",
       "<style scoped>\n",
       "    .dataframe tbody tr th:only-of-type {\n",
       "        vertical-align: middle;\n",
       "    }\n",
       "\n",
       "    .dataframe tbody tr th {\n",
       "        vertical-align: top;\n",
       "    }\n",
       "\n",
       "    .dataframe thead th {\n",
       "        text-align: right;\n",
       "    }\n",
       "</style>\n",
       "<table border=\"1\" class=\"dataframe\">\n",
       "  <thead>\n",
       "    <tr style=\"text-align: right;\">\n",
       "      <th></th>\n",
       "      <th>aspects</th>\n",
       "      <th>polarities</th>\n",
       "      <th>text</th>\n",
       "    </tr>\n",
       "  </thead>\n",
       "  <tbody>\n",
       "    <tr>\n",
       "      <th>0</th>\n",
       "      <td>[RESTAURANT#GENERAL]</td>\n",
       "      <td>[negative]</td>\n",
       "      <td>Judging from previous posts this used to be a good place, but not any longer.</td>\n",
       "    </tr>\n",
       "    <tr>\n",
       "      <th>1</th>\n",
       "      <td>[SERVICE#GENERAL]</td>\n",
       "      <td>[negative]</td>\n",
       "      <td>We, there were four of us, arrived at noon - the place was empty - and the staff acted like we were imposing on them and they were very rude.</td>\n",
       "    </tr>\n",
       "  </tbody>\n",
       "</table>\n",
       "</div>"
      ],
      "text/plain": [
       "                aspects  polarities  \\\n",
       "0  [RESTAURANT#GENERAL]  [negative]   \n",
       "1  [SERVICE#GENERAL]     [negative]   \n",
       "\n",
       "                                                                                                                                            text  \n",
       "0  Judging from previous posts this used to be a good place, but not any longer.                                                                  \n",
       "1  We, there were four of us, arrived at noon - the place was empty - and the staff acted like we were imposing on them and they were very rude.  "
      ]
     },
     "execution_count": 3,
     "metadata": {},
     "output_type": "execute_result"
    }
   ],
   "source": [
    "eng_multi_aspects = pd.read_csv('../data/English_restaurants.csv')\n",
    "eng_multi_aspects['aspects'] = eng_multi_aspects['aspects'].apply(lambda x: ast.literal_eval(x))\n",
    "eng_multi_aspects['polarities'] = eng_multi_aspects['polarities'].apply(lambda x: ast.literal_eval(x))\n",
    "eng_multi_aspects.head(2)"
   ]
  },
  {
   "cell_type": "code",
   "execution_count": 4,
   "metadata": {},
   "outputs": [
    {
     "data": {
      "text/plain": [
       "FOOD#QUALITY                0.338652\n",
       "SERVICE#GENERAL             0.179099\n",
       "RESTAURANT#GENERAL          0.168329\n",
       "AMBIENCE#GENERAL            0.101715\n",
       "FOOD#STYLE_OPTIONS          0.054647\n",
       "RESTAURANT#MISCELLANEOUS    0.039091\n",
       "FOOD#PRICES                 0.035899\n",
       "RESTAURANT#PRICES           0.031911\n",
       "DRINKS#QUALITY              0.018748\n",
       "DRINKS#STYLE_OPTIONS        0.012764\n",
       "LOCATION#GENERAL            0.011169\n",
       "DRINKS#PRICES               0.007978\n",
       "Name: value, dtype: float64"
      ]
     },
     "execution_count": 4,
     "metadata": {},
     "output_type": "execute_result"
    }
   ],
   "source": [
    "eng_multi_aspects.aspects.apply(pd.Series).merge(eng_multi_aspects , right_index = True , left_index = True)\\\n",
    ".drop(['aspects' , 'polarities'] ,axis = 1).melt(id_vars = ['text']).drop(['variable'] , axis = 1).dropna().value.value_counts(normalize = True)"
   ]
  },
  {
   "cell_type": "markdown",
   "metadata": {},
   "source": [
    "### Dutch  - Restaurant domain training data"
   ]
  },
  {
   "cell_type": "code",
   "execution_count": 4,
   "metadata": {},
   "outputs": [
    {
     "data": {
      "text/html": [
       "<div>\n",
       "<style scoped>\n",
       "    .dataframe tbody tr th:only-of-type {\n",
       "        vertical-align: middle;\n",
       "    }\n",
       "\n",
       "    .dataframe tbody tr th {\n",
       "        vertical-align: top;\n",
       "    }\n",
       "\n",
       "    .dataframe thead th {\n",
       "        text-align: right;\n",
       "    }\n",
       "</style>\n",
       "<table border=\"1\" class=\"dataframe\">\n",
       "  <thead>\n",
       "    <tr style=\"text-align: right;\">\n",
       "      <th></th>\n",
       "      <th>aspects</th>\n",
       "      <th>polarities</th>\n",
       "      <th>text</th>\n",
       "    </tr>\n",
       "  </thead>\n",
       "  <tbody>\n",
       "    <tr>\n",
       "      <th>0</th>\n",
       "      <td>[SERVICE#GENERAL]</td>\n",
       "      <td>[negative]</td>\n",
       "      <td>Lange wachttijd.</td>\n",
       "    </tr>\n",
       "    <tr>\n",
       "      <th>1</th>\n",
       "      <td>[FOOD#STYLE_OPTIONS]</td>\n",
       "      <td>[negative]</td>\n",
       "      <td>Zelfde dessert, 2 dagen na mekaar.</td>\n",
       "    </tr>\n",
       "  </tbody>\n",
       "</table>\n",
       "</div>"
      ],
      "text/plain": [
       "                aspects  polarities                                text\n",
       "0  [SERVICE#GENERAL]     [negative]  Lange wachttijd.                  \n",
       "1  [FOOD#STYLE_OPTIONS]  [negative]  Zelfde dessert, 2 dagen na mekaar."
      ]
     },
     "execution_count": 4,
     "metadata": {},
     "output_type": "execute_result"
    }
   ],
   "source": [
    "du_multi_aspects = pd.read_csv('../data/Dutch_restaurants.csv')\n",
    "du_multi_aspects['aspects'] = du_multi_aspects['aspects'].apply(lambda x: ast.literal_eval(x))\n",
    "du_multi_aspects['polarities'] = du_multi_aspects['polarities'].apply(lambda x: ast.literal_eval(x))\n",
    "du_multi_aspects.head(2)"
   ]
  },
  {
   "cell_type": "markdown",
   "metadata": {},
   "source": [
    "### Spanish Restaurant domain training data"
   ]
  },
  {
   "cell_type": "code",
   "execution_count": 5,
   "metadata": {},
   "outputs": [
    {
     "data": {
      "text/html": [
       "<div>\n",
       "<style scoped>\n",
       "    .dataframe tbody tr th:only-of-type {\n",
       "        vertical-align: middle;\n",
       "    }\n",
       "\n",
       "    .dataframe tbody tr th {\n",
       "        vertical-align: top;\n",
       "    }\n",
       "\n",
       "    .dataframe thead th {\n",
       "        text-align: right;\n",
       "    }\n",
       "</style>\n",
       "<table border=\"1\" class=\"dataframe\">\n",
       "  <thead>\n",
       "    <tr style=\"text-align: right;\">\n",
       "      <th></th>\n",
       "      <th>aspects</th>\n",
       "      <th>polarities</th>\n",
       "      <th>text</th>\n",
       "    </tr>\n",
       "  </thead>\n",
       "  <tbody>\n",
       "    <tr>\n",
       "      <th>0</th>\n",
       "      <td>[RESTAURANT#GENERAL]</td>\n",
       "      <td>[positive]</td>\n",
       "      <td>Nos sentimos muy a gusto.</td>\n",
       "    </tr>\n",
       "    <tr>\n",
       "      <th>1</th>\n",
       "      <td>[SERVICE#GENERAL, AMBIENCE#GENERAL, FOOD#QUALITY]</td>\n",
       "      <td>[positive, positive, positive]</td>\n",
       "      <td>Buen servicio, ambiente Acogedor  y tranquilo, comida bien.</td>\n",
       "    </tr>\n",
       "  </tbody>\n",
       "</table>\n",
       "</div>"
      ],
      "text/plain": [
       "                                             aspects  \\\n",
       "0  [RESTAURANT#GENERAL]                                \n",
       "1  [SERVICE#GENERAL, AMBIENCE#GENERAL, FOOD#QUALITY]   \n",
       "\n",
       "                       polarities  \\\n",
       "0  [positive]                       \n",
       "1  [positive, positive, positive]   \n",
       "\n",
       "                                                          text  \n",
       "0  Nos sentimos muy a gusto.                                    \n",
       "1  Buen servicio, ambiente Acogedor  y tranquilo, comida bien.  "
      ]
     },
     "execution_count": 5,
     "metadata": {},
     "output_type": "execute_result"
    }
   ],
   "source": [
    "spanish_multi_aspects = pd.read_csv('../data/Spanish_restaurants.csv')\n",
    "spanish_multi_aspects['aspects'] = spanish_multi_aspects['aspects'].apply(lambda x: ast.literal_eval(x))\n",
    "spanish_multi_aspects['polarities'] = spanish_multi_aspects['polarities'].apply(lambda x: ast.literal_eval(x))\n",
    "spanish_multi_aspects.head(2)"
   ]
  },
  {
   "cell_type": "code",
   "execution_count": 6,
   "metadata": {},
   "outputs": [],
   "source": [
    "def extract_aspects(lst_aspects):\n",
    "    res = []\n",
    "    for x in lst_aspects:\n",
    "        entity = x.split('#')[0] ; attribute = x.split('#')[1] ; res.append(entity)       \n",
    "    return res\n",
    "eng_multi_aspects['aspects2'] = eng_multi_aspects['aspects'].apply(lambda x: extract_aspects(x))\n",
    "eng_multi_aspects['aspects2'] = eng_multi_aspects['aspects2'].apply(lambda x : list(set(x)))\n",
    "\n",
    "du_multi_aspects['aspects2'] = du_multi_aspects['aspects'].apply(lambda x: extract_aspects(x))\n",
    "du_multi_aspects['aspects2'] = du_multi_aspects['aspects2'].apply(lambda x : list(set(x)))\n",
    "\n",
    "spanish_multi_aspects['aspects2'] = spanish_multi_aspects['aspects'].apply(lambda x: extract_aspects(x))\n",
    "spanish_multi_aspects['aspects2'] = spanish_multi_aspects['aspects2'].apply(lambda x : list(set(x)))"
   ]
  },
  {
   "cell_type": "code",
   "execution_count": 426,
   "metadata": {},
   "outputs": [
    {
     "data": {
      "text/html": [
       "<div>\n",
       "<style scoped>\n",
       "    .dataframe tbody tr th:only-of-type {\n",
       "        vertical-align: middle;\n",
       "    }\n",
       "\n",
       "    .dataframe tbody tr th {\n",
       "        vertical-align: top;\n",
       "    }\n",
       "\n",
       "    .dataframe thead th {\n",
       "        text-align: right;\n",
       "    }\n",
       "</style>\n",
       "<table border=\"1\" class=\"dataframe\">\n",
       "  <thead>\n",
       "    <tr style=\"text-align: right;\">\n",
       "      <th></th>\n",
       "      <th>text</th>\n",
       "      <th>aspects2</th>\n",
       "      <th>polarities2</th>\n",
       "    </tr>\n",
       "  </thead>\n",
       "  <tbody>\n",
       "    <tr>\n",
       "      <th>21</th>\n",
       "      <td>Everything is always cooked to perfection, the service is excellent, the decor cool and understated.</td>\n",
       "      <td>[SERVICE, AMBIENCE, FOOD]</td>\n",
       "      <td>[positive, positive, positive]</td>\n",
       "    </tr>\n",
       "    <tr>\n",
       "      <th>28</th>\n",
       "      <td>The decor is night tho...but they REALLY need to clean that vent in the ceiling...its quite un-appetizing, and kills your effort to make this place look sleek and modern.</td>\n",
       "      <td>[AMBIENCE]</td>\n",
       "      <td>[negative]</td>\n",
       "    </tr>\n",
       "    <tr>\n",
       "      <th>36</th>\n",
       "      <td>Ambiance- relaxed and stylish.</td>\n",
       "      <td>[AMBIENCE]</td>\n",
       "      <td>[positive]</td>\n",
       "    </tr>\n",
       "    <tr>\n",
       "      <th>58</th>\n",
       "      <td>Quite simply it's like stepping out of Manhattan and into a haven of tranquility.</td>\n",
       "      <td>[AMBIENCE]</td>\n",
       "      <td>[positive]</td>\n",
       "    </tr>\n",
       "    <tr>\n",
       "      <th>70</th>\n",
       "      <td>The ambience is pretty and nice for conversation, so a casual lunch here would probably be best.</td>\n",
       "      <td>[RESTAURANT, AMBIENCE]</td>\n",
       "      <td>[positive, positive]</td>\n",
       "    </tr>\n",
       "  </tbody>\n",
       "</table>\n",
       "</div>"
      ],
      "text/plain": [
       "                                                                                                                                                                          text  \\\n",
       "21  Everything is always cooked to perfection, the service is excellent, the decor cool and understated.                                                                         \n",
       "28  The decor is night tho...but they REALLY need to clean that vent in the ceiling...its quite un-appetizing, and kills your effort to make this place look sleek and modern.   \n",
       "36  Ambiance- relaxed and stylish.                                                                                                                                               \n",
       "58  Quite simply it's like stepping out of Manhattan and into a haven of tranquility.                                                                                            \n",
       "70  The ambience is pretty and nice for conversation, so a casual lunch here would probably be best.                                                                             \n",
       "\n",
       "                     aspects2                     polarities2  \n",
       "21  [SERVICE, AMBIENCE, FOOD]  [positive, positive, positive]  \n",
       "28  [AMBIENCE]                 [negative]                      \n",
       "36  [AMBIENCE]                 [positive]                      \n",
       "58  [AMBIENCE]                 [positive]                      \n",
       "70  [RESTAURANT, AMBIENCE]     [positive, positive]            "
      ]
     },
     "execution_count": 426,
     "metadata": {},
     "output_type": "execute_result"
    }
   ],
   "source": [
    "eng_multi_aspects[eng_multi_aspects['aspects2'].apply(lambda x: ' '.join(x)).str.contains('AMBIENCE')].head()"
   ]
  },
  {
   "cell_type": "code",
   "execution_count": 427,
   "metadata": {},
   "outputs": [
    {
     "data": {
      "text/html": [
       "<div>\n",
       "<style scoped>\n",
       "    .dataframe tbody tr th:only-of-type {\n",
       "        vertical-align: middle;\n",
       "    }\n",
       "\n",
       "    .dataframe tbody tr th {\n",
       "        vertical-align: top;\n",
       "    }\n",
       "\n",
       "    .dataframe thead th {\n",
       "        text-align: right;\n",
       "    }\n",
       "</style>\n",
       "<table border=\"1\" class=\"dataframe\">\n",
       "  <thead>\n",
       "    <tr style=\"text-align: right;\">\n",
       "      <th></th>\n",
       "      <th>text</th>\n",
       "      <th>aspects2</th>\n",
       "      <th>polarities2</th>\n",
       "      <th>aspects_pred</th>\n",
       "    </tr>\n",
       "  </thead>\n",
       "  <tbody>\n",
       "    <tr>\n",
       "      <th>1</th>\n",
       "      <td>Buen servicio, ambiente Acogedor  y tranquilo, comida bien.</td>\n",
       "      <td>[SERVICE, AMBIENCE, FOOD]</td>\n",
       "      <td>[positive, positive, positive]</td>\n",
       "      <td>[AMBIENCE, SERVICE]</td>\n",
       "    </tr>\n",
       "    <tr>\n",
       "      <th>10</th>\n",
       "      <td>la calidad del producto, el servicio, el entorno todo fue excelente</td>\n",
       "      <td>[SERVICE, AMBIENCE, FOOD]</td>\n",
       "      <td>[positive, positive, positive]</td>\n",
       "      <td>[FOOD, SERVICE]</td>\n",
       "    </tr>\n",
       "    <tr>\n",
       "      <th>15</th>\n",
       "      <td>Fabuloso, muy atentos la comida excelente y un ambiente estupendo.</td>\n",
       "      <td>[SERVICE, RESTAURANT, AMBIENCE, FOOD]</td>\n",
       "      <td>[positive, positive, positive, positive]</td>\n",
       "      <td>[AMBIENCE, FOOD]</td>\n",
       "    </tr>\n",
       "    <tr>\n",
       "      <th>18</th>\n",
       "      <td>El restaurante es precioso, moderno y acogedor.</td>\n",
       "      <td>[AMBIENCE]</td>\n",
       "      <td>[positive]</td>\n",
       "      <td>[AMBIENCE]</td>\n",
       "    </tr>\n",
       "    <tr>\n",
       "      <th>26</th>\n",
       "      <td>La verdad es que todo muy bien; el servicio, la comida y la apariencia, todo correcto.</td>\n",
       "      <td>[SERVICE, RESTAURANT, AMBIENCE, FOOD]</td>\n",
       "      <td>[positive, positive, positive, positive]</td>\n",
       "      <td>[FOOD, SERVICE]</td>\n",
       "    </tr>\n",
       "  </tbody>\n",
       "</table>\n",
       "</div>"
      ],
      "text/plain": [
       "                                                                                      text  \\\n",
       "1   Buen servicio, ambiente Acogedor  y tranquilo, comida bien.                              \n",
       "10  la calidad del producto, el servicio, el entorno todo fue excelente                      \n",
       "15  Fabuloso, muy atentos la comida excelente y un ambiente estupendo.                       \n",
       "18  El restaurante es precioso, moderno y acogedor.                                          \n",
       "26  La verdad es que todo muy bien; el servicio, la comida y la apariencia, todo correcto.   \n",
       "\n",
       "                                 aspects2  \\\n",
       "1   [SERVICE, AMBIENCE, FOOD]               \n",
       "10  [SERVICE, AMBIENCE, FOOD]               \n",
       "15  [SERVICE, RESTAURANT, AMBIENCE, FOOD]   \n",
       "18  [AMBIENCE]                              \n",
       "26  [SERVICE, RESTAURANT, AMBIENCE, FOOD]   \n",
       "\n",
       "                                 polarities2         aspects_pred  \n",
       "1   [positive, positive, positive]            [AMBIENCE, SERVICE]  \n",
       "10  [positive, positive, positive]            [FOOD, SERVICE]      \n",
       "15  [positive, positive, positive, positive]  [AMBIENCE, FOOD]     \n",
       "18  [positive]                                [AMBIENCE]           \n",
       "26  [positive, positive, positive, positive]  [FOOD, SERVICE]      "
      ]
     },
     "execution_count": 427,
     "metadata": {},
     "output_type": "execute_result"
    }
   ],
   "source": [
    "spanish_multi_aspects[spanish_multi_aspects['aspects2'].apply(lambda x: ' '.join(x)).str.contains('AMBIENCE')].head()"
   ]
  },
  {
   "cell_type": "code",
   "execution_count": 7,
   "metadata": {},
   "outputs": [],
   "source": [
    "eng_multi_aspects.aspects2.apply(pd.Series).merge(eng_multi_aspects , right_index = True , left_index = True)\\\n",
    ".drop(['aspects' , 'polarities', 'aspects2'] ,axis = 1).melt(id_vars = ['text']).drop(['variable'] , axis = 1).dropna().value.value_counts(normalize = True).reset_index()[['index']]\\\n",
    ".to_csv('../data/apsect_names.txt' , header = None , index = None , mode = 'w')"
   ]
  },
  {
   "cell_type": "markdown",
   "metadata": {},
   "source": [
    "### Extract aspect embeddings"
   ]
  },
  {
   "cell_type": "code",
   "execution_count": 9,
   "metadata": {},
   "outputs": [],
   "source": [
    "LASER_PATH = \"..\"\n",
    "sys.path.append(LASER_PATH + '/source')\n",
    "sys.path.append(LASER_PATH + '/source/lib')\n",
    "\n",
    "DATA_PATH = Path(\"../data/\")\n",
    "CACHE_PATH = Path(\"cache/\")\n",
    "CACHE_PATH.mkdir(exist_ok=True)\n",
    "MODEL_PATH = Path(\"../models\")\n",
    "\n",
    "os.environ[\"LASER\"] = LASER_PATH \n",
    "SPACE_NORMALIZER = re.compile(\"\\s+\")\n",
    "Batch = namedtuple('Batch', 'srcs tokens lengths')"
   ]
  },
  {
   "cell_type": "code",
   "execution_count": 10,
   "metadata": {},
   "outputs": [],
   "source": [
    "from indexing import IndexLoad, IndexTextOpen, IndexTextQuery, IndexSearchKNN, IndexCreate, IndexSearchMultiple\n",
    "from embed import SentenceEncoder, EncodeLoad, EncodeFile\n",
    "from text_processing import Token, BPEfastApply"
   ]
  },
  {
   "cell_type": "markdown",
   "metadata": {},
   "source": [
    "#### Following steps from https://medium.com/the-artificial-impostor/multilingual-similarity-search-using-pretrained-bidirectional-lstm-encoder-e34fac5958b0 for tokenization , BPE Fast and Embedding extractions "
   ]
  },
  {
   "cell_type": "code",
   "execution_count": 11,
   "metadata": {},
   "outputs": [
    {
     "name": "stdout",
     "output_type": "stream",
     "text": [
      " - Tokenizer: apsect_names.txt exists already\n",
      " - Tokenizer: apsect_names.txt exists already\n",
      " - Tokenizer: apsect_names.txt exists already\n"
     ]
    }
   ],
   "source": [
    "encoder = SentenceEncoder(\n",
    "    str(MODEL_PATH / \"bilstm.93langs.2018-12-26.pt\"),\n",
    "    max_sentences=None,\n",
    "    max_tokens=10000,\n",
    "    cpu=False)\n",
    "bpe_codes = str(MODEL_PATH / \"93langs.fcodes\")\n",
    "\n",
    "for lang in (\"en\" ,\"nl\", 'es'):  ##\"zh\" for chinese , nl  for dutch and es for spanish\n",
    "    Token(  #../data/apsect_names.txt\n",
    "        str(DATA_PATH / f\"apsect_names.txt\"), ##english_resturant.txt\n",
    "        str(CACHE_PATH / f\"apsect_names.txt\"),\n",
    "        lang=lang,\n",
    "        romanize=False,\n",
    "        lower_case=True, gzip=False,\n",
    "        verbose=True)\n",
    "    BPEfastApply(\n",
    "        str(CACHE_PATH / f\"apsect_names.txt\"),\n",
    "        str(CACHE_PATH / f\"apsect_names.bpe\"),\n",
    "        bpe_codes,\n",
    "        verbose=True, over_write=True)\n",
    "    EncodeFile(\n",
    "        encoder,\n",
    "        str(CACHE_PATH / f\"apsect_names.bpe\"),\n",
    "        str(CACHE_PATH / f\"apsect_names.enc\"),\n",
    "        verbose=True, over_write=True)    "
   ]
  },
  {
   "cell_type": "code",
   "execution_count": 12,
   "metadata": {},
   "outputs": [
    {
     "name": "stdout",
     "output_type": "stream",
     "text": [
      " - embedding: cache/apsect_names.enc 6 examples of dim 1024\n",
      " - creating FAISS index\n"
     ]
    }
   ],
   "source": [
    "data_aspect, index_aspect = IndexCreate(\n",
    "     str(CACHE_PATH / f\"apsect_names.enc\"), 'FlatL2', verbose=True, save_index=False)"
   ]
  },
  {
   "cell_type": "code",
   "execution_count": 13,
   "metadata": {},
   "outputs": [
    {
     "data": {
      "text/plain": [
       "(6, 1024)"
      ]
     },
     "execution_count": 13,
     "metadata": {},
     "output_type": "execute_result"
    }
   ],
   "source": [
    "data_aspect.shape"
   ]
  },
  {
   "cell_type": "markdown",
   "metadata": {},
   "source": [
    "## Extract Setence Embeddings"
   ]
  },
  {
   "cell_type": "code",
   "execution_count": 11,
   "metadata": {},
   "outputs": [
    {
     "name": "stdout",
     "output_type": "stream",
     "text": [
      " - embedding: cache/en_resturant.enc 1708 examples of dim 1024\n",
      " - creating FAISS index\n",
      " - embedding: cache/nl_resturant.enc 1317 examples of dim 1024\n",
      " - creating FAISS index\n",
      " - embedding: cache/es_resturant.enc 1626 examples of dim 1024\n",
      " - creating FAISS index\n"
     ]
    }
   ],
   "source": [
    "LASER_PATH = \"..\"\n",
    "sys.path.append(LASER_PATH + '/source')\n",
    "sys.path.append(LASER_PATH + '/source/lib')\n",
    "\n",
    "DATA_PATH = Path(\"../data/tatoeba/v1/\")\n",
    "CACHE_PATH = Path(\"cache/\")\n",
    "CACHE_PATH.mkdir(exist_ok=True)\n",
    "MODEL_PATH = Path(\"../models\")\n",
    "\n",
    "os.environ[\"LASER\"] = LASER_PATH \n",
    "SPACE_NORMALIZER = re.compile(\"\\s+\")\n",
    "Batch = namedtuple('Batch', 'srcs tokens lengths')\n",
    "\n",
    "data_en, index_en = IndexCreate(\n",
    "    str(CACHE_PATH / \"en_resturant.enc\"), 'FlatL2', verbose=True, save_index=False)\n",
    "data_du, index_du = IndexCreate(\n",
    "    str(CACHE_PATH / \"nl_resturant.enc\"), 'FlatL2', verbose=True, save_index=False)\n",
    "data_spanish, index_spanish = IndexCreate(\n",
    "    str(CACHE_PATH / \"es_resturant.enc\"), 'FlatL2', verbose=True, save_index=False)"
   ]
  },
  {
   "cell_type": "markdown",
   "metadata": {},
   "source": [
    "##### Because dataset of semeval is not exact translation of each other , some of the above results are not good. "
   ]
  },
  {
   "cell_type": "markdown",
   "metadata": {},
   "source": [
    "### Creating multi label classification task using LASER sentence embedding. \n",
    "We can have 6 aspect categories , present for each review. We will train a simple 1 layer Neural Network model using 1024 dimensional sentence embedding as input and 6 categories as output.  \n",
    "Train the model on 1700 English sentences and Validate on 1300 Dutch sentences . We are getting around 85 % accuracy and 57% f1 score(Macro) "
   ]
  },
  {
   "cell_type": "code",
   "execution_count": 12,
   "metadata": {},
   "outputs": [
    {
     "data": {
      "text/html": [
       "<div>\n",
       "<style scoped>\n",
       "    .dataframe tbody tr th:only-of-type {\n",
       "        vertical-align: middle;\n",
       "    }\n",
       "\n",
       "    .dataframe tbody tr th {\n",
       "        vertical-align: top;\n",
       "    }\n",
       "\n",
       "    .dataframe thead th {\n",
       "        text-align: right;\n",
       "    }\n",
       "</style>\n",
       "<table border=\"1\" class=\"dataframe\">\n",
       "  <thead>\n",
       "    <tr style=\"text-align: right;\">\n",
       "      <th></th>\n",
       "      <th>aspects</th>\n",
       "      <th>polarities</th>\n",
       "      <th>text</th>\n",
       "      <th>aspects2</th>\n",
       "    </tr>\n",
       "  </thead>\n",
       "  <tbody>\n",
       "    <tr>\n",
       "      <th>0</th>\n",
       "      <td>[RESTAURANT#GENERAL]</td>\n",
       "      <td>[negative]</td>\n",
       "      <td>Judging from previous posts this used to be a good place, but not any longer.</td>\n",
       "      <td>[RESTAURANT]</td>\n",
       "    </tr>\n",
       "    <tr>\n",
       "      <th>1</th>\n",
       "      <td>[SERVICE#GENERAL]</td>\n",
       "      <td>[negative]</td>\n",
       "      <td>We, there were four of us, arrived at noon - the place was empty - and the staff acted like we were imposing on them and they were very rude.</td>\n",
       "      <td>[SERVICE]</td>\n",
       "    </tr>\n",
       "  </tbody>\n",
       "</table>\n",
       "</div>"
      ],
      "text/plain": [
       "                aspects  polarities  \\\n",
       "0  [RESTAURANT#GENERAL]  [negative]   \n",
       "1  [SERVICE#GENERAL]     [negative]   \n",
       "\n",
       "                                                                                                                                            text  \\\n",
       "0  Judging from previous posts this used to be a good place, but not any longer.                                                                   \n",
       "1  We, there were four of us, arrived at noon - the place was empty - and the staff acted like we were imposing on them and they were very rude.   \n",
       "\n",
       "       aspects2  \n",
       "0  [RESTAURANT]  \n",
       "1  [SERVICE]     "
      ]
     },
     "execution_count": 12,
     "metadata": {},
     "output_type": "execute_result"
    }
   ],
   "source": [
    "eng_multi_aspects.head(2)"
   ]
  },
  {
   "cell_type": "code",
   "execution_count": 13,
   "metadata": {},
   "outputs": [],
   "source": [
    "eng_multi_aspects.drop(columns=[ 'aspects'] , inplace=True)\n",
    "du_multi_aspects.drop(columns=[ 'aspects'] , inplace=True)\n",
    "spanish_multi_aspects.drop(columns=['aspects'] , inplace=True)"
   ]
  },
  {
   "cell_type": "code",
   "execution_count": 16,
   "metadata": {},
   "outputs": [
    {
     "data": {
      "text/html": [
       "<div>\n",
       "<style scoped>\n",
       "    .dataframe tbody tr th:only-of-type {\n",
       "        vertical-align: middle;\n",
       "    }\n",
       "\n",
       "    .dataframe tbody tr th {\n",
       "        vertical-align: top;\n",
       "    }\n",
       "\n",
       "    .dataframe thead th {\n",
       "        text-align: right;\n",
       "    }\n",
       "</style>\n",
       "<table border=\"1\" class=\"dataframe\">\n",
       "  <thead>\n",
       "    <tr style=\"text-align: right;\">\n",
       "      <th></th>\n",
       "      <th>text</th>\n",
       "      <th>aspects2</th>\n",
       "      <th>polarities2</th>\n",
       "    </tr>\n",
       "  </thead>\n",
       "  <tbody>\n",
       "    <tr>\n",
       "      <th>0</th>\n",
       "      <td>Judging from previous posts this used to be a good place, but not any longer.</td>\n",
       "      <td>[RESTAURANT]</td>\n",
       "      <td>[negative]</td>\n",
       "    </tr>\n",
       "    <tr>\n",
       "      <th>1</th>\n",
       "      <td>We, there were four of us, arrived at noon - the place was empty - and the staff acted like we were imposing on them and they were very rude.</td>\n",
       "      <td>[SERVICE]</td>\n",
       "      <td>[negative]</td>\n",
       "    </tr>\n",
       "  </tbody>\n",
       "</table>\n",
       "</div>"
      ],
      "text/plain": [
       "                                                                                                                                            text  \\\n",
       "0  Judging from previous posts this used to be a good place, but not any longer.                                                                   \n",
       "1  We, there were four of us, arrived at noon - the place was empty - and the staff acted like we were imposing on them and they were very rude.   \n",
       "\n",
       "       aspects2 polarities2  \n",
       "0  [RESTAURANT]  [negative]  \n",
       "1  [SERVICE]     [negative]  "
      ]
     },
     "execution_count": 16,
     "metadata": {},
     "output_type": "execute_result"
    }
   ],
   "source": [
    "\n",
    "eng_multi_aspects['len_aspects'] = eng_multi_aspects['aspects2'].apply(lambda x: len(x))\n",
    "eng_multi_aspects['polarities2'] = eng_multi_aspects.apply(lambda x: x['polarities'][0 : int(x['len_aspects'])]  , axis = 1)\n",
    "\n",
    "du_multi_aspects['len_aspects'] = du_multi_aspects['aspects2'].apply(lambda x: len(x))\n",
    "du_multi_aspects['polarities2'] = du_multi_aspects.apply(lambda x: x['polarities'][0 : int(x['len_aspects'])]  , axis = 1)\n",
    "\n",
    "spanish_multi_aspects['len_aspects'] = spanish_multi_aspects['aspects2'].apply(lambda x: len(x))\n",
    "spanish_multi_aspects['polarities2'] = spanish_multi_aspects.apply(lambda x: x['polarities'][0 : int(x['len_aspects'])]  , axis = 1)\n",
    "\n",
    "eng_multi_aspects.drop(columns=[  'polarities' , 'len_aspects' ] , inplace=True)\n",
    "du_multi_aspects.drop(columns=[ 'polarities' , 'len_aspects'] , inplace=True)\n",
    "spanish_multi_aspects.drop(columns=[  'polarities' , 'len_aspects'] , inplace=True)\n",
    "\n",
    "eng_multi_aspects.head(2)"
   ]
  },
  {
   "cell_type": "code",
   "execution_count": 17,
   "metadata": {},
   "outputs": [],
   "source": [
    "from sklearn.model_selection import train_test_split\n",
    "train_aspects , val_aspects, train_df , val_df = train_test_split(eng_multi_aspects, data_en , test_size = 0.2 , random_state = 42)"
   ]
  },
  {
   "cell_type": "code",
   "execution_count": 21,
   "metadata": {},
   "outputs": [
    {
     "data": {
      "text/html": [
       "<div>\n",
       "<style scoped>\n",
       "    .dataframe tbody tr th:only-of-type {\n",
       "        vertical-align: middle;\n",
       "    }\n",
       "\n",
       "    .dataframe tbody tr th {\n",
       "        vertical-align: top;\n",
       "    }\n",
       "\n",
       "    .dataframe thead th {\n",
       "        text-align: right;\n",
       "    }\n",
       "</style>\n",
       "<table border=\"1\" class=\"dataframe\">\n",
       "  <thead>\n",
       "    <tr style=\"text-align: right;\">\n",
       "      <th></th>\n",
       "      <th>text</th>\n",
       "      <th>aspects2</th>\n",
       "      <th>polarities2</th>\n",
       "    </tr>\n",
       "  </thead>\n",
       "  <tbody>\n",
       "    <tr>\n",
       "      <th>590</th>\n",
       "      <td>The food was very good, a great deal, and the place its self was great.</td>\n",
       "      <td>[AMBIENCE, FOOD]</td>\n",
       "      <td>[positive, positive]</td>\n",
       "    </tr>\n",
       "    <tr>\n",
       "      <th>1551</th>\n",
       "      <td>Terrible would be a compliment!</td>\n",
       "      <td>[RESTAURANT]</td>\n",
       "      <td>[negative]</td>\n",
       "    </tr>\n",
       "  </tbody>\n",
       "</table>\n",
       "</div>"
      ],
      "text/plain": [
       "                                                                         text  \\\n",
       "590   The food was very good, a great deal, and the place its self was great.   \n",
       "1551  Terrible would be a compliment!                                           \n",
       "\n",
       "              aspects2           polarities2  \n",
       "590   [AMBIENCE, FOOD]  [positive, positive]  \n",
       "1551  [RESTAURANT]      [negative]            "
      ]
     },
     "execution_count": 21,
     "metadata": {},
     "output_type": "execute_result"
    }
   ],
   "source": [
    "train_aspects.head(2)"
   ]
  },
  {
   "cell_type": "code",
   "execution_count": 23,
   "metadata": {},
   "outputs": [
    {
     "data": {
      "text/html": [
       "<div>\n",
       "<style scoped>\n",
       "    .dataframe tbody tr th:only-of-type {\n",
       "        vertical-align: middle;\n",
       "    }\n",
       "\n",
       "    .dataframe tbody tr th {\n",
       "        vertical-align: top;\n",
       "    }\n",
       "\n",
       "    .dataframe thead th {\n",
       "        text-align: right;\n",
       "    }\n",
       "</style>\n",
       "<table border=\"1\" class=\"dataframe\">\n",
       "  <thead>\n",
       "    <tr style=\"text-align: right;\">\n",
       "      <th></th>\n",
       "      <th>text</th>\n",
       "      <th>aspects2</th>\n",
       "      <th>polarities2</th>\n",
       "    </tr>\n",
       "  </thead>\n",
       "  <tbody>\n",
       "    <tr>\n",
       "      <th>567</th>\n",
       "      <td>The lobster sandwich is $24 and although it was good it was not nearly enough to warrant that price.</td>\n",
       "      <td>[FOOD]</td>\n",
       "      <td>[positive]</td>\n",
       "    </tr>\n",
       "    <tr>\n",
       "      <th>1325</th>\n",
       "      <td>I go out to eat and like my courses, servers are patient and never rush courses or force another drink.</td>\n",
       "      <td>[SERVICE]</td>\n",
       "      <td>[positive]</td>\n",
       "    </tr>\n",
       "  </tbody>\n",
       "</table>\n",
       "</div>"
      ],
      "text/plain": [
       "                                                                                                         text  \\\n",
       "567   The lobster sandwich is $24 and although it was good it was not nearly enough to warrant that price.      \n",
       "1325  I go out to eat and like my courses, servers are patient and never rush courses or force another drink.   \n",
       "\n",
       "       aspects2 polarities2  \n",
       "567   [FOOD]     [positive]  \n",
       "1325  [SERVICE]  [positive]  "
      ]
     },
     "execution_count": 23,
     "metadata": {},
     "output_type": "execute_result"
    }
   ],
   "source": [
    "val_aspects.head()"
   ]
  },
  {
   "cell_type": "code",
   "execution_count": 24,
   "metadata": {},
   "outputs": [],
   "source": [
    "from sklearn.preprocessing import MultiLabelBinarizer\n",
    "mlb  = MultiLabelBinarizer()\n",
    "tr_eng = mlb.fit_transform(train_aspects.aspects2)\n",
    "val_eng = mlb.transform(val_aspects.aspects2)\n",
    "y_du  = mlb.transform(du_multi_aspects.aspects2)\n",
    "y_spainish  = mlb.transform(spanish_multi_aspects.aspects2)"
   ]
  },
  {
   "cell_type": "code",
   "execution_count": 25,
   "metadata": {},
   "outputs": [],
   "source": [
    "train_aspects.reset_index(inplace=True , drop= True)\n",
    "train_fn = pd.merge(train_aspects , pd.DataFrame(tr_eng , columns=mlb.classes_) , left_index=True , right_index=True)\n",
    "\n",
    "val_aspects.reset_index(inplace=True , drop= True)\n",
    "val_fn = pd.merge(val_aspects , pd.DataFrame(val_eng , columns=mlb.classes_) , left_index=True , right_index=True)\n",
    "\n",
    "#train_fn.drop(columns=['aspects2' ] , inplace=True)\n",
    "\n",
    "# train_fn.to_csv('resturant_train_eng.csv' , index = False)\n",
    "# val_fn.to_csv('resturant_val_eng.csv' , index = False)"
   ]
  },
  {
   "cell_type": "code",
   "execution_count": 27,
   "metadata": {},
   "outputs": [],
   "source": [
    "from sklearn.preprocessing import StandardScaler\n",
    "std_scale = StandardScaler().fit(train_df)\n",
    "train_std = std_scale.transform(train_df) \n",
    "val_std = std_scale.transform(val_df)\n",
    "dutch_std = std_scale.transform(data_du)\n",
    "spanish_std = std_scale.transform(data_spanish)"
   ]
  },
  {
   "cell_type": "code",
   "execution_count": 28,
   "metadata": {},
   "outputs": [
    {
     "data": {
      "text/plain": [
       "((1366, 1024), (342, 1024), (1317, 1024), (1626, 1024))"
      ]
     },
     "execution_count": 28,
     "metadata": {},
     "output_type": "execute_result"
    }
   ],
   "source": [
    "train_std.shape , val_std.shape , dutch_std.shape , spanish_std.shape"
   ]
  },
  {
   "cell_type": "code",
   "execution_count": 29,
   "metadata": {},
   "outputs": [
    {
     "name": "stdout",
     "output_type": "stream",
     "text": [
      "torch.Size([1366, 6]) torch.Size([342, 6]) torch.Size([1317, 6])\n",
      "torch.Size([1366, 1024]) torch.Size([342, 1024]) torch.Size([1317, 6])\n"
     ]
    }
   ],
   "source": [
    "import torch \n",
    "import torch\n",
    "import torch.nn as nn\n",
    "\n",
    "x_train,y_train,x_valid,y_valid , x_test , y_test  , x_test_sp , y_test_sp = map(torch.FloatTensor, (train_std,tr_eng,  val_std ,\\\n",
    "                                                                            val_eng, dutch_std,y_du, \\\n",
    "                                                                           spanish_std ,y_spainish ))\n",
    "n,c = x_train.shape\n",
    "y_train = y_train.type(torch.FloatTensor)\n",
    "y_valid = y_valid.type(torch.FloatTensor)\n",
    "y_test = y_test.type(torch.FloatTensor)\n",
    "y_test_sp = y_test_sp.type(torch.FloatTensor)\n",
    "\n",
    "print(y_train.shape , y_valid.shape , y_test.shape)\n",
    "print(x_train.shape , x_valid.shape , y_test.shape)\n",
    "batch_size = 64"
   ]
  },
  {
   "cell_type": "code",
   "execution_count": 30,
   "metadata": {},
   "outputs": [],
   "source": [
    "# model = torch.nn.Sequential(\n",
    "#     torch.nn.Linear(1024, 512),\n",
    "#     torch.nn.Dropout(0.25),  # drop 10% of the neuron\n",
    "#     torch.nn.ReLU(),\n",
    "#     torch.nn.Linear(512, 384),\n",
    "#     torch.nn.Dropout(0.25),  # drop 10% of the neuron\n",
    "#     torch.nn.ReLU(),\n",
    "#     torch.nn.Linear(384, 6),\n",
    "# )\n",
    "\n",
    "# print(model)\n",
    "\n",
    "class Model(nn.Module):\n",
    "    def __init__(self , p):\n",
    "        super().__init__()\n",
    "        self.hidden = nn.Linear(1024, 512)\n",
    "        self.hidden2 = nn.Linear(512 , 256)\n",
    "        self.hidden3 =  nn.Linear(256 , 128)\n",
    "        self.activation = nn.ReLU()\n",
    "        self.dropout = nn.Dropout(p)\n",
    "        self.fc = nn.Linear(128, 6)\n",
    "\n",
    "    def forward(self, x):\n",
    "        x = self.activation(self.dropout(self.hidden(x)))\n",
    "        x = self.activation(self.dropout(self.hidden2(x)))\n",
    "        x = self.activation(self.dropout(self.hidden3(x)))\n",
    "        x = self.fc(x)\n",
    "        return x"
   ]
  },
  {
   "cell_type": "code",
   "execution_count": 31,
   "metadata": {},
   "outputs": [],
   "source": [
    "from torch.utils.data import TensorDataset\n",
    "from torch.utils.data import DataLoader\n",
    "\n",
    "train_ds = TensorDataset(x_train, y_train)\n",
    "train_dl = DataLoader(train_ds, batch_size=batch_size , shuffle=True)\n",
    "\n",
    "valid_ds = TensorDataset(x_valid, y_valid )\n",
    "valid_dl = DataLoader(valid_ds , batch_size= batch_size)\n",
    "\n",
    "test_ds = TensorDataset(x_test , y_test)\n",
    "test_dl = DataLoader(test_ds , batch_size=batch_size)\n",
    "\n",
    "test_ds2 = TensorDataset(x_test_sp , y_test_sp)\n",
    "test_dl2 = DataLoader(test_ds2 , batch_size=batch_size)"
   ]
  },
  {
   "cell_type": "code",
   "execution_count": 32,
   "metadata": {},
   "outputs": [],
   "source": [
    "class WrappedDataLoader():\n",
    "    def __init__(self, dl, func):\n",
    "        self.dl = dl\n",
    "        self.func = func\n",
    "        \n",
    "    def __len__(self): return len(self.dl)\n",
    "    \n",
    "    def __iter__(self):\n",
    "        batches = iter(self.dl)\n",
    "        for b in batches: yield(self.func(*b))"
   ]
  },
  {
   "cell_type": "code",
   "execution_count": 33,
   "metadata": {},
   "outputs": [],
   "source": [
    "dev = torch.device('cuda') if torch.cuda.is_available() else torch.device('cpu')\n",
    "def preprocess(x,y): return x.to(dev),y.to(dev)\n",
    "\n",
    "train_dl = WrappedDataLoader(train_dl, preprocess)\n",
    "valid_dl = WrappedDataLoader(valid_dl, preprocess)\n",
    "test_dl = WrappedDataLoader(test_dl , preprocess)\n",
    "test_dl2 = WrappedDataLoader(test_dl2 , preprocess)"
   ]
  },
  {
   "cell_type": "code",
   "execution_count": 36,
   "metadata": {},
   "outputs": [
    {
     "data": {
      "text/plain": [
       "Index(['text', 'aspects2', 'polarities2'], dtype='object')"
      ]
     },
     "execution_count": 36,
     "metadata": {},
     "output_type": "execute_result"
    }
   ],
   "source": [
    "train_aspects.columns"
   ]
  },
  {
   "cell_type": "code",
   "execution_count": 37,
   "metadata": {},
   "outputs": [],
   "source": [
    "df_data_ratio = train_aspects.aspects2.apply(pd.Series).merge(train_aspects , right_index = True , left_index = True)\\\n",
    ".drop([ 'aspects2' , 'polarities2'] ,axis = 1).melt(id_vars = ['text']).drop(['variable'] , axis = 1).dropna().value.value_counts(normalize = True).reset_index()"
   ]
  },
  {
   "cell_type": "code",
   "execution_count": 38,
   "metadata": {},
   "outputs": [
    {
     "data": {
      "text/html": [
       "<div>\n",
       "<style scoped>\n",
       "    .dataframe tbody tr th:only-of-type {\n",
       "        vertical-align: middle;\n",
       "    }\n",
       "\n",
       "    .dataframe tbody tr th {\n",
       "        vertical-align: top;\n",
       "    }\n",
       "\n",
       "    .dataframe thead th {\n",
       "        text-align: right;\n",
       "    }\n",
       "</style>\n",
       "<table border=\"1\" class=\"dataframe\">\n",
       "  <thead>\n",
       "    <tr style=\"text-align: right;\">\n",
       "      <th></th>\n",
       "      <th>index</th>\n",
       "      <th>value</th>\n",
       "    </tr>\n",
       "  </thead>\n",
       "  <tbody>\n",
       "    <tr>\n",
       "      <th>0</th>\n",
       "      <td>FOOD</td>\n",
       "      <td>0.361111</td>\n",
       "    </tr>\n",
       "    <tr>\n",
       "      <th>1</th>\n",
       "      <td>RESTAURANT</td>\n",
       "      <td>0.270531</td>\n",
       "    </tr>\n",
       "    <tr>\n",
       "      <th>2</th>\n",
       "      <td>SERVICE</td>\n",
       "      <td>0.198671</td>\n",
       "    </tr>\n",
       "    <tr>\n",
       "      <th>3</th>\n",
       "      <td>AMBIENCE</td>\n",
       "      <td>0.117754</td>\n",
       "    </tr>\n",
       "    <tr>\n",
       "      <th>4</th>\n",
       "      <td>DRINKS</td>\n",
       "      <td>0.038043</td>\n",
       "    </tr>\n",
       "    <tr>\n",
       "      <th>5</th>\n",
       "      <td>LOCATION</td>\n",
       "      <td>0.013889</td>\n",
       "    </tr>\n",
       "  </tbody>\n",
       "</table>\n",
       "</div>"
      ],
      "text/plain": [
       "        index     value\n",
       "0  FOOD        0.361111\n",
       "1  RESTAURANT  0.270531\n",
       "2  SERVICE     0.198671\n",
       "3  AMBIENCE    0.117754\n",
       "4  DRINKS      0.038043\n",
       "5  LOCATION    0.013889"
      ]
     },
     "execution_count": 38,
     "metadata": {},
     "output_type": "execute_result"
    }
   ],
   "source": [
    "df_data_ratio"
   ]
  },
  {
   "cell_type": "code",
   "execution_count": 39,
   "metadata": {},
   "outputs": [],
   "source": [
    "\n",
    "def binary_accuracy(preds, y):\n",
    "    rounded_preds = torch.round(torch.sigmoid(preds))\n",
    "    correct = (rounded_preds == y).float() #convert into float for division \n",
    "    acc = correct.mean() #/ (len(correct))\n",
    "    return acc\n",
    "\n",
    "\n",
    "def fbeta_score(y_true, y_pred, beta, threshold, eps=1e-9):\n",
    "    beta2 = beta**2\n",
    "\n",
    "    y_pred = torch.ge(torch.sigmoid(y_pred).float(), threshold).float()\n",
    "    y_true = y_true.float()\n",
    "\n",
    "    true_positive = (y_pred * y_true).sum(dim=0)\n",
    "    precision = true_positive.div(y_pred.sum(dim=0).add(eps))\n",
    "    recall = true_positive.div(y_true.sum(dim=0).add(eps))\n",
    "    \n",
    "    return torch.mean(\n",
    "        (precision*recall).\n",
    "        div(precision.mul(beta2) + recall + eps).\n",
    "        mul(1 + beta2)) , torch.mean(precision) , torch.mean(recall)\n",
    "\n",
    "\n",
    "def f1_score(y_pred,y_true, threshold=0.5):\n",
    "    f1 , precision , recall = fbeta_score(y_true, y_pred, 1, threshold) #; print('f1 score' , f1)\n",
    "    return f1 , precision , recall"
   ]
  },
  {
   "cell_type": "code",
   "execution_count": 40,
   "metadata": {},
   "outputs": [],
   "source": [
    "def train_model(model, iterator, optimizer, criterion):\n",
    "    \n",
    "    epoch_loss = 0\n",
    "    epoch_acc = 0  \n",
    "    epoch_f1 = 0 ; epoch_precision = 0 ; epoch_recall = 0\n",
    "    model.train()\n",
    "    ct = 0\n",
    "    for x, y in iterator:\n",
    "        optimizer.zero_grad()\n",
    "        predictions = model(x)\n",
    "        loss = criterion(predictions, y)\n",
    "        acc = binary_accuracy(predictions, y)\n",
    "        f1 , precision , recall = f1_score(predictions , y)\n",
    "        loss.backward()\n",
    "        optimizer.step()\n",
    "        epoch_loss += loss.item()\n",
    "        epoch_acc += acc.item()\n",
    "        epoch_f1 += f1.item() \n",
    "        epoch_precision += precision.item()  \n",
    "        epoch_recall += recall.item()\n",
    "    return epoch_loss / len(iterator), epoch_acc / len(iterator) , epoch_f1/len(iterator), epoch_precision/len(iterator), epoch_recall/len(iterator)"
   ]
  },
  {
   "cell_type": "code",
   "execution_count": 41,
   "metadata": {},
   "outputs": [],
   "source": [
    "def validate_model(model, iterator, criterion):\n",
    "    \n",
    "    epoch_loss = 0\n",
    "    epoch_acc = 0 \n",
    "    epoch_f1 = 0; epoch_precision = 0 ; epoch_recall = 0\n",
    "    model.eval()\n",
    "    with torch.no_grad():\n",
    "        for x ,y  in iterator:\n",
    "\n",
    "            predictions = model(x)#.squeeze(1)\n",
    "            loss = criterion(predictions,y)\n",
    "            acc = binary_accuracy(predictions, y) ; f1 , precision , recall = f1_score(predictions , y)\n",
    "            epoch_loss += loss.item()\n",
    "            epoch_acc += acc.item()\n",
    "            epoch_f1 += f1.item()   ; epoch_precision += precision.item()  ; epoch_recall += recall.item()\n",
    "    return epoch_loss / len(iterator), epoch_acc / len(iterator) , epoch_f1/len(iterator), epoch_precision/len(iterator), epoch_recall/len(iterator)"
   ]
  },
  {
   "cell_type": "code",
   "execution_count": 42,
   "metadata": {},
   "outputs": [],
   "source": [
    "def init_weights(m):\n",
    "    if type(m) == nn.Linear:\n",
    "        torch.nn.init.xavier_uniform(m.weight)\n",
    "        m.bias.data.fill_(0.01)\n",
    "\n",
    "        \n",
    "weight_list =  [1/df_data_ratio[df_data_ratio['index']==c]['value'].values[0]  for c in mlb.classes_]\n",
    "weights = torch.tensor( weight_list)\n",
    "weights =weights.to(dev)\n",
    "\n",
    "from torch import optim\n"
   ]
  },
  {
   "cell_type": "markdown",
   "metadata": {},
   "source": [
    "### Apply grid search on LR , Weight Decay , Dropout parameters , save the parameters with best f1-score on validatation data ."
   ]
  },
  {
   "cell_type": "code",
   "execution_count": 43,
   "metadata": {},
   "outputs": [],
   "source": [
    "import random \n",
    "random.seed(42)\n",
    "torch.manual_seed(42)\n",
    "torch.cuda.manual_seed(42)"
   ]
  },
  {
   "cell_type": "code",
   "execution_count": 245,
   "metadata": {},
   "outputs": [
    {
     "ename": "NameError",
     "evalue": "name 'train' is not defined",
     "output_type": "error",
     "traceback": [
      "\u001b[0;31m---------------------------------------------------------------------------\u001b[0m",
      "\u001b[0;31mNameError\u001b[0m                                 Traceback (most recent call last)",
      "\u001b[0;32m<ipython-input-245-9f6f1e16186d>\u001b[0m in \u001b[0;36m<module>\u001b[0;34m\u001b[0m\n\u001b[1;32m      6\u001b[0m \u001b[0;34m\u001b[0m\u001b[0m\n\u001b[1;32m      7\u001b[0m \u001b[0;34m\u001b[0m\u001b[0m\n\u001b[0;32m----> 8\u001b[0;31m     \u001b[0mtrain_loss\u001b[0m\u001b[0;34m,\u001b[0m \u001b[0mtrain_acc\u001b[0m \u001b[0;34m=\u001b[0m \u001b[0mtrain\u001b[0m\u001b[0;34m(\u001b[0m\u001b[0mmodel\u001b[0m\u001b[0;34m,\u001b[0m \u001b[0mtrain_iterator\u001b[0m\u001b[0;34m,\u001b[0m \u001b[0moptimizer\u001b[0m\u001b[0;34m,\u001b[0m \u001b[0mcriterion\u001b[0m\u001b[0;34m)\u001b[0m\u001b[0;34m\u001b[0m\u001b[0;34m\u001b[0m\u001b[0m\n\u001b[0m\u001b[1;32m      9\u001b[0m     \u001b[0mvalid_loss\u001b[0m\u001b[0;34m,\u001b[0m \u001b[0mvalid_acc\u001b[0m \u001b[0;34m=\u001b[0m \u001b[0mevaluate\u001b[0m\u001b[0;34m(\u001b[0m\u001b[0mmodel\u001b[0m\u001b[0;34m,\u001b[0m \u001b[0mvalid_iterator\u001b[0m\u001b[0;34m,\u001b[0m \u001b[0mcriterion\u001b[0m\u001b[0;34m)\u001b[0m\u001b[0;34m\u001b[0m\u001b[0;34m\u001b[0m\u001b[0m\n\u001b[1;32m     10\u001b[0m \u001b[0;34m\u001b[0m\u001b[0m\n",
      "\u001b[0;31mNameError\u001b[0m: name 'train' is not defined"
     ]
    }
   ],
   "source": [
    "best_valid_f1 = -float('inf') ; best_valid_loss = float('inf')\n",
    "loss_func = nn.BCEWithLogitsLoss(weight=weights) \n",
    "loss_func = loss_func.to(dev)\n",
    "for drp in [0.2, 0.3,0.4,0.5,0.6]:\n",
    "    for wd in [0.1 , 0.05 , 0.01 , 0.005 , 0.001]:\n",
    "        for learning_rate in [1e-2 , 5e-3 , 1e-3]:\n",
    "            model = Model(drp); model.apply(init_weights)\n",
    "            model = model.to(dev)\n",
    "            optimizer = optim.Adam(model.parameters() , lr = learning_rate, weight_decay=wd) #[a+'_pred' for a in aspects]\n",
    "            model = model.to(dev)\n",
    "            epochs = 10\n",
    "            for epoch in range(1, epochs + 1):\n",
    "                train_loss , train_acc , train_f1 , train_precision , train_recall = train_model(model, train_dl, optimizer, loss_func)\n",
    "                valid_loss , valid_acc , valid_f1 , valid_precision , valid_recall  = validate_model(model, valid_dl, loss_func)\n",
    "                if (valid_loss < best_valid_loss) & (valid_f1 > best_valid_f1)  & (abs(train_f1- valid_f1) <= 0.05):\n",
    "                    best_valid_f1 = valid_f1 ; best_valid_loss = valid_loss\n",
    "                    print('train data' , train_acc , train_f1 , train_precision , train_recall)\n",
    "                    print('valid data' , valid_acc ,  valid_f1 , valid_precision , valid_recall)\n",
    "\n",
    "\n",
    "                    print(\"Parameters: \" ,'Dropout: ' ,  drp , 'weight decay: ' ,wd ,' learning rate : ' ,learning_rate )\n",
    "                    if os.path.isfile('utils/multi_label_problem.pt'):\n",
    "                        os.remove('utils/multi_label_problem.pt') ; print('chk')\n",
    "                                           \n",
    "                    torch.save(model.state_dict(), 'utils/multi_label_problem.pt')"
   ]
  },
  {
   "cell_type": "code",
   "execution_count": 45,
   "metadata": {},
   "outputs": [
    {
     "data": {
      "text/plain": [
       "(1.7336950500806172,\n",
       " 0.9144570827484131,\n",
       " 0.5815974275271097,\n",
       " 0.6596053044001261,\n",
       " 0.5424553056557974)"
      ]
     },
     "execution_count": 45,
     "metadata": {},
     "output_type": "execute_result"
    }
   ],
   "source": [
    "\n",
    "loss_func = nn.BCEWithLogitsLoss(weight=weights) \n",
    "loss_func = loss_func.to(dev)\n",
    "model = Model(0.5)\n",
    "model.load_state_dict(torch.load('utils/multi_label_problem.pt'))\n",
    "model = model.to(dev)\n",
    "validate_model(model, valid_dl, loss_func)"
   ]
  },
  {
   "cell_type": "code",
   "execution_count": 46,
   "metadata": {},
   "outputs": [],
   "source": [
    "val_preds = []\n",
    "val_label = []\n",
    "with torch.no_grad():\n",
    "    for x ,y  in valid_dl:\n",
    "        predictions = model(x)\n",
    "        rounded_preds = torch.round(torch.sigmoid(predictions))  #torch.round\n",
    "        preds = rounded_preds.data.cpu().numpy()\n",
    "        val_preds.append(preds)\n",
    "        val_label.append(y.data.cpu().numpy())\n",
    "\n",
    "# from sklearn.metrics import f1_score , confusion_matrix , accuracy_score , precision_score , recall_score , roc_auc_score\n",
    "# print(\"F1 score\",f1_score(np.vstack(val_label)  , np.vstack(val_preds) , average='macro' ))\n",
    "# print(\"Precision score\",precision_score( np.vstack(val_label)  , np.vstack(val_preds) , average='macro' ))\n",
    "# print(\"Recall score\",recall_score(np.vstack(val_label)  , np.vstack(val_preds) , average='macro' ))\n",
    "# print(\"Accuracy score\" , np.mean( np.vstack(val_preds) == np.vstack(val_label)))"
   ]
  },
  {
   "cell_type": "code",
   "execution_count": 53,
   "metadata": {},
   "outputs": [
    {
     "data": {
      "text/plain": [
       "array(['AMBIENCE', 'DRINKS', 'FOOD', 'LOCATION', 'RESTAURANT', 'SERVICE'],\n",
       "      dtype=object)"
      ]
     },
     "execution_count": 53,
     "metadata": {},
     "output_type": "execute_result"
    }
   ],
   "source": [
    "mlb.classes_"
   ]
  },
  {
   "cell_type": "code",
   "execution_count": 59,
   "metadata": {},
   "outputs": [
    {
     "name": "stderr",
     "output_type": "stream",
     "text": [
      "/home/FRACTAL/swati.tiwari/anaconda3/envs/fastai38/lib/python3.7/site-packages/ipykernel_launcher.py:1: SettingWithCopyWarning: \n",
      "A value is trying to be set on a copy of a slice from a DataFrame.\n",
      "Try using .loc[row_indexer,col_indexer] = value instead\n",
      "\n",
      "See the caveats in the documentation: http://pandas.pydata.org/pandas-docs/stable/indexing.html#indexing-view-versus-copy\n",
      "  \"\"\"Entry point for launching an IPython kernel.\n"
     ]
    }
   ],
   "source": [
    "val_aspects['aspects_pred'] = pd.Series(mlb.inverse_transform(np.vstack(val_preds)))"
   ]
  },
  {
   "cell_type": "code",
   "execution_count": 61,
   "metadata": {},
   "outputs": [],
   "source": [
    "test_preds = []\n",
    "true_label = []\n",
    "with torch.no_grad():\n",
    "    for x ,y  in test_dl:\n",
    "        predictions = model(x)#.squeeze(1)\n",
    "        rounded_preds = torch.round(torch.sigmoid(predictions))  #torch.round\n",
    "        preds = rounded_preds.data.cpu().numpy()\n",
    "        test_preds.append(preds)\n",
    "        true_label.append(y.data.cpu().numpy())"
   ]
  },
  {
   "cell_type": "code",
   "execution_count": 62,
   "metadata": {},
   "outputs": [],
   "source": [
    "du_multi_aspects['aspects_pred']  = pd.Series(mlb.inverse_transform(np.vstack(test_preds)))"
   ]
  },
  {
   "cell_type": "code",
   "execution_count": 63,
   "metadata": {},
   "outputs": [
    {
     "data": {
      "text/html": [
       "<div>\n",
       "<style scoped>\n",
       "    .dataframe tbody tr th:only-of-type {\n",
       "        vertical-align: middle;\n",
       "    }\n",
       "\n",
       "    .dataframe tbody tr th {\n",
       "        vertical-align: top;\n",
       "    }\n",
       "\n",
       "    .dataframe thead th {\n",
       "        text-align: right;\n",
       "    }\n",
       "</style>\n",
       "<table border=\"1\" class=\"dataframe\">\n",
       "  <thead>\n",
       "    <tr style=\"text-align: right;\">\n",
       "      <th></th>\n",
       "      <th>text</th>\n",
       "      <th>aspects2</th>\n",
       "      <th>polarities2</th>\n",
       "      <th>aspects_pred</th>\n",
       "    </tr>\n",
       "  </thead>\n",
       "  <tbody>\n",
       "    <tr>\n",
       "      <th>0</th>\n",
       "      <td>Lange wachttijd.</td>\n",
       "      <td>[SERVICE]</td>\n",
       "      <td>[negative]</td>\n",
       "      <td>(RESTAURANT, SERVICE)</td>\n",
       "    </tr>\n",
       "    <tr>\n",
       "      <th>1</th>\n",
       "      <td>Zelfde dessert, 2 dagen na mekaar.</td>\n",
       "      <td>[FOOD]</td>\n",
       "      <td>[negative]</td>\n",
       "      <td>(FOOD,)</td>\n",
       "    </tr>\n",
       "    <tr>\n",
       "      <th>2</th>\n",
       "      <td>Ontbijtbuffet was tip top in orde.</td>\n",
       "      <td>[FOOD]</td>\n",
       "      <td>[positive]</td>\n",
       "      <td>(FOOD,)</td>\n",
       "    </tr>\n",
       "    <tr>\n",
       "      <th>3</th>\n",
       "      <td>Niet goedkoop!</td>\n",
       "      <td>[RESTAURANT]</td>\n",
       "      <td>[negative]</td>\n",
       "      <td>(RESTAURANT,)</td>\n",
       "    </tr>\n",
       "    <tr>\n",
       "      <th>4</th>\n",
       "      <td>Maar eens in het kasteelrestaurant aangekomen werd het een feest.</td>\n",
       "      <td>[RESTAURANT]</td>\n",
       "      <td>[positive]</td>\n",
       "      <td>(RESTAURANT,)</td>\n",
       "    </tr>\n",
       "  </tbody>\n",
       "</table>\n",
       "</div>"
      ],
      "text/plain": [
       "                                                                text  \\\n",
       "0  Lange wachttijd.                                                    \n",
       "1  Zelfde dessert, 2 dagen na mekaar.                                  \n",
       "2  Ontbijtbuffet was tip top in orde.                                  \n",
       "3  Niet goedkoop!                                                      \n",
       "4  Maar eens in het kasteelrestaurant aangekomen werd het een feest.   \n",
       "\n",
       "       aspects2 polarities2           aspects_pred  \n",
       "0  [SERVICE]     [negative]  (RESTAURANT, SERVICE)  \n",
       "1  [FOOD]        [negative]  (FOOD,)                \n",
       "2  [FOOD]        [positive]  (FOOD,)                \n",
       "3  [RESTAURANT]  [negative]  (RESTAURANT,)          \n",
       "4  [RESTAURANT]  [positive]  (RESTAURANT,)          "
      ]
     },
     "execution_count": 63,
     "metadata": {},
     "output_type": "execute_result"
    }
   ],
   "source": [
    "du_multi_aspects.head()"
   ]
  },
  {
   "cell_type": "code",
   "execution_count": 48,
   "metadata": {},
   "outputs": [
    {
     "name": "stdout",
     "output_type": "stream",
     "text": [
      "F1 score 0.5464933540468624\n",
      "Accuracy score 0.8764869653252341\n",
      "Precision score 0.6988147708882922\n",
      "Recall score 0.48241459832236133\n"
     ]
    },
    {
     "name": "stderr",
     "output_type": "stream",
     "text": [
      "/home/FRACTAL/swati.tiwari/anaconda3/envs/fastai38/lib/python3.7/site-packages/ipykernel_launcher.py:10: FutureWarning: Method .as_matrix will be removed in a future version. Use .values instead.\n",
      "  # Remove the CWD from sys.path while we load stuff.\n",
      "/home/FRACTAL/swati.tiwari/anaconda3/envs/fastai38/lib/python3.7/site-packages/ipykernel_launcher.py:11: FutureWarning: Method .as_matrix will be removed in a future version. Use .values instead.\n",
      "  # This is added back by InteractiveShellApp.init_path()\n",
      "/home/FRACTAL/swati.tiwari/anaconda3/envs/fastai38/lib/python3.7/site-packages/ipykernel_launcher.py:12: FutureWarning: Method .as_matrix will be removed in a future version. Use .values instead.\n",
      "  if sys.path[0] == '':\n",
      "/home/FRACTAL/swati.tiwari/anaconda3/envs/fastai38/lib/python3.7/site-packages/ipykernel_launcher.py:13: FutureWarning: Method .as_matrix will be removed in a future version. Use .values instead.\n",
      "  del sys.path[0]\n"
     ]
    }
   ],
   "source": [
    "aspects = mlb.classes_.tolist()\n",
    "\"\"\"\n",
    "Merging prediction value with original test data and observe the metrics on overall level\n",
    "\"\"\"\n",
    "dutch_pred = pd.DataFrame(np.vstack(test_preds) ,index=du_multi_aspects.index , columns= [a+'_pred' for a in aspects])\n",
    "dutch_pred2 = pd.merge(du_multi_aspects, dutch_pred , left_index=True ,right_index = True)\n",
    "\n",
    "from sklearn.metrics import f1_score , confusion_matrix , accuracy_score , precision_score , recall_score , roc_auc_score\n",
    "\n",
    "print(\"F1 score\",f1_score(y_du , dutch_pred2[[a+'_pred' for a in aspects]].as_matrix() , average='macro' ))\n",
    "print(\"Accuracy score\" , np.mean(y_du == dutch_pred2[[a+'_pred' for a in aspects]].as_matrix()))\n",
    "print(\"Precision score\",precision_score(y_du , dutch_pred2[[a+'_pred' for a in aspects]].as_matrix() , average='macro' ))\n",
    "print(\"Recall score\",recall_score(y_du , dutch_pred2[[a+'_pred' for a in aspects]].as_matrix() , average='macro' ))\n"
   ]
  },
  {
   "cell_type": "code",
   "execution_count": 64,
   "metadata": {},
   "outputs": [],
   "source": [
    "test_preds = []\n",
    "true_label = []\n",
    "with torch.no_grad():\n",
    "    for x ,y  in test_dl2:\n",
    "        predictions = model(x)#.squeeze(1)\n",
    "        rounded_preds = torch.round(torch.sigmoid(predictions))  #torch.round\n",
    "        preds = rounded_preds.data.cpu().numpy()\n",
    "        test_preds.append(preds)\n",
    "        true_label.append(y.data.cpu().numpy())\n",
    "        "
   ]
  },
  {
   "cell_type": "code",
   "execution_count": 65,
   "metadata": {},
   "outputs": [],
   "source": [
    "spanish_multi_aspects['aspects_pred']  = pd.Series(mlb.inverse_transform(np.vstack(test_preds)))"
   ]
  },
  {
   "cell_type": "code",
   "execution_count": 49,
   "metadata": {},
   "outputs": [
    {
     "name": "stdout",
     "output_type": "stream",
     "text": [
      "F1 score 0.5536945586868443\n",
      "Accuracy score 0.8819188191881919\n",
      "Precision score 0.7265248425337454\n",
      "Recall score 0.47608903361016713\n"
     ]
    },
    {
     "name": "stderr",
     "output_type": "stream",
     "text": [
      "/home/FRACTAL/swati.tiwari/anaconda3/envs/fastai38/lib/python3.7/site-packages/ipykernel_launcher.py:21: FutureWarning: Method .as_matrix will be removed in a future version. Use .values instead.\n",
      "/home/FRACTAL/swati.tiwari/anaconda3/envs/fastai38/lib/python3.7/site-packages/ipykernel_launcher.py:22: FutureWarning: Method .as_matrix will be removed in a future version. Use .values instead.\n",
      "/home/FRACTAL/swati.tiwari/anaconda3/envs/fastai38/lib/python3.7/site-packages/ipykernel_launcher.py:23: FutureWarning: Method .as_matrix will be removed in a future version. Use .values instead.\n",
      "/home/FRACTAL/swati.tiwari/anaconda3/envs/fastai38/lib/python3.7/site-packages/ipykernel_launcher.py:24: FutureWarning: Method .as_matrix will be removed in a future version. Use .values instead.\n"
     ]
    }
   ],
   "source": [
    "\n",
    "        \n",
    "aspects = mlb.classes_.tolist()\n",
    "\"\"\"\n",
    "Merging prediction value with original test data and observe the metrics on overall level\n",
    "\"\"\"\n",
    "spanish_pred = pd.DataFrame(np.vstack(test_preds) ,index=spanish_multi_aspects.index , columns= [a+'_pred' for a in aspects])\n",
    "spanish_pred2 = pd.merge(spanish_multi_aspects, spanish_pred , left_index=True ,right_index = True)\n",
    "\n",
    "from sklearn.metrics import f1_score , confusion_matrix , accuracy_score , precision_score , recall_score , roc_auc_score\n",
    "\n",
    "print(\"F1 score\",f1_score(y_spainish , spanish_pred2[[a+'_pred' for a in aspects]].as_matrix() , average='macro' ))\n",
    "print(\"Accuracy score\" , np.mean(y_spainish == spanish_pred2[[a+'_pred' for a in aspects]].as_matrix()))\n",
    "print(\"Precision score\",precision_score(y_spainish , spanish_pred2[[a+'_pred' for a in aspects]].as_matrix() , average='macro' ))\n",
    "print(\"Recall score\",recall_score(y_spainish , spanish_pred2[[a+'_pred' for a in aspects]].as_matrix() , average='macro' ))"
   ]
  },
  {
   "cell_type": "code",
   "execution_count": 107,
   "metadata": {},
   "outputs": [
    {
     "name": "stderr",
     "output_type": "stream",
     "text": [
      "/home/FRACTAL/swati.tiwari/anaconda3/envs/fastai38/lib/python3.7/site-packages/ipykernel_launcher.py:1: FutureWarning: Method .as_matrix will be removed in a future version. Use .values instead.\n",
      "  \"\"\"Entry point for launching an IPython kernel.\n"
     ]
    }
   ],
   "source": [
    "all_pred = dutch_pred2[dutch_pred2.columns[-6:]].as_matrix()\n",
    "all_true = y_du\n",
    "true_pos = (all_pred * all_true).sum(axis = 0)\n",
    "precision = true_pos/all_pred.sum(axis = 0)\n",
    "recall = true_pos/all_true.sum(axis = 0)\n",
    "accuracy = all_pred.sum(axis = 0)/ all_true.sum(axis =0)"
   ]
  },
  {
   "cell_type": "code",
   "execution_count": 108,
   "metadata": {},
   "outputs": [
    {
     "data": {
      "text/plain": [
       "(array([0.68085106, 0.8490566 , 0.76570048, 0.20930233, 0.66349206,\n",
       "        0.86646884]),\n",
       " array([0.35955056, 0.48913043, 0.57952468, 0.33333333, 0.59206799,\n",
       "        0.6952381 ]))"
      ]
     },
     "execution_count": 108,
     "metadata": {},
     "output_type": "execute_result"
    }
   ],
   "source": [
    "precision , recall"
   ]
  },
  {
   "cell_type": "code",
   "execution_count": 109,
   "metadata": {},
   "outputs": [
    {
     "data": {
      "text/plain": [
       "array([0.47058824, 0.62068966, 0.65972945, 0.25714286, 0.6257485 ,\n",
       "       0.77146631])"
      ]
     },
     "execution_count": 109,
     "metadata": {},
     "output_type": "execute_result"
    }
   ],
   "source": [
    "(2*precision*recall / (precision + recall))"
   ]
  },
  {
   "cell_type": "code",
   "execution_count": 77,
   "metadata": {},
   "outputs": [
    {
     "data": {
      "text/html": [
       "<div>\n",
       "<style scoped>\n",
       "    .dataframe tbody tr th:only-of-type {\n",
       "        vertical-align: middle;\n",
       "    }\n",
       "\n",
       "    .dataframe tbody tr th {\n",
       "        vertical-align: top;\n",
       "    }\n",
       "\n",
       "    .dataframe thead th {\n",
       "        text-align: right;\n",
       "    }\n",
       "</style>\n",
       "<table border=\"1\" class=\"dataframe\">\n",
       "  <thead>\n",
       "    <tr style=\"text-align: right;\">\n",
       "      <th></th>\n",
       "      <th>text</th>\n",
       "      <th>aspects2</th>\n",
       "      <th>polarities2</th>\n",
       "      <th>aspects_pred</th>\n",
       "    </tr>\n",
       "  </thead>\n",
       "  <tbody>\n",
       "    <tr>\n",
       "      <th>0</th>\n",
       "      <td>Nos sentimos muy a gusto.</td>\n",
       "      <td>[RESTAURANT]</td>\n",
       "      <td>[positive]</td>\n",
       "      <td>[RESTAURANT]</td>\n",
       "    </tr>\n",
       "    <tr>\n",
       "      <th>1</th>\n",
       "      <td>Buen servicio, ambiente Acogedor  y tranquilo, comida bien.</td>\n",
       "      <td>[SERVICE, AMBIENCE, FOOD]</td>\n",
       "      <td>[positive, positive, positive]</td>\n",
       "      <td>[AMBIENCE, SERVICE]</td>\n",
       "    </tr>\n",
       "  </tbody>\n",
       "</table>\n",
       "</div>"
      ],
      "text/plain": [
       "                                                          text  \\\n",
       "0  Nos sentimos muy a gusto.                                     \n",
       "1  Buen servicio, ambiente Acogedor  y tranquilo, comida bien.   \n",
       "\n",
       "                    aspects2                     polarities2  \\\n",
       "0  [RESTAURANT]               [positive]                       \n",
       "1  [SERVICE, AMBIENCE, FOOD]  [positive, positive, positive]   \n",
       "\n",
       "          aspects_pred  \n",
       "0  [RESTAURANT]         \n",
       "1  [AMBIENCE, SERVICE]  "
      ]
     },
     "execution_count": 77,
     "metadata": {},
     "output_type": "execute_result"
    }
   ],
   "source": [
    "spanish_multi_aspects.head(2)"
   ]
  },
  {
   "cell_type": "code",
   "execution_count": 76,
   "metadata": {},
   "outputs": [
    {
     "data": {
      "text/html": [
       "<div>\n",
       "<style scoped>\n",
       "    .dataframe tbody tr th:only-of-type {\n",
       "        vertical-align: middle;\n",
       "    }\n",
       "\n",
       "    .dataframe tbody tr th {\n",
       "        vertical-align: top;\n",
       "    }\n",
       "\n",
       "    .dataframe thead th {\n",
       "        text-align: right;\n",
       "    }\n",
       "</style>\n",
       "<table border=\"1\" class=\"dataframe\">\n",
       "  <thead>\n",
       "    <tr style=\"text-align: right;\">\n",
       "      <th></th>\n",
       "      <th>text</th>\n",
       "      <th>aspects2</th>\n",
       "      <th>polarities2</th>\n",
       "      <th>aspects_pred</th>\n",
       "    </tr>\n",
       "  </thead>\n",
       "  <tbody>\n",
       "    <tr>\n",
       "      <th>0</th>\n",
       "      <td>Lange wachttijd.</td>\n",
       "      <td>[SERVICE]</td>\n",
       "      <td>[negative]</td>\n",
       "      <td>[RESTAURANT, SERVICE]</td>\n",
       "    </tr>\n",
       "    <tr>\n",
       "      <th>1</th>\n",
       "      <td>Zelfde dessert, 2 dagen na mekaar.</td>\n",
       "      <td>[FOOD]</td>\n",
       "      <td>[negative]</td>\n",
       "      <td>[FOOD]</td>\n",
       "    </tr>\n",
       "  </tbody>\n",
       "</table>\n",
       "</div>"
      ],
      "text/plain": [
       "                                 text   aspects2 polarities2  \\\n",
       "0  Lange wachttijd.                    [SERVICE]  [negative]   \n",
       "1  Zelfde dessert, 2 dagen na mekaar.  [FOOD]     [negative]   \n",
       "\n",
       "            aspects_pred  \n",
       "0  [RESTAURANT, SERVICE]  \n",
       "1  [FOOD]                 "
      ]
     },
     "execution_count": 76,
     "metadata": {},
     "output_type": "execute_result"
    }
   ],
   "source": [
    "du_multi_aspects.head(2)"
   ]
  },
  {
   "cell_type": "code",
   "execution_count": 75,
   "metadata": {},
   "outputs": [
    {
     "data": {
      "text/html": [
       "<div>\n",
       "<style scoped>\n",
       "    .dataframe tbody tr th:only-of-type {\n",
       "        vertical-align: middle;\n",
       "    }\n",
       "\n",
       "    .dataframe tbody tr th {\n",
       "        vertical-align: top;\n",
       "    }\n",
       "\n",
       "    .dataframe thead th {\n",
       "        text-align: right;\n",
       "    }\n",
       "</style>\n",
       "<table border=\"1\" class=\"dataframe\">\n",
       "  <thead>\n",
       "    <tr style=\"text-align: right;\">\n",
       "      <th></th>\n",
       "      <th>text</th>\n",
       "      <th>aspects2</th>\n",
       "      <th>polarities2</th>\n",
       "      <th>aspects_pred</th>\n",
       "    </tr>\n",
       "  </thead>\n",
       "  <tbody>\n",
       "    <tr>\n",
       "      <th>0</th>\n",
       "      <td>The lobster sandwich is $24 and although it was good it was not nearly enough to warrant that price.</td>\n",
       "      <td>[FOOD]</td>\n",
       "      <td>[positive]</td>\n",
       "      <td>[FOOD]</td>\n",
       "    </tr>\n",
       "    <tr>\n",
       "      <th>1</th>\n",
       "      <td>I go out to eat and like my courses, servers are patient and never rush courses or force another drink.</td>\n",
       "      <td>[SERVICE]</td>\n",
       "      <td>[positive]</td>\n",
       "      <td>[SERVICE]</td>\n",
       "    </tr>\n",
       "  </tbody>\n",
       "</table>\n",
       "</div>"
      ],
      "text/plain": [
       "                                                                                                      text  \\\n",
       "0  The lobster sandwich is $24 and although it was good it was not nearly enough to warrant that price.      \n",
       "1  I go out to eat and like my courses, servers are patient and never rush courses or force another drink.   \n",
       "\n",
       "    aspects2 polarities2 aspects_pred  \n",
       "0  [FOOD]     [positive]  [FOOD]       \n",
       "1  [SERVICE]  [positive]  [SERVICE]    "
      ]
     },
     "execution_count": 75,
     "metadata": {},
     "output_type": "execute_result"
    }
   ],
   "source": [
    "val_aspects.head(2)"
   ]
  },
  {
   "cell_type": "code",
   "execution_count": 74,
   "metadata": {},
   "outputs": [
    {
     "name": "stderr",
     "output_type": "stream",
     "text": [
      "/home/FRACTAL/swati.tiwari/anaconda3/envs/fastai38/lib/python3.7/site-packages/ipykernel_launcher.py:1: SettingWithCopyWarning: \n",
      "A value is trying to be set on a copy of a slice from a DataFrame.\n",
      "Try using .loc[row_indexer,col_indexer] = value instead\n",
      "\n",
      "See the caveats in the documentation: http://pandas.pydata.org/pandas-docs/stable/indexing.html#indexing-view-versus-copy\n",
      "  \"\"\"Entry point for launching an IPython kernel.\n"
     ]
    }
   ],
   "source": [
    "val_aspects['aspects_pred'] = val_aspects['aspects_pred'].apply(lambda x: list(x))\n",
    "du_multi_aspects['aspects_pred'] = du_multi_aspects['aspects_pred'].apply(lambda x: list(x))\n",
    "spanish_multi_aspects['aspects_pred'] = spanish_multi_aspects['aspects_pred'].apply(lambda x: list(x))"
   ]
  },
  {
   "cell_type": "code",
   "execution_count": 78,
   "metadata": {},
   "outputs": [],
   "source": []
  },
  {
   "cell_type": "code",
   "execution_count": 106,
   "metadata": {},
   "outputs": [],
   "source": [
    "#train_df = val_aspects.copy()\n",
    "def ungrp(train_df):\n",
    "    asp_df = train_df.aspects2.apply(pd.Series).merge(train_df , right_index = True , left_index = True)\\\n",
    "    .drop(['aspects2' , 'polarities2' , 'aspects_pred'] ,axis = 1)\\\n",
    "    .melt(id_vars = ['text']).drop(['variable'] , axis = 1).dropna()\n",
    "\n",
    "    polarity_df = train_df.polarities2.apply(pd.Series).merge(train_df , right_index = True , left_index = True)\\\n",
    "    .drop(['aspects2' , 'polarities2' , 'aspects_pred'] ,axis = 1)\\\n",
    "    .melt(id_vars = ['text']).drop(['variable'] , axis = 1).dropna()\n",
    "\n",
    "    train_df_ungrp = pd.merge(asp_df , polarity_df['value'] , left_index = True , right_index = True ,suffixes=('_aspects' , '_polarities'))\n",
    "    train_df_ungrp.rename(columns={'value_aspects' : 'aspects' , 'value_polarities':'polarities'} , inplace=True)\n",
    "\n",
    "    train_df_ungrp2 = pd.merge(train_df_ungrp , train_df[[ 'text' ,'aspects_pred']] , on ='text')\n",
    "    return train_df_ungrp2\n",
    "#val_aspects_ungrp = train_df_ungrp2.copy()\n"
   ]
  },
  {
   "cell_type": "code",
   "execution_count": 108,
   "metadata": {},
   "outputs": [],
   "source": [
    "val_aspects_ungrp  = ungrp(val_aspects)"
   ]
  },
  {
   "cell_type": "code",
   "execution_count": 111,
   "metadata": {},
   "outputs": [],
   "source": [
    "du_aspects_ungrp = ungrp(du_multi_aspects)\n",
    "sp_aspects_ungrp= ungrp(spanish_multi_aspects)"
   ]
  },
  {
   "cell_type": "code",
   "execution_count": 114,
   "metadata": {},
   "outputs": [
    {
     "data": {
      "text/plain": [
       "((1629, 4), (2321, 4))"
      ]
     },
     "execution_count": 114,
     "metadata": {},
     "output_type": "execute_result"
    }
   ],
   "source": [
    "du_aspects_ungrp.shape , sp_aspects_ungrp.shape"
   ]
  },
  {
   "cell_type": "code",
   "execution_count": 116,
   "metadata": {},
   "outputs": [],
   "source": [
    "def check_ind(x):\n",
    "    asp = x['aspects_pred']\n",
    "    if x['aspects'] in asp:\n",
    "        return 1\n",
    "    else:\n",
    "        return 0"
   ]
  },
  {
   "cell_type": "code",
   "execution_count": 121,
   "metadata": {},
   "outputs": [],
   "source": [
    "val_aspects_ungrp['ind'] = val_aspects_ungrp.apply(lambda x: check_ind(x) , axis = 1)\n",
    "du_aspects_ungrp['ind'] = du_aspects_ungrp.apply(lambda x: check_ind(x) , axis = 1)\n",
    "sp_aspects_ungrp['ind'] = sp_aspects_ungrp.apply(lambda x: check_ind(x) , axis = 1)"
   ]
  },
  {
   "cell_type": "code",
   "execution_count": 122,
   "metadata": {},
   "outputs": [
    {
     "data": {
      "text/plain": [
       "(0.7194244604316546, 0.6224677716390423, 0.6432572167169324)"
      ]
     },
     "execution_count": 122,
     "metadata": {},
     "output_type": "execute_result"
    }
   ],
   "source": [
    "val_aspects_ungrp.ind.mean() , du_aspects_ungrp.ind.mean() , sp_aspects_ungrp.ind.mean()"
   ]
  },
  {
   "cell_type": "code",
   "execution_count": 128,
   "metadata": {},
   "outputs": [],
   "source": [
    "def ungrp2(train_df):\n",
    "    asp_df = train_df.aspects2.apply(pd.Series).merge(train_df , right_index = True , left_index = True)\\\n",
    "    .drop(['aspects2' , 'polarities2'] ,axis = 1)\\\n",
    "    .melt(id_vars = ['text']).drop(['variable'] , axis = 1).dropna()\n",
    "\n",
    "    polarity_df = train_df.polarities2.apply(pd.Series).merge(train_df , right_index = True , left_index = True)\\\n",
    "    .drop(['aspects2' , 'polarities2'] ,axis = 1)\\\n",
    "    .melt(id_vars = ['text']).drop(['variable'] , axis = 1).dropna()\n",
    "\n",
    "    train_df_ungrp = pd.merge(asp_df , polarity_df['value'] , left_index = True , right_index = True ,suffixes=('_aspects' , '_polarities'))\n",
    "    train_df_ungrp.rename(columns={'value_aspects' : 'aspects' , 'value_polarities':'polarities'} , inplace=True)\n",
    "\n",
    "    return train_df_ungrp\n",
    "train_aspects_ungrp = ungrp2(train_aspects)"
   ]
  },
  {
   "cell_type": "code",
   "execution_count": 129,
   "metadata": {},
   "outputs": [
    {
     "data": {
      "text/html": [
       "<div>\n",
       "<style scoped>\n",
       "    .dataframe tbody tr th:only-of-type {\n",
       "        vertical-align: middle;\n",
       "    }\n",
       "\n",
       "    .dataframe tbody tr th {\n",
       "        vertical-align: top;\n",
       "    }\n",
       "\n",
       "    .dataframe thead th {\n",
       "        text-align: right;\n",
       "    }\n",
       "</style>\n",
       "<table border=\"1\" class=\"dataframe\">\n",
       "  <thead>\n",
       "    <tr style=\"text-align: right;\">\n",
       "      <th></th>\n",
       "      <th>text</th>\n",
       "      <th>aspects</th>\n",
       "      <th>polarities</th>\n",
       "    </tr>\n",
       "  </thead>\n",
       "  <tbody>\n",
       "    <tr>\n",
       "      <th>0</th>\n",
       "      <td>The food was very good, a great deal, and the place its self was great.</td>\n",
       "      <td>AMBIENCE</td>\n",
       "      <td>positive</td>\n",
       "    </tr>\n",
       "    <tr>\n",
       "      <th>1</th>\n",
       "      <td>Terrible would be a compliment!</td>\n",
       "      <td>RESTAURANT</td>\n",
       "      <td>negative</td>\n",
       "    </tr>\n",
       "    <tr>\n",
       "      <th>2</th>\n",
       "      <td>The place is a lot of fun.</td>\n",
       "      <td>AMBIENCE</td>\n",
       "      <td>positive</td>\n",
       "    </tr>\n",
       "    <tr>\n",
       "      <th>3</th>\n",
       "      <td>However, I think Jeckll and Hydes t is one of those places that is fun to do once.</td>\n",
       "      <td>RESTAURANT</td>\n",
       "      <td>positive</td>\n",
       "    </tr>\n",
       "    <tr>\n",
       "      <th>4</th>\n",
       "      <td>The service was friendly and the atmosphere was casual.</td>\n",
       "      <td>SERVICE</td>\n",
       "      <td>positive</td>\n",
       "    </tr>\n",
       "  </tbody>\n",
       "</table>\n",
       "</div>"
      ],
      "text/plain": [
       "                                                                                 text  \\\n",
       "0  The food was very good, a great deal, and the place its self was great.              \n",
       "1  Terrible would be a compliment!                                                      \n",
       "2  The place is a lot of fun.                                                           \n",
       "3  However, I think Jeckll and Hydes t is one of those places that is fun to do once.   \n",
       "4  The service was friendly and the atmosphere was casual.                              \n",
       "\n",
       "      aspects polarities  \n",
       "0  AMBIENCE    positive   \n",
       "1  RESTAURANT  negative   \n",
       "2  AMBIENCE    positive   \n",
       "3  RESTAURANT  positive   \n",
       "4  SERVICE     positive   "
      ]
     },
     "execution_count": 129,
     "metadata": {},
     "output_type": "execute_result"
    }
   ],
   "source": [
    "train_aspects_ungrp.head()"
   ]
  },
  {
   "cell_type": "code",
   "execution_count": 423,
   "metadata": {},
   "outputs": [
    {
     "data": {
      "text/html": [
       "<div>\n",
       "<style scoped>\n",
       "    .dataframe tbody tr th:only-of-type {\n",
       "        vertical-align: middle;\n",
       "    }\n",
       "\n",
       "    .dataframe tbody tr th {\n",
       "        vertical-align: top;\n",
       "    }\n",
       "\n",
       "    .dataframe thead th {\n",
       "        text-align: right;\n",
       "    }\n",
       "</style>\n",
       "<table border=\"1\" class=\"dataframe\">\n",
       "  <thead>\n",
       "    <tr style=\"text-align: right;\">\n",
       "      <th></th>\n",
       "      <th>text</th>\n",
       "      <th>aspects</th>\n",
       "      <th>polarities</th>\n",
       "      <th>aspects_pred</th>\n",
       "      <th>ind</th>\n",
       "    </tr>\n",
       "  </thead>\n",
       "  <tbody>\n",
       "    <tr>\n",
       "      <th>20</th>\n",
       "      <td>Everything was wonderful; food, drinks, staff, mileau.</td>\n",
       "      <td>SERVICE</td>\n",
       "      <td>positive</td>\n",
       "      <td>[DRINKS, FOOD]</td>\n",
       "      <td>0</td>\n",
       "    </tr>\n",
       "    <tr>\n",
       "      <th>21</th>\n",
       "      <td>Everything was wonderful; food, drinks, staff, mileau.</td>\n",
       "      <td>DRINKS</td>\n",
       "      <td>positive</td>\n",
       "      <td>[DRINKS, FOOD]</td>\n",
       "      <td>1</td>\n",
       "    </tr>\n",
       "    <tr>\n",
       "      <th>22</th>\n",
       "      <td>Everything was wonderful; food, drinks, staff, mileau.</td>\n",
       "      <td>RESTAURANT</td>\n",
       "      <td>positive</td>\n",
       "      <td>[DRINKS, FOOD]</td>\n",
       "      <td>0</td>\n",
       "    </tr>\n",
       "    <tr>\n",
       "      <th>23</th>\n",
       "      <td>Everything was wonderful; food, drinks, staff, mileau.</td>\n",
       "      <td>FOOD</td>\n",
       "      <td>positive</td>\n",
       "      <td>[DRINKS, FOOD]</td>\n",
       "      <td>1</td>\n",
       "    </tr>\n",
       "    <tr>\n",
       "      <th>24</th>\n",
       "      <td>Everything was wonderful; food, drinks, staff, mileau.</td>\n",
       "      <td>AMBIENCE</td>\n",
       "      <td>positive</td>\n",
       "      <td>[DRINKS, FOOD]</td>\n",
       "      <td>0</td>\n",
       "    </tr>\n",
       "  </tbody>\n",
       "</table>\n",
       "</div>"
      ],
      "text/plain": [
       "                                                      text     aspects  \\\n",
       "20  Everything was wonderful; food, drinks, staff, mileau.  SERVICE      \n",
       "21  Everything was wonderful; food, drinks, staff, mileau.  DRINKS       \n",
       "22  Everything was wonderful; food, drinks, staff, mileau.  RESTAURANT   \n",
       "23  Everything was wonderful; food, drinks, staff, mileau.  FOOD         \n",
       "24  Everything was wonderful; food, drinks, staff, mileau.  AMBIENCE     \n",
       "\n",
       "   polarities    aspects_pred  ind  \n",
       "20  positive   [DRINKS, FOOD]  0    \n",
       "21  positive   [DRINKS, FOOD]  1    \n",
       "22  positive   [DRINKS, FOOD]  0    \n",
       "23  positive   [DRINKS, FOOD]  1    \n",
       "24  positive   [DRINKS, FOOD]  0    "
      ]
     },
     "execution_count": 423,
     "metadata": {},
     "output_type": "execute_result"
    }
   ],
   "source": [
    "val_aspects_ungrp[val_aspects_ungrp['text']=='Everything was wonderful; food, drinks, staff, mileau.']"
   ]
  },
  {
   "cell_type": "markdown",
   "metadata": {},
   "source": [
    "## Sentiment Classification model"
   ]
  },
  {
   "cell_type": "code",
   "execution_count": 424,
   "metadata": {},
   "outputs": [],
   "source": [
    "val_aspects_ungrp2 = val_aspects_ungrp[val_aspects_ungrp['ind']==1]\n",
    "du_aspects_ungrp2 = du_aspects_ungrp[du_aspects_ungrp['ind']==1]\n",
    "sp_aspects_ungrp2 = sp_aspects_ungrp[sp_aspects_ungrp['ind']==1]"
   ]
  },
  {
   "cell_type": "code",
   "execution_count": 425,
   "metadata": {},
   "outputs": [
    {
     "data": {
      "text/html": [
       "<div>\n",
       "<style scoped>\n",
       "    .dataframe tbody tr th:only-of-type {\n",
       "        vertical-align: middle;\n",
       "    }\n",
       "\n",
       "    .dataframe tbody tr th {\n",
       "        vertical-align: top;\n",
       "    }\n",
       "\n",
       "    .dataframe thead th {\n",
       "        text-align: right;\n",
       "    }\n",
       "</style>\n",
       "<table border=\"1\" class=\"dataframe\">\n",
       "  <thead>\n",
       "    <tr style=\"text-align: right;\">\n",
       "      <th></th>\n",
       "      <th>text</th>\n",
       "      <th>aspects</th>\n",
       "      <th>polarities</th>\n",
       "    </tr>\n",
       "  </thead>\n",
       "  <tbody>\n",
       "    <tr>\n",
       "      <th>0</th>\n",
       "      <td>The lobster sandwich is $24 and although it was good it was not nearly enough to warrant that price.</td>\n",
       "      <td>FOOD</td>\n",
       "      <td>positive</td>\n",
       "    </tr>\n",
       "    <tr>\n",
       "      <th>1</th>\n",
       "      <td>I go out to eat and like my courses, servers are patient and never rush courses or force another drink.</td>\n",
       "      <td>SERVICE</td>\n",
       "      <td>positive</td>\n",
       "    </tr>\n",
       "    <tr>\n",
       "      <th>2</th>\n",
       "      <td>Great place, great value.</td>\n",
       "      <td>RESTAURANT</td>\n",
       "      <td>positive</td>\n",
       "    </tr>\n",
       "    <tr>\n",
       "      <th>3</th>\n",
       "      <td>Make sure you try this place as often as you can.</td>\n",
       "      <td>RESTAURANT</td>\n",
       "      <td>positive</td>\n",
       "    </tr>\n",
       "    <tr>\n",
       "      <th>5</th>\n",
       "      <td>I've had my fair share of modern Japanese and this spot delivers.</td>\n",
       "      <td>FOOD</td>\n",
       "      <td>positive</td>\n",
       "    </tr>\n",
       "    <tr>\n",
       "      <th>6</th>\n",
       "      <td>Thank You Emilio.</td>\n",
       "      <td>RESTAURANT</td>\n",
       "      <td>positive</td>\n",
       "    </tr>\n",
       "    <tr>\n",
       "      <th>7</th>\n",
       "      <td>Excellent atmosphere, delicious dishes good and friendly service.</td>\n",
       "      <td>SERVICE</td>\n",
       "      <td>positive</td>\n",
       "    </tr>\n",
       "    <tr>\n",
       "      <th>8</th>\n",
       "      <td>Excellent atmosphere, delicious dishes good and friendly service.</td>\n",
       "      <td>AMBIENCE</td>\n",
       "      <td>positive</td>\n",
       "    </tr>\n",
       "    <tr>\n",
       "      <th>9</th>\n",
       "      <td>Excellent atmosphere, delicious dishes good and friendly service.</td>\n",
       "      <td>FOOD</td>\n",
       "      <td>positive</td>\n",
       "    </tr>\n",
       "    <tr>\n",
       "      <th>10</th>\n",
       "      <td>lobster was good, nothing spectacular.</td>\n",
       "      <td>FOOD</td>\n",
       "      <td>neutral</td>\n",
       "    </tr>\n",
       "    <tr>\n",
       "      <th>11</th>\n",
       "      <td>I have been doing all of the above at the Heartland Brewery for over 5 years now and I HAVE NEVER BEEN DISAPPOINTED!</td>\n",
       "      <td>RESTAURANT</td>\n",
       "      <td>positive</td>\n",
       "    </tr>\n",
       "    <tr>\n",
       "      <th>12</th>\n",
       "      <td>The staff was the friendliest that have seen in New York.</td>\n",
       "      <td>SERVICE</td>\n",
       "      <td>positive</td>\n",
       "    </tr>\n",
       "    <tr>\n",
       "      <th>13</th>\n",
       "      <td>A little pricey but it really hits the spot on a Sunday morning!</td>\n",
       "      <td>RESTAURANT</td>\n",
       "      <td>negative</td>\n",
       "    </tr>\n",
       "    <tr>\n",
       "      <th>14</th>\n",
       "      <td>I cannot imagine you not rushing out to eat there.</td>\n",
       "      <td>RESTAURANT</td>\n",
       "      <td>positive</td>\n",
       "    </tr>\n",
       "    <tr>\n",
       "      <th>15</th>\n",
       "      <td>The pasta was well cooked, didn't have enough sauce though or flavor.</td>\n",
       "      <td>FOOD</td>\n",
       "      <td>positive</td>\n",
       "    </tr>\n",
       "    <tr>\n",
       "      <th>16</th>\n",
       "      <td>Warm and friendly in the winter and terrific outdoor seating in the warmer months.</td>\n",
       "      <td>AMBIENCE</td>\n",
       "      <td>positive</td>\n",
       "    </tr>\n",
       "    <tr>\n",
       "      <th>17</th>\n",
       "      <td>This guy refused to seat her and she left, followed shortly by the four of us, but not before I told him that in my 40 years of world travel, including Paris, that I had never seen such a display of bad behavior by a frontman in a restaurant.</td>\n",
       "      <td>SERVICE</td>\n",
       "      <td>negative</td>\n",
       "    </tr>\n",
       "    <tr>\n",
       "      <th>18</th>\n",
       "      <td>I recommend it!</td>\n",
       "      <td>RESTAURANT</td>\n",
       "      <td>positive</td>\n",
       "    </tr>\n",
       "    <tr>\n",
       "      <th>19</th>\n",
       "      <td>It's a small cute restaurant.</td>\n",
       "      <td>AMBIENCE</td>\n",
       "      <td>positive</td>\n",
       "    </tr>\n",
       "    <tr>\n",
       "      <th>21</th>\n",
       "      <td>Everything was wonderful; food, drinks, staff, mileau.</td>\n",
       "      <td>DRINKS</td>\n",
       "      <td>positive</td>\n",
       "    </tr>\n",
       "    <tr>\n",
       "      <th>23</th>\n",
       "      <td>Everything was wonderful; food, drinks, staff, mileau.</td>\n",
       "      <td>FOOD</td>\n",
       "      <td>positive</td>\n",
       "    </tr>\n",
       "    <tr>\n",
       "      <th>25</th>\n",
       "      <td>Can't wait wait for my next visit.</td>\n",
       "      <td>RESTAURANT</td>\n",
       "      <td>positive</td>\n",
       "    </tr>\n",
       "    <tr>\n",
       "      <th>28</th>\n",
       "      <td>The pizza is delicious and the proprietor is one of the nicest in NYC.</td>\n",
       "      <td>FOOD</td>\n",
       "      <td>positive</td>\n",
       "    </tr>\n",
       "    <tr>\n",
       "      <th>29</th>\n",
       "      <td>We had a good time.</td>\n",
       "      <td>RESTAURANT</td>\n",
       "      <td>positive</td>\n",
       "    </tr>\n",
       "    <tr>\n",
       "      <th>31</th>\n",
       "      <td>His response was smug, arrogant, and condescending, totally consistent with his deportment on display all evening.</td>\n",
       "      <td>SERVICE</td>\n",
       "      <td>negative</td>\n",
       "    </tr>\n",
       "    <tr>\n",
       "      <th>33</th>\n",
       "      <td>fresh restaurant was amazing........ food was delicious and of course fresh.</td>\n",
       "      <td>FOOD</td>\n",
       "      <td>positive</td>\n",
       "    </tr>\n",
       "    <tr>\n",
       "      <th>35</th>\n",
       "      <td>This place is not inviting and the food is totally weird.</td>\n",
       "      <td>FOOD</td>\n",
       "      <td>negative</td>\n",
       "    </tr>\n",
       "    <tr>\n",
       "      <th>36</th>\n",
       "      <td>Raga's is a romantic, cozy restaurant.</td>\n",
       "      <td>AMBIENCE</td>\n",
       "      <td>positive</td>\n",
       "    </tr>\n",
       "    <tr>\n",
       "      <th>38</th>\n",
       "      <td>The food is amazing, rich pastas and fresh doughy pizza.</td>\n",
       "      <td>FOOD</td>\n",
       "      <td>positive</td>\n",
       "    </tr>\n",
       "    <tr>\n",
       "      <th>39</th>\n",
       "      <td>The server was really cool and served us our food and drinks with a smile.</td>\n",
       "      <td>SERVICE</td>\n",
       "      <td>positive</td>\n",
       "    </tr>\n",
       "    <tr>\n",
       "      <th>...</th>\n",
       "      <td>...</td>\n",
       "      <td>...</td>\n",
       "      <td>...</td>\n",
       "    </tr>\n",
       "    <tr>\n",
       "      <th>378</th>\n",
       "      <td>Priced at upper intermediate range.</td>\n",
       "      <td>RESTAURANT</td>\n",
       "      <td>negative</td>\n",
       "    </tr>\n",
       "    <tr>\n",
       "      <th>379</th>\n",
       "      <td>Two complaints- their appetizer selection stinks, it would be nice to get some mozzarella sticks on the menu.</td>\n",
       "      <td>FOOD</td>\n",
       "      <td>negative</td>\n",
       "    </tr>\n",
       "    <tr>\n",
       "      <th>380</th>\n",
       "      <td>Every time I have a special occasion with my boyfriend I have a hard time going anywhere else.</td>\n",
       "      <td>RESTAURANT</td>\n",
       "      <td>positive</td>\n",
       "    </tr>\n",
       "    <tr>\n",
       "      <th>382</th>\n",
       "      <td>You'll be ther for every anniversary, birthday, valentines day...</td>\n",
       "      <td>RESTAURANT</td>\n",
       "      <td>positive</td>\n",
       "    </tr>\n",
       "    <tr>\n",
       "      <th>383</th>\n",
       "      <td>I've never had bad service and the fish is fresh and delicious.</td>\n",
       "      <td>SERVICE</td>\n",
       "      <td>positive</td>\n",
       "    </tr>\n",
       "    <tr>\n",
       "      <th>384</th>\n",
       "      <td>I've never had bad service and the fish is fresh and delicious.</td>\n",
       "      <td>FOOD</td>\n",
       "      <td>positive</td>\n",
       "    </tr>\n",
       "    <tr>\n",
       "      <th>385</th>\n",
       "      <td>I got the $10 10-piece dim sum combo, every bite of which was great.</td>\n",
       "      <td>FOOD</td>\n",
       "      <td>positive</td>\n",
       "    </tr>\n",
       "    <tr>\n",
       "      <th>386</th>\n",
       "      <td>Nice Family owned traditional restaurant.</td>\n",
       "      <td>RESTAURANT</td>\n",
       "      <td>positive</td>\n",
       "    </tr>\n",
       "    <tr>\n",
       "      <th>388</th>\n",
       "      <td>The food is okay and the prices here are mediocre.</td>\n",
       "      <td>FOOD</td>\n",
       "      <td>neutral</td>\n",
       "    </tr>\n",
       "    <tr>\n",
       "      <th>389</th>\n",
       "      <td>They have authentic Indian at amazin prices.</td>\n",
       "      <td>FOOD</td>\n",
       "      <td>positive</td>\n",
       "    </tr>\n",
       "    <tr>\n",
       "      <th>390</th>\n",
       "      <td>The food is good.</td>\n",
       "      <td>FOOD</td>\n",
       "      <td>positive</td>\n",
       "    </tr>\n",
       "    <tr>\n",
       "      <th>391</th>\n",
       "      <td>The food was authentic.</td>\n",
       "      <td>FOOD</td>\n",
       "      <td>positive</td>\n",
       "    </tr>\n",
       "    <tr>\n",
       "      <th>392</th>\n",
       "      <td>The food was well prepared and the service impecable.</td>\n",
       "      <td>SERVICE</td>\n",
       "      <td>positive</td>\n",
       "    </tr>\n",
       "    <tr>\n",
       "      <th>394</th>\n",
       "      <td>The food is great and reasonably priced.</td>\n",
       "      <td>FOOD</td>\n",
       "      <td>positive</td>\n",
       "    </tr>\n",
       "    <tr>\n",
       "      <th>395</th>\n",
       "      <td>They should have called it mascarpone with chocolate chips-good but a far cry from what the name implies.</td>\n",
       "      <td>FOOD</td>\n",
       "      <td>negative</td>\n",
       "    </tr>\n",
       "    <tr>\n",
       "      <th>396</th>\n",
       "      <td>the last time i walked by it looked pretty empty. hmmm.</td>\n",
       "      <td>RESTAURANT</td>\n",
       "      <td>negative</td>\n",
       "    </tr>\n",
       "    <tr>\n",
       "      <th>398</th>\n",
       "      <td>keep up the good work.</td>\n",
       "      <td>RESTAURANT</td>\n",
       "      <td>positive</td>\n",
       "    </tr>\n",
       "    <tr>\n",
       "      <th>399</th>\n",
       "      <td>The service was quick and friendly.</td>\n",
       "      <td>SERVICE</td>\n",
       "      <td>positive</td>\n",
       "    </tr>\n",
       "    <tr>\n",
       "      <th>401</th>\n",
       "      <td>The brioche and lollies as party favors is a cute and sweet touch to a most memorable meal.</td>\n",
       "      <td>FOOD</td>\n",
       "      <td>positive</td>\n",
       "    </tr>\n",
       "    <tr>\n",
       "      <th>402</th>\n",
       "      <td>The hostess is rude to the point of being offensive.</td>\n",
       "      <td>SERVICE</td>\n",
       "      <td>negative</td>\n",
       "    </tr>\n",
       "    <tr>\n",
       "      <th>403</th>\n",
       "      <td>The hot dogs are top notch, and they're Slamwich is amazing!</td>\n",
       "      <td>FOOD</td>\n",
       "      <td>positive</td>\n",
       "    </tr>\n",
       "    <tr>\n",
       "      <th>404</th>\n",
       "      <td>The hostess was rude and I got a distinct feeling that they did not want to serve us.</td>\n",
       "      <td>SERVICE</td>\n",
       "      <td>negative</td>\n",
       "    </tr>\n",
       "    <tr>\n",
       "      <th>405</th>\n",
       "      <td>Very \"normal Indian food\", but done really well.</td>\n",
       "      <td>FOOD</td>\n",
       "      <td>neutral</td>\n",
       "    </tr>\n",
       "    <tr>\n",
       "      <th>407</th>\n",
       "      <td>The only thing that my friend left out is that when we sat down at the bar the bartender disappeared.</td>\n",
       "      <td>SERVICE</td>\n",
       "      <td>negative</td>\n",
       "    </tr>\n",
       "    <tr>\n",
       "      <th>409</th>\n",
       "      <td>We are very particular about sushi and were both please with every choice which included: ceviche mix (special), crab dumplings, assorted sashimi, sushi and rolls, two types of sake, and the banana tempura.</td>\n",
       "      <td>FOOD</td>\n",
       "      <td>positive</td>\n",
       "    </tr>\n",
       "    <tr>\n",
       "      <th>410</th>\n",
       "      <td>Although we were told 10-15 minutes and it was more like 45 minutes.</td>\n",
       "      <td>SERVICE</td>\n",
       "      <td>negative</td>\n",
       "    </tr>\n",
       "    <tr>\n",
       "      <th>411</th>\n",
       "      <td>The lamb was tender so full of flavor, the dessert was divine!!</td>\n",
       "      <td>FOOD</td>\n",
       "      <td>positive</td>\n",
       "    </tr>\n",
       "    <tr>\n",
       "      <th>412</th>\n",
       "      <td>I plan on stopping by next week as well.</td>\n",
       "      <td>RESTAURANT</td>\n",
       "      <td>positive</td>\n",
       "    </tr>\n",
       "    <tr>\n",
       "      <th>414</th>\n",
       "      <td>Great pizza and fantastic service.</td>\n",
       "      <td>FOOD</td>\n",
       "      <td>positive</td>\n",
       "    </tr>\n",
       "    <tr>\n",
       "      <th>415</th>\n",
       "      <td>The menu is very limited - i think we counted 4 or 5 entrees.</td>\n",
       "      <td>FOOD</td>\n",
       "      <td>negative</td>\n",
       "    </tr>\n",
       "  </tbody>\n",
       "</table>\n",
       "<p>300 rows × 3 columns</p>\n",
       "</div>"
      ],
      "text/plain": [
       "                                                                                                                                                                                                                                                   text  \\\n",
       "0    The lobster sandwich is $24 and although it was good it was not nearly enough to warrant that price.                                                                                                                                                 \n",
       "1    I go out to eat and like my courses, servers are patient and never rush courses or force another drink.                                                                                                                                              \n",
       "2    Great place, great value.                                                                                                                                                                                                                            \n",
       "3    Make sure you try this place as often as you can.                                                                                                                                                                                                    \n",
       "5    I've had my fair share of modern Japanese and this spot delivers.                                                                                                                                                                                    \n",
       "6    Thank You Emilio.                                                                                                                                                                                                                                    \n",
       "7    Excellent atmosphere, delicious dishes good and friendly service.                                                                                                                                                                                    \n",
       "8    Excellent atmosphere, delicious dishes good and friendly service.                                                                                                                                                                                    \n",
       "9    Excellent atmosphere, delicious dishes good and friendly service.                                                                                                                                                                                    \n",
       "10   lobster was good, nothing spectacular.                                                                                                                                                                                                               \n",
       "11   I have been doing all of the above at the Heartland Brewery for over 5 years now and I HAVE NEVER BEEN DISAPPOINTED!                                                                                                                                 \n",
       "12   The staff was the friendliest that have seen in New York.                                                                                                                                                                                            \n",
       "13   A little pricey but it really hits the spot on a Sunday morning!                                                                                                                                                                                     \n",
       "14   I cannot imagine you not rushing out to eat there.                                                                                                                                                                                                   \n",
       "15   The pasta was well cooked, didn't have enough sauce though or flavor.                                                                                                                                                                                \n",
       "16   Warm and friendly in the winter and terrific outdoor seating in the warmer months.                                                                                                                                                                   \n",
       "17   This guy refused to seat her and she left, followed shortly by the four of us, but not before I told him that in my 40 years of world travel, including Paris, that I had never seen such a display of bad behavior by a frontman in a restaurant.   \n",
       "18   I recommend it!                                                                                                                                                                                                                                      \n",
       "19   It's a small cute restaurant.                                                                                                                                                                                                                        \n",
       "21   Everything was wonderful; food, drinks, staff, mileau.                                                                                                                                                                                               \n",
       "23   Everything was wonderful; food, drinks, staff, mileau.                                                                                                                                                                                               \n",
       "25   Can't wait wait for my next visit.                                                                                                                                                                                                                   \n",
       "28   The pizza is delicious and the proprietor is one of the nicest in NYC.                                                                                                                                                                               \n",
       "29   We had a good time.                                                                                                                                                                                                                                  \n",
       "31   His response was smug, arrogant, and condescending, totally consistent with his deportment on display all evening.                                                                                                                                   \n",
       "33   fresh restaurant was amazing........ food was delicious and of course fresh.                                                                                                                                                                         \n",
       "35   This place is not inviting and the food is totally weird.                                                                                                                                                                                            \n",
       "36   Raga's is a romantic, cozy restaurant.                                                                                                                                                                                                               \n",
       "38   The food is amazing, rich pastas and fresh doughy pizza.                                                                                                                                                                                             \n",
       "39   The server was really cool and served us our food and drinks with a smile.                                                                                                                                                                           \n",
       "..                                                                          ...                                                                                                                                                                           \n",
       "378  Priced at upper intermediate range.                                                                                                                                                                                                                  \n",
       "379  Two complaints- their appetizer selection stinks, it would be nice to get some mozzarella sticks on the menu.                                                                                                                                        \n",
       "380  Every time I have a special occasion with my boyfriend I have a hard time going anywhere else.                                                                                                                                                       \n",
       "382  You'll be ther for every anniversary, birthday, valentines day...                                                                                                                                                                                    \n",
       "383  I've never had bad service and the fish is fresh and delicious.                                                                                                                                                                                      \n",
       "384  I've never had bad service and the fish is fresh and delicious.                                                                                                                                                                                      \n",
       "385  I got the $10 10-piece dim sum combo, every bite of which was great.                                                                                                                                                                                 \n",
       "386  Nice Family owned traditional restaurant.                                                                                                                                                                                                            \n",
       "388  The food is okay and the prices here are mediocre.                                                                                                                                                                                                   \n",
       "389  They have authentic Indian at amazin prices.                                                                                                                                                                                                         \n",
       "390  The food is good.                                                                                                                                                                                                                                    \n",
       "391  The food was authentic.                                                                                                                                                                                                                              \n",
       "392  The food was well prepared and the service impecable.                                                                                                                                                                                                \n",
       "394  The food is great and reasonably priced.                                                                                                                                                                                                             \n",
       "395  They should have called it mascarpone with chocolate chips-good but a far cry from what the name implies.                                                                                                                                            \n",
       "396  the last time i walked by it looked pretty empty. hmmm.                                                                                                                                                                                              \n",
       "398  keep up the good work.                                                                                                                                                                                                                               \n",
       "399  The service was quick and friendly.                                                                                                                                                                                                                  \n",
       "401  The brioche and lollies as party favors is a cute and sweet touch to a most memorable meal.                                                                                                                                                          \n",
       "402  The hostess is rude to the point of being offensive.                                                                                                                                                                                                 \n",
       "403  The hot dogs are top notch, and they're Slamwich is amazing!                                                                                                                                                                                         \n",
       "404  The hostess was rude and I got a distinct feeling that they did not want to serve us.                                                                                                                                                                \n",
       "405  Very \"normal Indian food\", but done really well.                                                                                                                                                                                                     \n",
       "407  The only thing that my friend left out is that when we sat down at the bar the bartender disappeared.                                                                                                                                                \n",
       "409  We are very particular about sushi and were both please with every choice which included: ceviche mix (special), crab dumplings, assorted sashimi, sushi and rolls, two types of sake, and the banana tempura.                                       \n",
       "410  Although we were told 10-15 minutes and it was more like 45 minutes.                                                                                                                                                                                 \n",
       "411  The lamb was tender so full of flavor, the dessert was divine!!                                                                                                                                                                                      \n",
       "412  I plan on stopping by next week as well.                                                                                                                                                                                                             \n",
       "414  Great pizza and fantastic service.                                                                                                                                                                                                                   \n",
       "415  The menu is very limited - i think we counted 4 or 5 entrees.                                                                                                                                                                                        \n",
       "\n",
       "        aspects polarities  \n",
       "0    FOOD        positive   \n",
       "1    SERVICE     positive   \n",
       "2    RESTAURANT  positive   \n",
       "3    RESTAURANT  positive   \n",
       "5    FOOD        positive   \n",
       "6    RESTAURANT  positive   \n",
       "7    SERVICE     positive   \n",
       "8    AMBIENCE    positive   \n",
       "9    FOOD        positive   \n",
       "10   FOOD        neutral    \n",
       "11   RESTAURANT  positive   \n",
       "12   SERVICE     positive   \n",
       "13   RESTAURANT  negative   \n",
       "14   RESTAURANT  positive   \n",
       "15   FOOD        positive   \n",
       "16   AMBIENCE    positive   \n",
       "17   SERVICE     negative   \n",
       "18   RESTAURANT  positive   \n",
       "19   AMBIENCE    positive   \n",
       "21   DRINKS      positive   \n",
       "23   FOOD        positive   \n",
       "25   RESTAURANT  positive   \n",
       "28   FOOD        positive   \n",
       "29   RESTAURANT  positive   \n",
       "31   SERVICE     negative   \n",
       "33   FOOD        positive   \n",
       "35   FOOD        negative   \n",
       "36   AMBIENCE    positive   \n",
       "38   FOOD        positive   \n",
       "39   SERVICE     positive   \n",
       "..       ...          ...   \n",
       "378  RESTAURANT  negative   \n",
       "379  FOOD        negative   \n",
       "380  RESTAURANT  positive   \n",
       "382  RESTAURANT  positive   \n",
       "383  SERVICE     positive   \n",
       "384  FOOD        positive   \n",
       "385  FOOD        positive   \n",
       "386  RESTAURANT  positive   \n",
       "388  FOOD        neutral    \n",
       "389  FOOD        positive   \n",
       "390  FOOD        positive   \n",
       "391  FOOD        positive   \n",
       "392  SERVICE     positive   \n",
       "394  FOOD        positive   \n",
       "395  FOOD        negative   \n",
       "396  RESTAURANT  negative   \n",
       "398  RESTAURANT  positive   \n",
       "399  SERVICE     positive   \n",
       "401  FOOD        positive   \n",
       "402  SERVICE     negative   \n",
       "403  FOOD        positive   \n",
       "404  SERVICE     negative   \n",
       "405  FOOD        neutral    \n",
       "407  SERVICE     negative   \n",
       "409  FOOD        positive   \n",
       "410  SERVICE     negative   \n",
       "411  FOOD        positive   \n",
       "412  RESTAURANT  positive   \n",
       "414  FOOD        positive   \n",
       "415  FOOD        negative   \n",
       "\n",
       "[300 rows x 3 columns]"
      ]
     },
     "execution_count": 425,
     "metadata": {},
     "output_type": "execute_result"
    }
   ],
   "source": [
    "val_aspects_ungrp2[['text' , 'aspects' , 'polarities']]"
   ]
  },
  {
   "cell_type": "code",
   "execution_count": 156,
   "metadata": {},
   "outputs": [],
   "source": [
    "#\"en\" ,\"nl\", 'es'\n",
    "train_aspects_ungrp[['text']].to_csv('../data/tatoeba/v2/en_resturant.csv' , header = None , index = None , mode = 'w')\n",
    "val_aspects_ungrp2[['text']].to_csv('../data/tatoeba/v2/en_val.csv' , header = None , index = None , mode = 'w')\n",
    "\n",
    "du_aspects_ungrp2[['text']].to_csv('../data/tatoeba/v2/nl_resturant.csv' , header = None , index = None , mode = 'w')\n",
    "sp_aspects_ungrp2[['text']].to_csv('../data/tatoeba/v2/es_resturant.csv' , header = None , index = None , mode = 'w')"
   ]
  },
  {
   "cell_type": "code",
   "execution_count": 157,
   "metadata": {},
   "outputs": [],
   "source": [
    "LASER_PATH = \"..\"\n",
    "sys.path.append(LASER_PATH + '/source')\n",
    "sys.path.append(LASER_PATH + '/source/lib')\n",
    "\n",
    "DATA_PATH = Path(\"../data/tatoeba/v2/\")\n",
    "CACHE_PATH = Path(\"cache2/\")\n",
    "CACHE_PATH.mkdir(exist_ok=True)\n",
    "MODEL_PATH = Path(\"../models\")\n",
    "\n",
    "os.environ[\"LASER\"] = LASER_PATH \n",
    "SPACE_NORMALIZER = re.compile(\"\\s+\")\n",
    "Batch = namedtuple('Batch', 'srcs tokens lengths')"
   ]
  },
  {
   "cell_type": "code",
   "execution_count": 158,
   "metadata": {},
   "outputs": [],
   "source": [
    "from indexing import IndexLoad, IndexTextOpen, IndexTextQuery, IndexSearchKNN, IndexCreate, IndexSearchMultiple\n",
    "from embed import SentenceEncoder, EncodeLoad, EncodeFile\n",
    "from text_processing import Token, BPEfastApply"
   ]
  },
  {
   "cell_type": "code",
   "execution_count": 159,
   "metadata": {},
   "outputs": [
    {
     "name": "stdout",
     "output_type": "stream",
     "text": [
      " - Tokenizer: en_resturant.csv in language en  \n",
      " - fast BPE: processing en_resturant.csv\n",
      " - Encoder: en_resturant.bpe to en_resturant.enc\n",
      " - Encoder: 1656 sentences in 0s\n",
      " - Tokenizer: nl_resturant.csv in language nl  \n",
      " - fast BPE: processing nl_resturant.csv\n",
      " - Encoder: nl_resturant.bpe to nl_resturant.enc\n",
      " - Encoder: 1014 sentences in 0s\n",
      " - Tokenizer: es_resturant.csv in language es  \n",
      " - fast BPE: processing es_resturant.csv\n",
      " - Encoder: es_resturant.bpe to es_resturant.enc\n",
      " - Encoder: 1493 sentences in 0s\n",
      " - Tokenizer: en_val.csv in language es  \n",
      " - fast BPE: processing en_val.csv\n",
      " - Encoder: en_val.bpe to en_val.enc\n",
      " - Encoder: 300 sentences in 0s\n"
     ]
    }
   ],
   "source": [
    "encoder = SentenceEncoder(\n",
    "    str(MODEL_PATH / \"bilstm.93langs.2018-12-26.pt\"),\n",
    "    max_sentences=None,\n",
    "    max_tokens=10000,\n",
    "    cpu=False)\n",
    "bpe_codes = str(MODEL_PATH / \"93langs.fcodes\")\n",
    "\n",
    "for lang in (\"en\" ,\"nl\", 'es'):  ##\"zh\" for chinese , nl  for dutch and es for spanish\n",
    "    Token(\n",
    "        str(DATA_PATH / f\"{lang}_resturant.csv\"), ##english_resturant.txt\n",
    "        str(CACHE_PATH / f\"{lang}_resturant.csv\"),\n",
    "        lang=lang,\n",
    "        romanize=False,\n",
    "        lower_case=True, gzip=False,\n",
    "        verbose=True)\n",
    "    BPEfastApply(\n",
    "        str(CACHE_PATH / f\"{lang}_resturant.csv\"),\n",
    "        str(CACHE_PATH / f\"{lang}_resturant.bpe\"),\n",
    "        bpe_codes,\n",
    "        verbose=True, over_write=True)\n",
    "    EncodeFile(\n",
    "        encoder,\n",
    "        str(CACHE_PATH / f\"{lang}_resturant.bpe\"),\n",
    "        str(CACHE_PATH / f\"{lang}_resturant.enc\"),\n",
    "        verbose=True, over_write=True)    \n",
    "    \n",
    "    \n",
    "Token(\n",
    "    str(DATA_PATH / f\"en_val.csv\"), ##english_resturant.txt\n",
    "    str(CACHE_PATH / f\"en_val.csv\"),\n",
    "    lang=lang,\n",
    "    romanize=False,\n",
    "    lower_case=True, gzip=False,\n",
    "    verbose=True)\n",
    "BPEfastApply(\n",
    "    str(CACHE_PATH / f\"en_val.csv\"),\n",
    "    str(CACHE_PATH / f\"en_val.bpe\"),\n",
    "    bpe_codes,\n",
    "    verbose=True, over_write=True)\n",
    "EncodeFile(\n",
    "    encoder,\n",
    "    str(CACHE_PATH / f\"en_val.bpe\"),\n",
    "    str(CACHE_PATH / f\"en_val.enc\"),\n",
    "    verbose=True, over_write=True)    "
   ]
  },
  {
   "cell_type": "code",
   "execution_count": 160,
   "metadata": {},
   "outputs": [
    {
     "name": "stdout",
     "output_type": "stream",
     "text": [
      " - embedding: cache2/en_resturant.enc 1656 examples of dim 1024\n",
      " - creating FAISS index\n",
      " - embedding: cache2/en_val.enc 300 examples of dim 1024\n",
      " - creating FAISS index\n",
      " - embedding: cache2/nl_resturant.enc 1014 examples of dim 1024\n",
      " - creating FAISS index\n",
      " - embedding: cache2/es_resturant.enc 1493 examples of dim 1024\n",
      " - creating FAISS index\n"
     ]
    }
   ],
   "source": [
    "train_en, index_tr_en = IndexCreate(\n",
    "    str(CACHE_PATH / \"en_resturant.enc\"), 'FlatL2', verbose=True, save_index=False)\n",
    "val_en, index_val_en = IndexCreate(\n",
    "    str(CACHE_PATH / \"en_val.enc\"), 'FlatL2', verbose=True, save_index=False)\n",
    "\n",
    "data_du, index_du = IndexCreate(\n",
    "    str(CACHE_PATH / \"nl_resturant.enc\"), 'FlatL2', verbose=True, save_index=False)\n",
    "data_spanish, index_spanish = IndexCreate(\n",
    "    str(CACHE_PATH / \"es_resturant.enc\"), 'FlatL2', verbose=True, save_index=False)"
   ]
  },
  {
   "cell_type": "markdown",
   "metadata": {},
   "source": [
    "## Create Word embeddings for aspect words"
   ]
  },
  {
   "cell_type": "code",
   "execution_count": 142,
   "metadata": {},
   "outputs": [],
   "source": [
    "import  pickle\n",
    "word2vec = pickle.load(open(\"/data/swati.tiwari/Kaggle/yelp/capability_absa/src/utils/word2vec_google.pkl\", 'rb'))\n"
   ]
  },
  {
   "cell_type": "code",
   "execution_count": 146,
   "metadata": {},
   "outputs": [],
   "source": [
    "word_embeddings ={}"
   ]
  },
  {
   "cell_type": "code",
   "execution_count": 151,
   "metadata": {},
   "outputs": [],
   "source": [
    "word_embeddings['FOOD']  = word2vec.get_vector('FOOD')\n",
    "word_embeddings['RESTAURANT']  = word2vec.get_vector('RESTAURANT')\n",
    "word_embeddings['SERVICE']  = word2vec.get_vector('SERVICE')\n",
    "word_embeddings['AMBIENCE']  = word2vec.get_vector('AMBIENCE')\n",
    "word_embeddings['DRINKS']  = word2vec.get_vector('DRINKS')\n",
    "word_embeddings['LOCATION']  = word2vec.get_vector('LOCATION')"
   ]
  },
  {
   "cell_type": "code",
   "execution_count": 185,
   "metadata": {},
   "outputs": [],
   "source": [
    "val_aspects_ungrp2.reset_index(inplace=True , drop= True)\n",
    "train_aspects_ungrp.reset_index(inplace=True , drop= True)\n",
    "sp_aspects_ungrp2.reset_index(inplace=True , drop = True)\n",
    "du_aspects_ungrp2.reset_index(inplace=True , drop = True)"
   ]
  },
  {
   "cell_type": "code",
   "execution_count": 190,
   "metadata": {},
   "outputs": [],
   "source": [
    "ct_val_en= np.empty((0 , 1324))\n",
    "for index , row in val_aspects_ungrp2.iterrows():\n",
    "    #print(index)\n",
    "    #print(len(val_en[index]))\n",
    "    w2v = word_embeddings[row['aspects']]\n",
    "    res = (np.concatenate((val_en[index] , w2v ) , axis =0 ))\n",
    "    ct_val_en = np.append(ct_val_en ,[res] , axis = 0 )\n",
    "     \n"
   ]
  },
  {
   "cell_type": "code",
   "execution_count": 199,
   "metadata": {},
   "outputs": [
    {
     "name": "stdout",
     "output_type": "stream",
     "text": [
      "(1656, 1324)\n"
     ]
    }
   ],
   "source": [
    "ct_tr_en= np.empty((0 , 1324))\n",
    "for index , row in train_aspects_ungrp.iterrows():\n",
    "    #print(index)\n",
    "    #print(len(val_en[index]))\n",
    "    w2v = word_embeddings[row['aspects']]\n",
    "    res = (np.concatenate((train_en[index] , w2v ) , axis =0 ))\n",
    "    ct_tr_en = np.append(ct_tr_en ,[res] , axis = 0 )\n",
    "\n",
    "print(ct_tr_en.shape)"
   ]
  },
  {
   "cell_type": "code",
   "execution_count": 200,
   "metadata": {},
   "outputs": [
    {
     "name": "stdout",
     "output_type": "stream",
     "text": [
      "(1656, 3)\n"
     ]
    }
   ],
   "source": [
    "print(train_aspects_ungrp.shape)"
   ]
  },
  {
   "cell_type": "code",
   "execution_count": 201,
   "metadata": {},
   "outputs": [
    {
     "name": "stdout",
     "output_type": "stream",
     "text": [
      "(1014, 1324)\n",
      "(1014, 5)\n"
     ]
    }
   ],
   "source": [
    "ct_du= np.empty((0 , 1324))\n",
    "for index , row in du_aspects_ungrp2.iterrows():\n",
    "    w2v = word_embeddings[row['aspects']]\n",
    "    res = (np.concatenate((data_du[index] , w2v ) , axis =0 ))\n",
    "    ct_du = np.append(ct_du ,[res] , axis = 0 )\n",
    "\n",
    "print(ct_du.shape) ; print(du_aspects_ungrp2.shape)"
   ]
  },
  {
   "cell_type": "code",
   "execution_count": 202,
   "metadata": {},
   "outputs": [
    {
     "name": "stdout",
     "output_type": "stream",
     "text": [
      "(1493, 1324)\n",
      "(1493, 5)\n"
     ]
    }
   ],
   "source": [
    "ct_spanish= np.empty((0 , 1324))\n",
    "for index , row in sp_aspects_ungrp2.iterrows():\n",
    "    w2v = word_embeddings[row['aspects']]\n",
    "    res = (np.concatenate((data_spanish[index] , w2v ) , axis =0 ))\n",
    "    ct_spanish = np.append(ct_spanish ,[res] , axis = 0 )\n",
    "\n",
    "print(ct_spanish.shape) ; print(sp_aspects_ungrp2.shape)"
   ]
  },
  {
   "cell_type": "code",
   "execution_count": 204,
   "metadata": {},
   "outputs": [
    {
     "data": {
      "text/plain": [
       "positive    1093\n",
       "negative    483 \n",
       "neutral     80  \n",
       "Name: polarities, dtype: int64"
      ]
     },
     "execution_count": 204,
     "metadata": {},
     "output_type": "execute_result"
    }
   ],
   "source": [
    "train_aspects_ungrp.polarities.value_counts()"
   ]
  },
  {
   "cell_type": "code",
   "execution_count": 227,
   "metadata": {},
   "outputs": [
    {
     "data": {
      "text/html": [
       "<div>\n",
       "<style scoped>\n",
       "    .dataframe tbody tr th:only-of-type {\n",
       "        vertical-align: middle;\n",
       "    }\n",
       "\n",
       "    .dataframe tbody tr th {\n",
       "        vertical-align: top;\n",
       "    }\n",
       "\n",
       "    .dataframe thead th {\n",
       "        text-align: right;\n",
       "    }\n",
       "</style>\n",
       "<table border=\"1\" class=\"dataframe\">\n",
       "  <thead>\n",
       "    <tr style=\"text-align: right;\">\n",
       "      <th></th>\n",
       "      <th>text</th>\n",
       "      <th>aspects</th>\n",
       "      <th>polarities</th>\n",
       "      <th>aspects_pred</th>\n",
       "      <th>ind</th>\n",
       "    </tr>\n",
       "  </thead>\n",
       "  <tbody>\n",
       "    <tr>\n",
       "      <th>1463</th>\n",
       "      <td>Es un lugar entrañable de Barcelona que hay que conocer, ambiente inigualable (pero ruidoso, no es para una cena íntima) y cosmopolita.</td>\n",
       "      <td>AMBIENCE</td>\n",
       "      <td>conflict</td>\n",
       "      <td>[AMBIENCE]</td>\n",
       "      <td>1</td>\n",
       "    </tr>\n",
       "  </tbody>\n",
       "</table>\n",
       "</div>"
      ],
      "text/plain": [
       "                                                                                                                                         text  \\\n",
       "1463  Es un lugar entrañable de Barcelona que hay que conocer, ambiente inigualable (pero ruidoso, no es para una cena íntima) y cosmopolita.   \n",
       "\n",
       "       aspects polarities aspects_pred  ind  \n",
       "1463  AMBIENCE  conflict   [AMBIENCE]   1    "
      ]
     },
     "execution_count": 227,
     "metadata": {},
     "output_type": "execute_result"
    }
   ],
   "source": [
    "sp_aspects_ungrp2[sp_aspects_ungrp2['polarities']=='conflict']"
   ]
  },
  {
   "cell_type": "code",
   "execution_count": 238,
   "metadata": {},
   "outputs": [],
   "source": [
    "sp_aspects_ungrp2.at[1463 , 'polarities'] = 'neutral'"
   ]
  },
  {
   "cell_type": "code",
   "execution_count": 239,
   "metadata": {},
   "outputs": [
    {
     "data": {
      "text/plain": [
       "text            Es un lugar entrañable de Barcelona que hay que conocer, ambiente inigualable (pero ruidoso, no es para una cena íntima) y cosmopolita.\n",
       "aspects         AMBIENCE                                                                                                                               \n",
       "polarities      neutral                                                                                                                                \n",
       "aspects_pred    [AMBIENCE]                                                                                                                             \n",
       "ind             1                                                                                                                                      \n",
       "Name: 1463, dtype: object"
      ]
     },
     "execution_count": 239,
     "metadata": {},
     "output_type": "execute_result"
    }
   ],
   "source": [
    "sp_aspects_ungrp2.iloc[1463]"
   ]
  },
  {
   "cell_type": "code",
   "execution_count": 277,
   "metadata": {},
   "outputs": [],
   "source": [
    "def change_target(x):\n",
    "    if x=='positive':\n",
    "        return 2\n",
    "    elif x =='negative':\n",
    "        return 1\n",
    "    else:\n",
    "        return 0 "
   ]
  },
  {
   "cell_type": "code",
   "execution_count": 278,
   "metadata": {},
   "outputs": [
    {
     "data": {
      "text/html": [
       "<div>\n",
       "<style scoped>\n",
       "    .dataframe tbody tr th:only-of-type {\n",
       "        vertical-align: middle;\n",
       "    }\n",
       "\n",
       "    .dataframe tbody tr th {\n",
       "        vertical-align: top;\n",
       "    }\n",
       "\n",
       "    .dataframe thead th {\n",
       "        text-align: right;\n",
       "    }\n",
       "</style>\n",
       "<table border=\"1\" class=\"dataframe\">\n",
       "  <thead>\n",
       "    <tr style=\"text-align: right;\">\n",
       "      <th></th>\n",
       "      <th>text</th>\n",
       "      <th>aspects</th>\n",
       "      <th>polarities</th>\n",
       "    </tr>\n",
       "  </thead>\n",
       "  <tbody>\n",
       "    <tr>\n",
       "      <th>0</th>\n",
       "      <td>The food was very good, a great deal, and the place its self was great.</td>\n",
       "      <td>AMBIENCE</td>\n",
       "      <td>positive</td>\n",
       "    </tr>\n",
       "    <tr>\n",
       "      <th>1</th>\n",
       "      <td>Terrible would be a compliment!</td>\n",
       "      <td>RESTAURANT</td>\n",
       "      <td>negative</td>\n",
       "    </tr>\n",
       "  </tbody>\n",
       "</table>\n",
       "</div>"
      ],
      "text/plain": [
       "                                                                      text  \\\n",
       "0  The food was very good, a great deal, and the place its self was great.   \n",
       "1  Terrible would be a compliment!                                           \n",
       "\n",
       "      aspects polarities  \n",
       "0  AMBIENCE    positive   \n",
       "1  RESTAURANT  negative   "
      ]
     },
     "execution_count": 278,
     "metadata": {},
     "output_type": "execute_result"
    }
   ],
   "source": [
    "train_aspects_ungrp.head(2)"
   ]
  },
  {
   "cell_type": "code",
   "execution_count": 279,
   "metadata": {},
   "outputs": [],
   "source": [
    "train_aspects_ungrp['polarities'] = train_aspects_ungrp['polarities'].apply(lambda x: change_target(x))"
   ]
  },
  {
   "cell_type": "code",
   "execution_count": 316,
   "metadata": {},
   "outputs": [
    {
     "data": {
      "text/html": [
       "<div>\n",
       "<style scoped>\n",
       "    .dataframe tbody tr th:only-of-type {\n",
       "        vertical-align: middle;\n",
       "    }\n",
       "\n",
       "    .dataframe tbody tr th {\n",
       "        vertical-align: top;\n",
       "    }\n",
       "\n",
       "    .dataframe thead th {\n",
       "        text-align: right;\n",
       "    }\n",
       "</style>\n",
       "<table border=\"1\" class=\"dataframe\">\n",
       "  <thead>\n",
       "    <tr style=\"text-align: right;\">\n",
       "      <th></th>\n",
       "      <th>text</th>\n",
       "      <th>aspects</th>\n",
       "      <th>polarities</th>\n",
       "    </tr>\n",
       "  </thead>\n",
       "  <tbody>\n",
       "    <tr>\n",
       "      <th>0</th>\n",
       "      <td>The food was very good, a great deal, and the place its self was great.</td>\n",
       "      <td>AMBIENCE</td>\n",
       "      <td>2</td>\n",
       "    </tr>\n",
       "    <tr>\n",
       "      <th>1</th>\n",
       "      <td>Terrible would be a compliment!</td>\n",
       "      <td>RESTAURANT</td>\n",
       "      <td>1</td>\n",
       "    </tr>\n",
       "    <tr>\n",
       "      <th>2</th>\n",
       "      <td>The place is a lot of fun.</td>\n",
       "      <td>AMBIENCE</td>\n",
       "      <td>2</td>\n",
       "    </tr>\n",
       "    <tr>\n",
       "      <th>3</th>\n",
       "      <td>However, I think Jeckll and Hydes t is one of those places that is fun to do once.</td>\n",
       "      <td>RESTAURANT</td>\n",
       "      <td>2</td>\n",
       "    </tr>\n",
       "    <tr>\n",
       "      <th>4</th>\n",
       "      <td>The service was friendly and the atmosphere was casual.</td>\n",
       "      <td>SERVICE</td>\n",
       "      <td>2</td>\n",
       "    </tr>\n",
       "  </tbody>\n",
       "</table>\n",
       "</div>"
      ],
      "text/plain": [
       "                                                                                 text  \\\n",
       "0  The food was very good, a great deal, and the place its self was great.              \n",
       "1  Terrible would be a compliment!                                                      \n",
       "2  The place is a lot of fun.                                                           \n",
       "3  However, I think Jeckll and Hydes t is one of those places that is fun to do once.   \n",
       "4  The service was friendly and the atmosphere was casual.                              \n",
       "\n",
       "      aspects  polarities  \n",
       "0  AMBIENCE    2           \n",
       "1  RESTAURANT  1           \n",
       "2  AMBIENCE    2           \n",
       "3  RESTAURANT  2           \n",
       "4  SERVICE     2           "
      ]
     },
     "execution_count": 316,
     "metadata": {},
     "output_type": "execute_result"
    }
   ],
   "source": [
    "train_aspects_ungrp.head()"
   ]
  },
  {
   "cell_type": "code",
   "execution_count": 281,
   "metadata": {},
   "outputs": [
    {
     "name": "stderr",
     "output_type": "stream",
     "text": [
      "/home/FRACTAL/swati.tiwari/anaconda3/envs/fastai38/lib/python3.7/site-packages/ipykernel_launcher.py:1: SettingWithCopyWarning: \n",
      "A value is trying to be set on a copy of a slice from a DataFrame.\n",
      "Try using .loc[row_indexer,col_indexer] = value instead\n",
      "\n",
      "See the caveats in the documentation: http://pandas.pydata.org/pandas-docs/stable/indexing.html#indexing-view-versus-copy\n",
      "  \"\"\"Entry point for launching an IPython kernel.\n",
      "/home/FRACTAL/swati.tiwari/anaconda3/envs/fastai38/lib/python3.7/site-packages/ipykernel_launcher.py:2: SettingWithCopyWarning: \n",
      "A value is trying to be set on a copy of a slice from a DataFrame.\n",
      "Try using .loc[row_indexer,col_indexer] = value instead\n",
      "\n",
      "See the caveats in the documentation: http://pandas.pydata.org/pandas-docs/stable/indexing.html#indexing-view-versus-copy\n",
      "  \n",
      "/home/FRACTAL/swati.tiwari/anaconda3/envs/fastai38/lib/python3.7/site-packages/ipykernel_launcher.py:3: SettingWithCopyWarning: \n",
      "A value is trying to be set on a copy of a slice from a DataFrame.\n",
      "Try using .loc[row_indexer,col_indexer] = value instead\n",
      "\n",
      "See the caveats in the documentation: http://pandas.pydata.org/pandas-docs/stable/indexing.html#indexing-view-versus-copy\n",
      "  This is separate from the ipykernel package so we can avoid doing imports until\n"
     ]
    }
   ],
   "source": [
    "val_aspects_ungrp2['polarities'] = val_aspects_ungrp2['polarities'].apply(lambda x: change_target(x))\n",
    "sp_aspects_ungrp2['polarities'] = sp_aspects_ungrp2['polarities'].apply(lambda x: change_target(x))\n",
    "du_aspects_ungrp2['polarities'] = du_aspects_ungrp2['polarities'].apply(lambda x: change_target(x))\n"
   ]
  },
  {
   "cell_type": "code",
   "execution_count": 282,
   "metadata": {},
   "outputs": [
    {
     "data": {
      "text/plain": [
       "((1656,), (300,), (1014,), (1493,))"
      ]
     },
     "execution_count": 282,
     "metadata": {},
     "output_type": "execute_result"
    }
   ],
   "source": [
    "from sklearn.preprocessing import MultiLabelBinarizer\n",
    "#mlb  = MultiLabelBinarizer()\n",
    "# tr_eng =  pd.get_dummies(train_aspects_ungrp.polarities).as_matrix() #mlb.fit_transform(train_aspects_ungrp.polarities)\n",
    "# val_eng = pd.get_dummies(val_aspects_ungrp2.polarities).as_matrix()  #mlb.transform(val_aspects_ungrp2.polarities)\n",
    "# y_du  = pd.get_dummies(du_aspects_ungrp2.polarities).as_matrix()\n",
    "# y_spainish  = pd.get_dummies(sp_aspects_ungrp2.polarities).as_matrix()\n",
    "\n",
    "tr_eng =  train_aspects_ungrp['polarities'].values\n",
    "val_eng =val_aspects_ungrp2['polarities'].values  #mlb.transform(val_aspects_ungrp2.polarities)\n",
    "y_du  = du_aspects_ungrp2['polarities'].values\n",
    "y_spainish  = sp_aspects_ungrp2['polarities'].values\n",
    "tr_eng.shape , val_eng.shape , y_du.shape , y_spainish.shape"
   ]
  },
  {
   "cell_type": "code",
   "execution_count": 243,
   "metadata": {},
   "outputs": [],
   "source": [
    "from sklearn.preprocessing import StandardScaler\n",
    "std_scale = StandardScaler().fit(ct_tr_en)\n",
    "train_std = std_scale.transform(ct_tr_en) \n",
    "val_std = std_scale.transform(ct_val_en)\n",
    "dutch_std = std_scale.transform(ct_du)\n",
    "spanish_std = std_scale.transform(ct_spanish)"
   ]
  },
  {
   "cell_type": "code",
   "execution_count": 283,
   "metadata": {},
   "outputs": [
    {
     "name": "stdout",
     "output_type": "stream",
     "text": [
      "torch.Size([1656]) torch.Size([300]) torch.Size([1014])\n",
      "torch.Size([1656, 1324]) torch.Size([300, 1324]) torch.Size([1014, 1324])\n"
     ]
    }
   ],
   "source": [
    "import torch \n",
    "import torch\n",
    "import torch.nn as nn\n",
    "\n",
    "x_train,y_train,x_valid,y_valid , x_test , y_test  , x_test_sp , y_test_sp = map(torch.FloatTensor, (train_std,tr_eng,  val_std ,\\\n",
    "                                                                            val_eng, dutch_std,y_du, \\\n",
    "                                                                           spanish_std ,y_spainish ))\n",
    "n,c = x_train.shape\n",
    "y_train = y_train.type(torch.LongTensor)\n",
    "y_valid = y_valid.type(torch.LongTensor)\n",
    "y_test = y_test.type(torch.LongTensor)\n",
    "y_test_sp = y_test_sp.type(torch.LongTensor)\n",
    "\n",
    "print(y_train.shape , y_valid.shape , y_test.shape)\n",
    "print(x_train.shape , x_valid.shape , x_test.shape)\n",
    "batch_size = 64"
   ]
  },
  {
   "cell_type": "code",
   "execution_count": 284,
   "metadata": {},
   "outputs": [],
   "source": [
    "class Model(nn.Module):\n",
    "    def __init__(self , p):\n",
    "        super().__init__()\n",
    "        self.hidden = nn.Linear(1324, 64)\n",
    "#         self.hidden2 = nn.Linear(512 , 256)\n",
    "#         self.hidden3 =  nn.Linear(256 , 128)\n",
    "        self.activation = nn.ReLU()\n",
    "        self.dropout = nn.Dropout(p)\n",
    "        self.fc = nn.Linear(64, 3)\n",
    "\n",
    "    def forward(self, x):\n",
    "        x = self.activation(self.dropout(self.hidden(x)))\n",
    "        x = self.fc(x)\n",
    "        return x"
   ]
  },
  {
   "cell_type": "code",
   "execution_count": 285,
   "metadata": {},
   "outputs": [],
   "source": [
    "from torch.utils.data import TensorDataset\n",
    "from torch.utils.data import DataLoader\n",
    "\n",
    "train_ds = TensorDataset(x_train, y_train)\n",
    "train_dl = DataLoader(train_ds, batch_size=batch_size , shuffle=True)\n",
    "\n",
    "valid_ds = TensorDataset(x_valid, y_valid )\n",
    "valid_dl = DataLoader(valid_ds , batch_size= batch_size)\n",
    "\n",
    "test_ds = TensorDataset(x_test , y_test)\n",
    "test_dl = DataLoader(test_ds , batch_size=batch_size)\n",
    "\n",
    "test_ds2 = TensorDataset(x_test_sp , y_test_sp)\n",
    "test_dl2 = DataLoader(test_ds2 , batch_size=batch_size)"
   ]
  },
  {
   "cell_type": "code",
   "execution_count": 286,
   "metadata": {},
   "outputs": [],
   "source": [
    "class WrappedDataLoader():\n",
    "    def __init__(self, dl, func):\n",
    "        self.dl = dl\n",
    "        self.func = func\n",
    "        \n",
    "    def __len__(self): return len(self.dl)\n",
    "    \n",
    "    def __iter__(self):\n",
    "        batches = iter(self.dl)\n",
    "        for b in batches: yield(self.func(*b))"
   ]
  },
  {
   "cell_type": "code",
   "execution_count": 287,
   "metadata": {},
   "outputs": [],
   "source": [
    "\n",
    "dev = torch.device('cuda') if torch.cuda.is_available() else torch.device('cpu')\n",
    "def preprocess(x,y): return x.to(dev),y.to(dev)\n",
    "\n",
    "train_dl = WrappedDataLoader(train_dl, preprocess)\n",
    "valid_dl = WrappedDataLoader(valid_dl, preprocess)\n",
    "test_dl = WrappedDataLoader(test_dl , preprocess)\n",
    "test_dl2 = WrappedDataLoader(test_dl2 , preprocess)"
   ]
  },
  {
   "cell_type": "code",
   "execution_count": 348,
   "metadata": {},
   "outputs": [],
   "source": [
    "\n",
    "# def binary_accuracy(preds, y):\n",
    "#     rounded_preds = torch.round(torch.sigmoid(preds))\n",
    "#     correct = (rounded_preds == y).float() #convert into float for division \n",
    "#     acc = correct.mean() #/ (len(correct))\n",
    "#     return acc\n",
    "\n",
    "\n",
    "def categorical_accuracy(preds, y):\n",
    "    \"\"\"\n",
    "    Returns accuracy per batch, i.e. if you get 8/10 right, this returns 0.8, NOT 8\n",
    "    \"\"\"\n",
    "    max_preds = preds.argmax(dim = 1, keepdim = True) # get the index of the max probability\n",
    "#     print('y',y[0])\n",
    "#     print('pred' , max_preds[0])\n",
    "    correct = max_preds.squeeze(1).eq(y)   \n",
    "    return correct.sum() / torch.FloatTensor([y.shape[0]])\n",
    "\n",
    "def f1_scorepy(preds , y):\n",
    "    max_preds = preds.argmax(dim = 1, keepdim = True)\n",
    "    res = f1_score(y.data.cpu().numpy() , max_preds.data.cpu().numpy(), average='macro')  \n",
    "    prec = precision_score(y.data.cpu().numpy() , max_preds.data.cpu().numpy(), average='macro')  \n",
    "    rec = recall_score(y.data.cpu().numpy() , max_preds.data.cpu().numpy(), average='macro') \n",
    "    return  res , prec , rec\n"
   ]
  },
  {
   "cell_type": "code",
   "execution_count": 349,
   "metadata": {},
   "outputs": [],
   "source": [
    "from sklearn.metrics import f1_score , recall_score , precision_score"
   ]
  },
  {
   "cell_type": "code",
   "execution_count": 350,
   "metadata": {},
   "outputs": [],
   "source": [
    "def train_model(model, iterator, optimizer, criterion):\n",
    "    \n",
    "    epoch_loss = 0\n",
    "    epoch_acc = 0  \n",
    "    epoch_f1 = 0    ; epoch_pr = 0 ; epoch_rec = 0\n",
    "    model.train()\n",
    "    ct = 0\n",
    "    for x, y in iterator:\n",
    "        optimizer.zero_grad()\n",
    "        predictions = model(x)\n",
    "        loss = criterion(predictions, y)\n",
    "        acc = categorical_accuracy(predictions, y)\n",
    "        f1 , pr , recall  = f1_scorepy(predictions , y) #; print(f1)\n",
    "        loss.backward()\n",
    "        optimizer.step()\n",
    "        epoch_loss += loss.item()\n",
    "        epoch_acc += acc.item()\n",
    "        epoch_f1 += f1  ; epoch_pr += pr  ; epoch_rec += recall  \n",
    "    return epoch_loss / len(iterator), epoch_acc / len(iterator) , epoch_f1/len(iterator), epoch_pr/len(iterator), epoch_rec/len(iterator)"
   ]
  },
  {
   "cell_type": "code",
   "execution_count": 351,
   "metadata": {},
   "outputs": [],
   "source": [
    "def validate_model(model, iterator, criterion):\n",
    "    \n",
    "    epoch_loss = 0\n",
    "    epoch_acc = 0 \n",
    "    epoch_f1 = 0 ; epoch_pr = 0 ; epoch_rec = 0\n",
    "    model.eval()\n",
    "    with torch.no_grad():\n",
    "        for x ,y  in iterator:\n",
    "\n",
    "            predictions = model(x)#.squeeze(1)\n",
    "            loss = criterion(predictions,y)\n",
    "            acc = categorical_accuracy(predictions, y)\n",
    "            epoch_loss += loss.item()\n",
    "            epoch_acc += acc.item()\n",
    "            f1 , pr , recall  = f1_scorepy(predictions , y)\n",
    "            epoch_f1 += f1  ; epoch_pr += pr  ; epoch_rec += recall  \n",
    "        \n",
    "    return epoch_loss / len(iterator), epoch_acc /len(iterator) , epoch_f1/len(iterator), epoch_pr/len(iterator), epoch_rec/len(iterator)"
   ]
  },
  {
   "cell_type": "code",
   "execution_count": 352,
   "metadata": {},
   "outputs": [],
   "source": [
    "def init_weights(m):\n",
    "    if type(m) == nn.Linear:\n",
    "        torch.nn.init.xavier_uniform(m.weight)\n",
    "        m.bias.data.fill_(0.01)\n",
    "\n",
    "from torch import optim"
   ]
  },
  {
   "cell_type": "code",
   "execution_count": 353,
   "metadata": {},
   "outputs": [
    {
     "name": "stderr",
     "output_type": "stream",
     "text": [
      "/home/FRACTAL/swati.tiwari/anaconda3/envs/fastai38/lib/python3.7/site-packages/ipykernel_launcher.py:3: UserWarning: nn.init.xavier_uniform is now deprecated in favor of nn.init.xavier_uniform_.\n",
      "  This is separate from the ipykernel package so we can avoid doing imports until\n"
     ]
    }
   ],
   "source": [
    "best_valid_f1 = -float('inf')\n",
    "loss_func = nn.CrossEntropyLoss()\n",
    "loss_func = loss_func.to(dev)\n",
    "drp = 0.5\n",
    "model = Model(drp);\n",
    "model.apply(init_weights)\n",
    "model = model.to(dev)\n",
    "optimizer = optim.Adam(model.parameters() , lr = 0.005, weight_decay=0.001) #[a+'_pred' for a in aspects]\n",
    "model = model.to(dev)"
   ]
  },
  {
   "cell_type": "code",
   "execution_count": 354,
   "metadata": {},
   "outputs": [
    {
     "name": "stderr",
     "output_type": "stream",
     "text": [
      "/home/FRACTAL/swati.tiwari/anaconda3/envs/fastai38/lib/python3.7/site-packages/sklearn/metrics/classification.py:1143: UndefinedMetricWarning: Precision is ill-defined and being set to 0.0 in labels with no predicted samples.\n",
      "  'precision', 'predicted', average, warn_for)\n",
      "/home/FRACTAL/swati.tiwari/anaconda3/envs/fastai38/lib/python3.7/site-packages/sklearn/metrics/classification.py:1145: UndefinedMetricWarning: F-score is ill-defined and being set to 0.0 in labels with no true samples.\n",
      "  'recall', 'true', average, warn_for)\n",
      "/home/FRACTAL/swati.tiwari/anaconda3/envs/fastai38/lib/python3.7/site-packages/sklearn/metrics/classification.py:1145: UndefinedMetricWarning: Recall is ill-defined and being set to 0.0 in labels with no true samples.\n",
      "  'recall', 'true', average, warn_for)\n"
     ]
    },
    {
     "name": "stdout",
     "output_type": "stream",
     "text": [
      "train data 0.6452609896659851 0.4449486465859487 0.4674156641290686 0.4475313698629599\n",
      "valid data 0.8167613625526429 0.5541609755675811 0.5991496140341976 0.5494501898849725\n",
      "chk\n",
      "train data 0.7827953306528238 0.592721298328579 0.5949976690375594 0.6027124357614713\n",
      "valid data 0.8244318127632141 0.5562836322510664 0.5578914222006788 0.5602720210328906\n",
      "chk\n",
      "train data 0.8270947795647842 0.6582880421863826 0.6795165289306773 0.6625301815217065\n",
      "valid data 0.8338068127632141 0.5967592887699207 0.6742490696438066 0.5832234139842836\n",
      "chk\n"
     ]
    }
   ],
   "source": [
    "N_EPOCHS = 7\n",
    "best_valid_loss = float('inf')\n",
    "for epoch in range(N_EPOCHS):\n",
    "    train_loss , train_acc , train_f1 , train_precision , train_recall = train_model(model, train_dl, optimizer, loss_func)\n",
    "    valid_loss , valid_acc , valid_f1 , valid_precision , valid_recall  = validate_model(model, valid_dl, loss_func)\n",
    "    \n",
    "    if valid_loss < best_valid_loss:\n",
    "        best_valid_loss = valid_loss\n",
    "        print('train data' , train_acc , train_f1 , train_precision , train_recall)\n",
    "        print('valid data' , valid_acc ,  valid_f1 , valid_precision , valid_recall)\n",
    "\n",
    "\n",
    "        if os.path.isfile('utils/sentiment_classification_problem.pt'):\n",
    "            os.remove('utils/sentiment_classification_problem.pt') ; print('chk')\n",
    "\n",
    "        torch.save(model.state_dict(), 'utils/sentiment_classification_problem.pt')"
   ]
  },
  {
   "cell_type": "code",
   "execution_count": 414,
   "metadata": {},
   "outputs": [],
   "source": [
    "test_preds = np.array([])\n",
    "true_label = np.array([])\n",
    "with torch.no_grad():\n",
    "    for x ,y  in test_dl2:\n",
    "        predictions = model(x)#.squeeze(1)\n",
    "        max_preds = predictions.argmax(dim = 1, keepdim = True) \n",
    "        #rounded_preds = torch.round(torch.sigmoid(predictions))  #torch.round\n",
    "        preds = max_preds.data.cpu().numpy()\n",
    "        test_preds =np.append(test_preds , preds)\n",
    "       \n",
    "        true_label = np.append( true_label ,y.data.cpu().numpy())"
   ]
  },
  {
   "cell_type": "code",
   "execution_count": 415,
   "metadata": {},
   "outputs": [
    {
     "name": "stderr",
     "output_type": "stream",
     "text": [
      "/home/FRACTAL/swati.tiwari/anaconda3/envs/fastai38/lib/python3.7/site-packages/ipykernel_launcher.py:1: SettingWithCopyWarning: \n",
      "A value is trying to be set on a copy of a slice from a DataFrame.\n",
      "Try using .loc[row_indexer,col_indexer] = value instead\n",
      "\n",
      "See the caveats in the documentation: http://pandas.pydata.org/pandas-docs/stable/indexing.html#indexing-view-versus-copy\n",
      "  \"\"\"Entry point for launching an IPython kernel.\n",
      "/home/FRACTAL/swati.tiwari/anaconda3/envs/fastai38/lib/python3.7/site-packages/pandas/core/generic.py:5096: SettingWithCopyWarning: \n",
      "A value is trying to be set on a copy of a slice from a DataFrame.\n",
      "Try using .loc[row_indexer,col_indexer] = value instead\n",
      "\n",
      "See the caveats in the documentation: http://pandas.pydata.org/pandas-docs/stable/indexing.html#indexing-view-versus-copy\n",
      "  self[name] = value\n"
     ]
    },
    {
     "name": "stdout",
     "output_type": "stream",
     "text": [
      "F1 score 0.5663493727657031\n",
      "Precision score 0.6413590155163188\n",
      "Recall score 0.5686457428256274\n"
     ]
    }
   ],
   "source": [
    "sp_aspects_ungrp2['polarities_pred']  = test_preds\n",
    "sp_aspects_ungrp2.polarities_pred = sp_aspects_ungrp2.polarities_pred.astype(int)\n",
    "\n",
    "du1  = sp_aspects_ungrp2.groupby('text').polarities.apply(lambda x: ' '.join(map (str , x))).reset_index()\n",
    "du2  = sp_aspects_ungrp2.groupby('text').polarities_pred.apply(lambda x: ' '.join(map (str , x))).reset_index()\n",
    "\n",
    "sp_sentiment = pd.merge(du1 , du2 , on = ['text'])\n",
    "sp_sentiment['polarities'] =sp_sentiment['polarities'].apply(lambda x: x.split(' '))\n",
    "sp_sentiment['polarities_pred'] =sp_sentiment['polarities_pred'].apply(lambda x: x.split(' '))\n",
    "\n",
    "from sklearn.preprocessing import MultiLabelBinarizer\n",
    "mlb  = MultiLabelBinarizer()\n",
    "tr_eng = mlb.fit_transform(sp_sentiment.polarities)\n",
    "val_eng = mlb.transform(sp_sentiment.polarities_pred)\n",
    "\n",
    "print(\"F1 score\",f1_score( tr_eng , val_eng  , average='macro' ))\n",
    "print(\"Precision score\",precision_score(tr_eng , val_eng  , average='macro' ))\n",
    "print(\"Recall score\",recall_score(tr_eng , val_eng  , average='macro' ))"
   ]
  },
  {
   "cell_type": "code",
   "execution_count": 419,
   "metadata": {},
   "outputs": [],
   "source": [
    "test_preds = np.array([])\n",
    "true_label = np.array([])\n",
    "with torch.no_grad():\n",
    "    for x ,y  in valid_dl:\n",
    "        predictions = model(x)#.squeeze(1)\n",
    "        max_preds = predictions.argmax(dim = 1, keepdim = True) \n",
    "        #rounded_preds = torch.round(torch.sigmoid(predictions))  #torch.round\n",
    "        preds = max_preds.data.cpu().numpy()\n",
    "        test_preds =np.append(test_preds , preds)\n",
    "       \n",
    "        true_label = np.append( true_label ,y.data.cpu().numpy())"
   ]
  },
  {
   "cell_type": "code",
   "execution_count": 420,
   "metadata": {},
   "outputs": [
    {
     "data": {
      "text/plain": [
       "(300,)"
      ]
     },
     "execution_count": 420,
     "metadata": {},
     "output_type": "execute_result"
    }
   ],
   "source": [
    "test_preds.shape"
   ]
  },
  {
   "cell_type": "code",
   "execution_count": 421,
   "metadata": {},
   "outputs": [
    {
     "name": "stdout",
     "output_type": "stream",
     "text": [
      "F1 score 0.6386131309173065\n",
      "Precision score 0.6697743354369861\n",
      "Recall score 0.6225255652500234\n"
     ]
    },
    {
     "name": "stderr",
     "output_type": "stream",
     "text": [
      "/home/FRACTAL/swati.tiwari/anaconda3/envs/fastai38/lib/python3.7/site-packages/ipykernel_launcher.py:1: SettingWithCopyWarning: \n",
      "A value is trying to be set on a copy of a slice from a DataFrame.\n",
      "Try using .loc[row_indexer,col_indexer] = value instead\n",
      "\n",
      "See the caveats in the documentation: http://pandas.pydata.org/pandas-docs/stable/indexing.html#indexing-view-versus-copy\n",
      "  \"\"\"Entry point for launching an IPython kernel.\n",
      "/home/FRACTAL/swati.tiwari/anaconda3/envs/fastai38/lib/python3.7/site-packages/pandas/core/generic.py:5096: SettingWithCopyWarning: \n",
      "A value is trying to be set on a copy of a slice from a DataFrame.\n",
      "Try using .loc[row_indexer,col_indexer] = value instead\n",
      "\n",
      "See the caveats in the documentation: http://pandas.pydata.org/pandas-docs/stable/indexing.html#indexing-view-versus-copy\n",
      "  self[name] = value\n"
     ]
    }
   ],
   "source": [
    "val_aspects_ungrp2['polarities_pred']  = test_preds\n",
    "val_aspects_ungrp2.polarities_pred = val_aspects_ungrp2.polarities_pred.astype(int)\n",
    "\n",
    "du1  = val_aspects_ungrp2.groupby('text').polarities.apply(lambda x: ' '.join(map (str , x))).reset_index()\n",
    "du2  = val_aspects_ungrp2.groupby('text').polarities_pred.apply(lambda x: ' '.join(map (str , x))).reset_index()\n",
    "\n",
    "sp_sentiment = pd.merge(du1 , du2 , on = ['text'])\n",
    "sp_sentiment['polarities'] =sp_sentiment['polarities'].apply(lambda x: x.split(' '))\n",
    "sp_sentiment['polarities_pred'] =sp_sentiment['polarities_pred'].apply(lambda x: x.split(' '))\n",
    "\n",
    "from sklearn.preprocessing import MultiLabelBinarizer\n",
    "mlb  = MultiLabelBinarizer()\n",
    "tr_eng = mlb.fit_transform(sp_sentiment.polarities)\n",
    "val_eng = mlb.transform(sp_sentiment.polarities_pred)\n",
    "\n",
    "print(\"F1 score\",f1_score( tr_eng , val_eng  , average='macro' ))\n",
    "print(\"Precision score\",precision_score(tr_eng , val_eng  , average='macro' ))\n",
    "print(\"Recall score\",recall_score(tr_eng , val_eng  , average='macro' ))"
   ]
  },
  {
   "cell_type": "code",
   "execution_count": null,
   "metadata": {},
   "outputs": [],
   "source": []
  },
  {
   "cell_type": "code",
   "execution_count": null,
   "metadata": {},
   "outputs": [],
   "source": []
  },
  {
   "cell_type": "code",
   "execution_count": null,
   "metadata": {},
   "outputs": [],
   "source": []
  },
  {
   "cell_type": "code",
   "execution_count": null,
   "metadata": {},
   "outputs": [],
   "source": []
  },
  {
   "cell_type": "code",
   "execution_count": 372,
   "metadata": {},
   "outputs": [
    {
     "name": "stdout",
     "output_type": "stream",
     "text": [
      "F1 score 0.5598282394554758\n",
      "Precision score 0.6457888894523612\n",
      "Recall score 0.5673783752499005\n",
      "Accuracy score 0.7731755424063116\n"
     ]
    }
   ],
   "source": [
    "from sklearn.metrics import f1_score , confusion_matrix , accuracy_score , precision_score , recall_score , roc_auc_score\n",
    "print(\"F1 score\",f1_score(true_label  , test_preds , average='macro' ))\n",
    "print(\"Precision score\",precision_score( true_label  , test_preds  , average='macro' ))\n",
    "print(\"Recall score\",recall_score(true_label  , test_preds  , average='macro' ))\n",
    "print(\"Accuracy score\" ,accuracy_score(  true_label  , test_preds ))"
   ]
  }
 ],
 "metadata": {
  "kernelspec": {
   "display_name": "Python 3",
   "language": "python",
   "name": "python3"
  },
  "language_info": {
   "codemirror_mode": {
    "name": "ipython",
    "version": 3
   },
   "file_extension": ".py",
   "mimetype": "text/x-python",
   "name": "python",
   "nbconvert_exporter": "python",
   "pygments_lexer": "ipython3",
   "version": "3.7.3"
  }
 },
 "nbformat": 4,
 "nbformat_minor": 2
}
