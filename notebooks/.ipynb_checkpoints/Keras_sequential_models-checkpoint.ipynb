{
 "cells": [
  {
   "cell_type": "code",
   "execution_count": 1,
   "metadata": {},
   "outputs": [
    {
     "name": "stderr",
     "output_type": "stream",
     "text": [
      "Using TensorFlow backend.\n"
     ]
    }
   ],
   "source": [
    "from __future__ import print_function\n",
    "import collections\n",
    "import pickle\n",
    "import re\n",
    "import random\n",
    "import sys\n",
    "import os \n",
    "import time\n",
    "\n",
    "import gensim\n",
    "from gensim.models.keyedvectors import KeyedVectors\n",
    "from gensim.models.fasttext import FastText\n",
    "from gensim.models import word2vec\n",
    "\n",
    "from sklearn.model_selection import train_test_split,cross_val_score, cross_val_predict, KFold, GridSearchCV\n",
    "from sklearn.metrics import accuracy_score, f1_score, precision_score, recall_score, classification_report, confusion_matrix,precision_recall_fscore_support\n",
    "from sklearn import svm\n",
    "\n",
    "import pandas as pd\n",
    "import numpy as np\n",
    "from numpy import array\n",
    "from numpy import asarray\n",
    "from numpy import zeros\n",
    "from numpy import cumsum\n",
    "\n",
    "import tensorflow as tf\n",
    "import keras\n",
    "from keras import backend as K\n",
    "from keras import initializers\n",
    "from keras.models import Sequential,Model,load_model\n",
    "from keras.preprocessing.text import Tokenizer\n",
    "from keras.preprocessing.sequence import pad_sequences\n",
    "from keras.layers import Dropout, Activation, Flatten, \\\n",
    "    Embedding, Convolution1D, MaxPooling1D, AveragePooling1D, \\\n",
    "    Input, Dense, merge, Add,TimeDistributed, Bidirectional,SpatialDropout1D, \\\n",
    "    Concatenate, concatenate, multiply, Lambda, dot, Layer\n",
    "from keras.layers.recurrent import LSTM, GRU, SimpleRNN\n",
    "from keras.regularizers import l2, l1_l2\n",
    "from keras.constraints import maxnorm\n",
    "from keras import callbacks\n",
    "from keras.utils import generic_utils,plot_model\n",
    "from keras.optimizers import Adadelta,Adam\n",
    "from keras.callbacks import ModelCheckpoint,EarlyStopping\n",
    "from keras.wrappers.scikit_learn import KerasClassifier\n",
    "# from keras.engine.topology import Layer\n",
    "\n",
    "\n",
    "import matplotlib.image  as mpimg\n",
    "import matplotlib.pyplot as plt\n",
    "\n",
    "import sys\n",
    "import re\n",
    "import os\n",
    "from pathlib import Path\n",
    "from collections import namedtuple\n",
    "import numpy as np\n",
    "import pandas as pd\n",
    "import pickle\n",
    "import gensim.downloader as gensimapi\n",
    "from collections import Counter, defaultdict\n",
    "import ast"
   ]
  },
  {
   "cell_type": "code",
   "execution_count": 2,
   "metadata": {},
   "outputs": [
    {
     "name": "stdout",
     "output_type": "stream",
     "text": [
      " Backup\r\n",
      "'Cross Lingual Aspect Based Sentiment Analysis- Part 1.ipynb'\r\n",
      "'Cross Lingual Aspect Based Sentiment Analysis- Part 2.ipynb'\r\n",
      " Keras_ML_models.ipynb\r\n",
      " Keras_sequential_models_3_classess.ipynb\r\n",
      " Keras_sequential_models.ipynb\r\n",
      "'Multilingual  semeval  dataset creation.ipynb'\r\n",
      " results\r\n",
      "'Tatoeba Similarity Search.ipynb'\r\n",
      " Twitter_Data.ipynb\r\n",
      " utils\r\n"
     ]
    }
   ],
   "source": [
    "!ls"
   ]
  },
  {
   "cell_type": "code",
   "execution_count": 3,
   "metadata": {},
   "outputs": [],
   "source": [
    "# data_folder = \"../../../corpus/new/preprocess_from_isuru/\"\n",
    "# lankadeepa_data_path = data_folder + 'lankadeepa_tagged_comments.csv'\n",
    "# gossip_lanka_data_path = data_folder + 'gossip_lanka_tagged_comments.csv'\n",
    "\n",
    "# lankadeepa_data = pd.read_csv(lankadeepa_data_path)[:9059]\n",
    "# gossipLanka_data = pd.read_csv(gossip_lanka_data_path)\n",
    "# gossipLanka_data = gossipLanka_data.drop(columns=['Unnamed: 3'])\n",
    "\n",
    "# sinhala_data = pd.concat([lankadeepa_data,gossipLanka_data], ignore_index=True)\n",
    "# sinhala_data.to_csv(\"../data/sinhala_comments.csv\")"
   ]
  },
  {
   "cell_type": "code",
   "execution_count": 55,
   "metadata": {},
   "outputs": [],
   "source": [
    "train_aspects_ungrp = pd.read_csv('../data/Train_english_restaurants_ungrp.csv')\n",
    "val_aspects_ungrp2 = pd.read_csv('../data/Valid_english_restaurants_ungrp.csv')\n",
    "du_aspects_ungrp2  = pd.read_csv('../data/Dutch_restaurants_ungrp.csv')\n",
    "sp_aspects_ungrp2  = pd.read_csv('../data/Spanish_english_restaurants_ungrp.csv')\n",
    "\n",
    "sinhala_comments  = pd.read_csv('../data/sinhala_comments.csv')\n"
   ]
  },
  {
   "cell_type": "code",
   "execution_count": 56,
   "metadata": {},
   "outputs": [
    {
     "name": "stdout",
     "output_type": "stream",
     "text": [
      "[[   2 7665]\n",
      " [   3 2403]\n",
      " [   4 3080]\n",
      " [   5 1911]]\n"
     ]
    }
   ],
   "source": [
    "(unique, counts) = np.unique(sinhala_comments[\"label\"].values, return_counts = True)\n",
    "frequencies = np.asarray((unique, counts)).T\n",
    "print(frequencies)"
   ]
  },
  {
   "cell_type": "code",
   "execution_count": 57,
   "metadata": {},
   "outputs": [],
   "source": [
    "train_aspects_ungrp[['text']].to_csv('../data/processed/en_resturant.csv' , header = None , index = None , mode = 'w')\n",
    "val_aspects_ungrp2[['text']].to_csv('../data/processed/en_val.csv' , header = None , index = None , mode = 'w')\n",
    "du_aspects_ungrp2[['text']].to_csv('../data/processed/nl_resturant.csv' , header = None , index = None , mode = 'w')\n",
    "sp_aspects_ungrp2[['text']].to_csv('../data/processed/es_resturant.csv' , header = None , index = None , mode = 'w')\n",
    "\n",
    "sinhala_comments[['comment']].to_csv('../data/processed/sinhala_comments.csv' , header = None , index = None , mode = 'w')\n"
   ]
  },
  {
   "cell_type": "code",
   "execution_count": 58,
   "metadata": {},
   "outputs": [
    {
     "data": {
      "text/plain": [
       "(13148, 4)"
      ]
     },
     "execution_count": 58,
     "metadata": {},
     "output_type": "execute_result"
    }
   ],
   "source": [
    "sinhala_comments = sinhala_comments.loc[sinhala_comments['label'].isin([2, 3, 4])]\n",
    "sinhala_comments.shape"
   ]
  },
  {
   "cell_type": "code",
   "execution_count": 59,
   "metadata": {},
   "outputs": [],
   "source": [
    "LASER_PATH = \"/home/lahiru/Projects/FYP/LASER/LASER\"\n",
    "sys.path.insert(0, LASER_PATH + '/source/lib')\n",
    "sys.path.insert(1, LASER_PATH + '/source')\n",
    "\n",
    "DATA_PATH = Path(\"../data/processed/\")\n",
    "CACHE_PATH = Path(\"../cache2/\")\n",
    "CACHE_PATH.mkdir(exist_ok=True)\n",
    "MODEL_PATH = Path(LASER_PATH + \"/models\")\n",
    "\n",
    "os.environ[\"LASER\"] = LASER_PATH \n",
    "SPACE_NORMALIZER = re.compile(\"\\s+\")\n",
    "Batch = namedtuple('Batch', 'srcs tokens lengths')"
   ]
  },
  {
   "cell_type": "code",
   "execution_count": 60,
   "metadata": {},
   "outputs": [],
   "source": [
    "from indexing import IndexLoad, IndexTextOpen, IndexTextQuery, IndexSearchKNN, IndexCreate, IndexSearchMultiple\n",
    "from embed import SentenceEncoder, EncodeLoad, EncodeFile\n",
    "from text_processing import Token, BPEfastApply"
   ]
  },
  {
   "cell_type": "code",
   "execution_count": 61,
   "metadata": {},
   "outputs": [
    {
     "name": "stdout",
     "output_type": "stream",
     "text": [
      " - Tokenizer: en_resturant.csv exists already\n",
      " - Tokenizer: nl_resturant.csv exists already\n",
      " - Tokenizer: es_resturant.csv exists already\n",
      " - Tokenizer: en_val.csv exists already\n"
     ]
    }
   ],
   "source": [
    "encoder = SentenceEncoder(\n",
    "    str(MODEL_PATH / \"bilstm.93langs.2018-12-26.pt\"),\n",
    "    max_sentences=None,\n",
    "    max_tokens=10000,\n",
    "    cpu=False)\n",
    "#original : cpu = False\n",
    "\n",
    "bpe_codes = str(MODEL_PATH / \"93langs.fcodes\")\n",
    "\n",
    "for lang in (\"en\" ,\"nl\", 'es'): \n",
    "    Token(\n",
    "        str(DATA_PATH / f\"{lang}_resturant.csv\"), ##english_resturant.txt\n",
    "        str(CACHE_PATH / f\"{lang}_resturant.csv\"),\n",
    "        lang=lang,\n",
    "        romanize=False,\n",
    "        lower_case=True, gzip=False,\n",
    "        verbose=True)\n",
    "    BPEfastApply(\n",
    "        str(CACHE_PATH / f\"{lang}_resturant.csv\"),\n",
    "        str(CACHE_PATH / f\"{lang}_resturant.bpe\"),\n",
    "        bpe_codes,\n",
    "        verbose=True, over_write=True)\n",
    "    EncodeFile(\n",
    "        encoder,\n",
    "        str(CACHE_PATH / f\"{lang}_resturant.bpe\"),\n",
    "        str(CACHE_PATH / f\"{lang}_resturant.enc\"),\n",
    "        verbose=True, over_write=True)    \n",
    "    \n",
    "    \n",
    "Token(\n",
    "    str(DATA_PATH / f\"en_val.csv\"), ##english_resturant.txt\n",
    "    str(CACHE_PATH / f\"en_val.csv\"),\n",
    "    lang=lang,\n",
    "    romanize=False,\n",
    "    lower_case=True, gzip=False,\n",
    "    verbose=True)\n",
    "BPEfastApply(\n",
    "    str(CACHE_PATH / f\"en_val.csv\"),\n",
    "    str(CACHE_PATH / f\"en_val.bpe\"),\n",
    "    bpe_codes,\n",
    "    verbose=True, over_write=True)\n",
    "EncodeFile(\n",
    "    encoder,\n",
    "    str(CACHE_PATH / f\"en_val.bpe\"),\n",
    "    str(CACHE_PATH / f\"en_val.enc\"),\n",
    "    verbose=True, over_write=True)    "
   ]
  },
  {
   "cell_type": "code",
   "execution_count": 62,
   "metadata": {},
   "outputs": [
    {
     "name": "stdout",
     "output_type": "stream",
     "text": [
      " - Tokenizer: sinhala_comments.csv exists already\n"
     ]
    }
   ],
   "source": [
    "Token(\n",
    "    str(DATA_PATH / f\"sinhala_comments.csv\"), ##english_resturant.txt\n",
    "    str(CACHE_PATH / f\"sinhala_comments.csv\"),\n",
    "    lang=\"sin\",\n",
    "    romanize=False,\n",
    "    lower_case=True, gzip=False,\n",
    "    verbose=True)\n",
    "BPEfastApply(\n",
    "    str(CACHE_PATH / f\"sinhala_comments.csv\"),\n",
    "    str(CACHE_PATH / f\"sinhala_comments.bpe\"),\n",
    "    bpe_codes,\n",
    "    verbose=True, over_write=True)\n",
    "EncodeFile(\n",
    "    encoder,\n",
    "    str(CACHE_PATH / f\"sinhala_comments.bpe\"),\n",
    "    str(CACHE_PATH / f\"sinhala_comments.enc\"),\n",
    "    verbose=True, over_write=True)  "
   ]
  },
  {
   "cell_type": "code",
   "execution_count": 63,
   "metadata": {},
   "outputs": [],
   "source": [
    "LASER_PATH = \"/home/lahiru/Projects/FYP/LASER/LASER\"\n",
    "sys.path.insert(0, LASER_PATH + '/source/lib')\n",
    "sys.path.insert(1, LASER_PATH + '/source')\n",
    "\n",
    "DATA_PATH = Path(\"../data/processed/\")\n",
    "CACHE_PATH = Path(\"../cache2/\")\n",
    "CACHE_PATH.mkdir(exist_ok=True)\n",
    "MODEL_PATH = Path(LASER_PATH + \"/models\")\n",
    "\n",
    "os.environ[\"LASER\"] = LASER_PATH \n",
    "SPACE_NORMALIZER = re.compile(\"\\s+\")\n",
    "Batch = namedtuple('Batch', 'srcs tokens lengths')"
   ]
  },
  {
   "cell_type": "code",
   "execution_count": 64,
   "metadata": {},
   "outputs": [
    {
     "name": "stdout",
     "output_type": "stream",
     "text": [
      " - embedding: ../cache2/en_resturant.enc 1656 examples of dim 1024\n",
      " - creating FAISS index\n",
      " - embedding: ../cache2/en_val.enc 283 examples of dim 1024\n",
      " - creating FAISS index\n",
      " - embedding: ../cache2/nl_resturant.enc 960 examples of dim 1024\n",
      " - creating FAISS index\n",
      " - embedding: ../cache2/es_resturant.enc 1416 examples of dim 1024\n",
      " - creating FAISS index\n",
      " - embedding: ../cache2/sinhala_comments.enc 15059 examples of dim 1024\n",
      " - creating FAISS index\n"
     ]
    }
   ],
   "source": [
    "train_en, index_tr_en = IndexCreate(\n",
    "    str(CACHE_PATH / \"en_resturant.enc\"), 'FlatL2', verbose=True, save_index=False)\n",
    "val_en, index_val_en = IndexCreate(\n",
    "    str(CACHE_PATH / \"en_val.enc\"), 'FlatL2', verbose=True, save_index=False)\n",
    "\n",
    "data_du, index_du = IndexCreate(\n",
    "    str(CACHE_PATH / \"nl_resturant.enc\"), 'FlatL2', verbose=True, save_index=False)\n",
    "data_spanish, index_spanish = IndexCreate(\n",
    "    str(CACHE_PATH / \"es_resturant.enc\"), 'FlatL2', verbose=True, save_index=False)\n",
    "\n",
    "data_sinhala, index_sinhala = IndexCreate(\n",
    "    str(CACHE_PATH / \"sinhala_comments.enc\"), 'FlatL2', verbose=True, save_index=False)"
   ]
  },
  {
   "cell_type": "code",
   "execution_count": 65,
   "metadata": {},
   "outputs": [],
   "source": [
    "def change_target(x):\n",
    "    if x=='positive':\n",
    "        return 2\n",
    "    elif x =='negative':\n",
    "        return 1\n",
    "    else:\n",
    "        return 0 \n",
    "    \n",
    "def change_target_sinala(x):\n",
    "    if x== 4:\n",
    "        return 2\n",
    "    elif x == 2:\n",
    "        return 1\n",
    "    else :\n",
    "        return 0 \n",
    "\n",
    "train_aspects_ungrp['polarities'] = train_aspects_ungrp['polarities'].apply(lambda x: change_target(x))\n",
    "val_aspects_ungrp2['polarities'] = val_aspects_ungrp2['polarities'].apply(lambda x: change_target(x))\n",
    "sp_aspects_ungrp2['polarities'] = sp_aspects_ungrp2['polarities'].apply(lambda x: change_target(x))\n",
    "du_aspects_ungrp2['polarities'] = du_aspects_ungrp2['polarities'].apply(lambda x: change_target(x))\n",
    "\n",
    "sinhala_comments['label'] = sinhala_comments['label'].apply(lambda x: change_target_sinala(x))"
   ]
  },
  {
   "cell_type": "code",
   "execution_count": 66,
   "metadata": {},
   "outputs": [
    {
     "data": {
      "text/plain": [
       "((1656,), (283,), (960,), (1416,), (13148,))"
      ]
     },
     "execution_count": 66,
     "metadata": {},
     "output_type": "execute_result"
    }
   ],
   "source": [
    "from sklearn.preprocessing import MultiLabelBinarizer\n",
    "tr_eng =  train_aspects_ungrp['polarities'].values\n",
    "val_eng =val_aspects_ungrp2['polarities'].values  \n",
    "y_du  = du_aspects_ungrp2['polarities'].values\n",
    "y_spainish  = sp_aspects_ungrp2['polarities'].values\n",
    "\n",
    "y_sinhala  = sinhala_comments['label'].values\n",
    "tr_eng.shape , val_eng.shape , y_du.shape , y_spainish.shape, y_sinhala.shape"
   ]
  },
  {
   "cell_type": "code",
   "execution_count": 67,
   "metadata": {},
   "outputs": [
    {
     "name": "stdout",
     "output_type": "stream",
     "text": [
      "[[   0 2403]\n",
      " [   1 7665]\n",
      " [   2 3080]]\n"
     ]
    }
   ],
   "source": [
    "(unique, counts) = np.unique(y_sinhala, return_counts = True)\n",
    "frequencies = np.asarray((unique, counts)).T\n",
    "print(frequencies)"
   ]
  },
  {
   "cell_type": "code",
   "execution_count": 68,
   "metadata": {},
   "outputs": [],
   "source": [
    "tr_eng = pd.get_dummies(tr_eng).values\n",
    "val_eng = pd.get_dummies(val_eng).values\n",
    "y_du = pd.get_dummies(y_du).values\n",
    "y_spainish = pd.get_dummies(y_spainish).values\n",
    "y_sinhala = pd.get_dummies(y_sinhala).values"
   ]
  },
  {
   "cell_type": "code",
   "execution_count": 69,
   "metadata": {},
   "outputs": [
    {
     "data": {
      "text/plain": [
       "array([0, 0, 1], dtype=uint8)"
      ]
     },
     "execution_count": 69,
     "metadata": {},
     "output_type": "execute_result"
    }
   ],
   "source": [
    "tr_eng[0]"
   ]
  },
  {
   "cell_type": "code",
   "execution_count": 70,
   "metadata": {},
   "outputs": [],
   "source": [
    "from sklearn.preprocessing import StandardScaler\n",
    "std_scale = StandardScaler().fit(train_en)\n",
    "train_std = std_scale.transform(train_en) \n",
    "val_std = std_scale.transform(val_en)\n",
    "dutch_std = std_scale.transform(data_du)\n",
    "spanish_std = std_scale.transform(data_spanish)\n",
    "sinhala_std = std_scale.transform(data_sinhala)"
   ]
  },
  {
   "cell_type": "code",
   "execution_count": 71,
   "metadata": {},
   "outputs": [
    {
     "data": {
      "text/plain": [
       "(15059, 1024)"
      ]
     },
     "execution_count": 71,
     "metadata": {},
     "output_type": "execute_result"
    }
   ],
   "source": [
    "sinhala_std.shape"
   ]
  },
  {
   "cell_type": "code",
   "execution_count": 72,
   "metadata": {},
   "outputs": [],
   "source": [
    "time_steps = 64\n",
    "features = int(len(train_std[0]))//64"
   ]
  },
  {
   "cell_type": "code",
   "execution_count": 73,
   "metadata": {},
   "outputs": [],
   "source": [
    "train_std = train_std.reshape(len(train_std), time_steps, features)\n",
    "sinhala_std = sinhala_std.reshape(len(sinhala_std), time_steps, features)"
   ]
  },
  {
   "cell_type": "code",
   "execution_count": 74,
   "metadata": {},
   "outputs": [
    {
     "ename": "ValueError",
     "evalue": "Found input variables with inconsistent numbers of samples: [15059, 13148]",
     "output_type": "error",
     "traceback": [
      "\u001b[0;31m---------------------------------------------------------------------------\u001b[0m",
      "\u001b[0;31mValueError\u001b[0m                                Traceback (most recent call last)",
      "\u001b[0;32m<ipython-input-74-f4d1cba0aed5>\u001b[0m in \u001b[0;36m<module>\u001b[0;34m()\u001b[0m\n\u001b[0;32m----> 1\u001b[0;31m \u001b[0mX_train\u001b[0m\u001b[0;34m,\u001b[0m \u001b[0mX_test\u001b[0m\u001b[0;34m,\u001b[0m \u001b[0my_train\u001b[0m\u001b[0;34m,\u001b[0m \u001b[0my_test\u001b[0m \u001b[0;34m=\u001b[0m \u001b[0mtrain_test_split\u001b[0m\u001b[0;34m(\u001b[0m\u001b[0msinhala_std\u001b[0m\u001b[0;34m,\u001b[0m \u001b[0my_sinhala\u001b[0m\u001b[0;34m,\u001b[0m \u001b[0mtest_size\u001b[0m\u001b[0;34m=\u001b[0m\u001b[0;36m0.2\u001b[0m\u001b[0;34m,\u001b[0m \u001b[0mrandom_state\u001b[0m\u001b[0;34m=\u001b[0m\u001b[0;36m0\u001b[0m\u001b[0;34m)\u001b[0m\u001b[0;34m\u001b[0m\u001b[0;34m\u001b[0m\u001b[0m\n\u001b[0m",
      "\u001b[0;32m/home/lahiru/anaconda3/envs/LASER-tf-1/lib/python3.6/site-packages/sklearn/model_selection/_split.py\u001b[0m in \u001b[0;36mtrain_test_split\u001b[0;34m(*arrays, **options)\u001b[0m\n\u001b[1;32m   2125\u001b[0m         \u001b[0;32mraise\u001b[0m \u001b[0mTypeError\u001b[0m\u001b[0;34m(\u001b[0m\u001b[0;34m\"Invalid parameters passed: %s\"\u001b[0m \u001b[0;34m%\u001b[0m \u001b[0mstr\u001b[0m\u001b[0;34m(\u001b[0m\u001b[0moptions\u001b[0m\u001b[0;34m)\u001b[0m\u001b[0;34m)\u001b[0m\u001b[0;34m\u001b[0m\u001b[0;34m\u001b[0m\u001b[0m\n\u001b[1;32m   2126\u001b[0m \u001b[0;34m\u001b[0m\u001b[0m\n\u001b[0;32m-> 2127\u001b[0;31m     \u001b[0marrays\u001b[0m \u001b[0;34m=\u001b[0m \u001b[0mindexable\u001b[0m\u001b[0;34m(\u001b[0m\u001b[0;34m*\u001b[0m\u001b[0marrays\u001b[0m\u001b[0;34m)\u001b[0m\u001b[0;34m\u001b[0m\u001b[0;34m\u001b[0m\u001b[0m\n\u001b[0m\u001b[1;32m   2128\u001b[0m \u001b[0;34m\u001b[0m\u001b[0m\n\u001b[1;32m   2129\u001b[0m     \u001b[0mn_samples\u001b[0m \u001b[0;34m=\u001b[0m \u001b[0m_num_samples\u001b[0m\u001b[0;34m(\u001b[0m\u001b[0marrays\u001b[0m\u001b[0;34m[\u001b[0m\u001b[0;36m0\u001b[0m\u001b[0;34m]\u001b[0m\u001b[0;34m)\u001b[0m\u001b[0;34m\u001b[0m\u001b[0;34m\u001b[0m\u001b[0m\n",
      "\u001b[0;32m/home/lahiru/anaconda3/envs/LASER-tf-1/lib/python3.6/site-packages/sklearn/utils/validation.py\u001b[0m in \u001b[0;36mindexable\u001b[0;34m(*iterables)\u001b[0m\n\u001b[1;32m    290\u001b[0m     \"\"\"\n\u001b[1;32m    291\u001b[0m     \u001b[0mresult\u001b[0m \u001b[0;34m=\u001b[0m \u001b[0;34m[\u001b[0m\u001b[0m_make_indexable\u001b[0m\u001b[0;34m(\u001b[0m\u001b[0mX\u001b[0m\u001b[0;34m)\u001b[0m \u001b[0;32mfor\u001b[0m \u001b[0mX\u001b[0m \u001b[0;32min\u001b[0m \u001b[0miterables\u001b[0m\u001b[0;34m]\u001b[0m\u001b[0;34m\u001b[0m\u001b[0;34m\u001b[0m\u001b[0m\n\u001b[0;32m--> 292\u001b[0;31m     \u001b[0mcheck_consistent_length\u001b[0m\u001b[0;34m(\u001b[0m\u001b[0;34m*\u001b[0m\u001b[0mresult\u001b[0m\u001b[0;34m)\u001b[0m\u001b[0;34m\u001b[0m\u001b[0;34m\u001b[0m\u001b[0m\n\u001b[0m\u001b[1;32m    293\u001b[0m     \u001b[0;32mreturn\u001b[0m \u001b[0mresult\u001b[0m\u001b[0;34m\u001b[0m\u001b[0;34m\u001b[0m\u001b[0m\n\u001b[1;32m    294\u001b[0m \u001b[0;34m\u001b[0m\u001b[0m\n",
      "\u001b[0;32m/home/lahiru/anaconda3/envs/LASER-tf-1/lib/python3.6/site-packages/sklearn/utils/validation.py\u001b[0m in \u001b[0;36mcheck_consistent_length\u001b[0;34m(*arrays)\u001b[0m\n\u001b[1;32m    254\u001b[0m     \u001b[0;32mif\u001b[0m \u001b[0mlen\u001b[0m\u001b[0;34m(\u001b[0m\u001b[0muniques\u001b[0m\u001b[0;34m)\u001b[0m \u001b[0;34m>\u001b[0m \u001b[0;36m1\u001b[0m\u001b[0;34m:\u001b[0m\u001b[0;34m\u001b[0m\u001b[0;34m\u001b[0m\u001b[0m\n\u001b[1;32m    255\u001b[0m         raise ValueError(\"Found input variables with inconsistent numbers of\"\n\u001b[0;32m--> 256\u001b[0;31m                          \" samples: %r\" % [int(l) for l in lengths])\n\u001b[0m\u001b[1;32m    257\u001b[0m \u001b[0;34m\u001b[0m\u001b[0m\n\u001b[1;32m    258\u001b[0m \u001b[0;34m\u001b[0m\u001b[0m\n",
      "\u001b[0;31mValueError\u001b[0m: Found input variables with inconsistent numbers of samples: [15059, 13148]"
     ]
    }
   ],
   "source": [
    "X_train, X_test, y_train, y_test = train_test_split(sinhala_std, y_sinhala, test_size=0.2, random_state=0)"
   ]
  },
  {
   "cell_type": "code",
   "execution_count": 75,
   "metadata": {},
   "outputs": [
    {
     "data": {
      "text/plain": [
       "(1656, 64, 16)"
      ]
     },
     "execution_count": 75,
     "metadata": {},
     "output_type": "execute_result"
    }
   ],
   "source": [
    "train_std.shape"
   ]
  },
  {
   "cell_type": "code",
   "execution_count": 76,
   "metadata": {},
   "outputs": [],
   "source": [
    "def RNN_model():\n",
    "    main_input = Input(shape=(time_steps,features ), dtype='float', name='main_input')\n",
    "#     embedding  = Embedding(MAX_FEATURES, EMBEDDING_SIZE\n",
    "#               , input_length=MAX_LEN,\n",
    "#               name='embedding' ,trainable=False)(main_input)\n",
    "\n",
    "#     embedding = Dropout(DROPOUT_VALUE_1)(main_input)\n",
    "\n",
    "    x = RNN(HIDDEN_DIMS)(main_input)\n",
    "\n",
    "    x = Dense(HIDDEN_DIMS, activation='relu', init='he_normal', \n",
    "              W_constraint = maxnorm(3), b_constraint=maxnorm(3),\n",
    "              name='mlp')(x)\n",
    "\n",
    "    x = Dropout(DROPOUT_VALUE_2, name='drop')(x)\n",
    "\n",
    "    output = Dense(3, init='he_normal',\n",
    "                   activation='softmax', name='output')(x)\n",
    "\n",
    "    model = Model(input=main_input, output=output ,name=\"RNN_model\")\n",
    "\n",
    "    model.compile(loss={'output':'categorical_crossentropy'},\n",
    "              optimizer=Adadelta(lr=0.95, epsilon=1e-06),\n",
    "              metrics=[\"accuracy\",\n",
    "                       keras.metrics.Precision(),\n",
    "                        keras.metrics.Recall(),\n",
    "                       f1])\n",
    "    \n",
    "    print(model.summary())\n",
    "    return model\n",
    "\n",
    "# def simple_model():\n",
    "#     model = tf.keras.Sequential()\n",
    "#     model.add(tf.keras.layers.Dense(512))\n",
    "#     model.add(tf.keras.layers.Dense(256))\n",
    "#     model.add(tf.keras.layers.Dense(3))\n",
    "#     model.compile(optimizer='sgd', loss='categorical_crossentropy', metrics=[\"accuracy\"])\n",
    "#     # This builds the model for the first time:\n",
    "    \n",
    "#     return model\n",
    "\n",
    "# def simple_model2():\n",
    "    \n",
    "#     model = Sequential()\n",
    "#     model.add(LSTM(32, input_shape=(1024, 1024)))\n",
    "#     model.add(Dense(3))\n",
    "#     print(model.summary())\n",
    "#     model.compile(optimizer='sgd', loss='categorical_crossentropy', metrics=[\"accuracy\"])\n",
    "#     return model\n",
    "\n",
    "    \n"
   ]
  },
  {
   "cell_type": "code",
   "execution_count": 33,
   "metadata": {},
   "outputs": [],
   "source": [
    "def f1(y_true, y_pred):\n",
    "    def recall(y_true, y_pred):\n",
    "        \"\"\"Recall metric.\n",
    "\n",
    "        Only computes a batch-wise average of recall.\n",
    "\n",
    "        Computes the recall, a metric for multi-label classification of\n",
    "        how many relevant items are selected.\n",
    "        \"\"\"\n",
    "        true_positives = K.sum(K.round(K.clip(y_true * y_pred, 0, 1)))\n",
    "        possible_positives = K.sum(K.round(K.clip(y_true, 0, 1)))\n",
    "        recall = true_positives / (possible_positives + K.epsilon())\n",
    "        return recall\n",
    "\n",
    "    def precision(y_true, y_pred):\n",
    "        \"\"\"Precision metric.\n",
    "\n",
    "        Only computes a batch-wise average of precision.\n",
    "\n",
    "        Computes the precision, a metric for multi-label classification of\n",
    "        how many selected items are relevant.\n",
    "        \"\"\"\n",
    "        true_positives = K.sum(K.round(K.clip(y_true * y_pred, 0, 1)))\n",
    "        predicted_positives = K.sum(K.round(K.clip(y_pred, 0, 1)))\n",
    "        precision = true_positives / (predicted_positives + K.epsilon())\n",
    "        return precision\n",
    "    precision = precision(y_true, y_pred)\n",
    "    recall = recall(y_true, y_pred)\n",
    "    return 2*((precision*recall)/(precision+recall+K.epsilon()))"
   ]
  },
  {
   "cell_type": "code",
   "execution_count": 34,
   "metadata": {},
   "outputs": [],
   "source": [
    "def Train_Model(model,X_train, y_train, val_data=None , cross_validation = False):\n",
    "    print('Training and Testing...')\n",
    "    es = EarlyStopping(monitor='val_f1', mode='max', verbose=1, patience=5)\n",
    "    checkpoint = ModelCheckpoint(model_save_path, monitor='val_f1', verbose=1, save_best_only=True, mode='max')\n",
    "    callbacks_list = [checkpoint,es]\n",
    "    \n",
    "    if (cross_validation):\n",
    "        callbacks_list = [es]\n",
    "        his = model.fit(X_train, y_train, epochs=NB_EPOCHS, batch_size=BATCH_SIZE, verbose=1)\n",
    "    else:\n",
    "        his = model.fit(X_train, y_train,validation_data = val_data , epochs=NB_EPOCHS, batch_size=BATCH_SIZE, verbose=1)\n",
    "        #his = model.fit(X_train, y_train,validation_data = validation_data , epochs=NB_EPOCHS, batch_size=BATCH_SIZE, callbacks=callbacks_list, verbose=1)\n",
    "    return model,his"
   ]
  },
  {
   "cell_type": "code",
   "execution_count": 35,
   "metadata": {},
   "outputs": [],
   "source": [
    "MAX_FEATURES = 300\n",
    "VERBOSITY = 1\n",
    "VALIDATION_SPLIT = 0.1\n",
    "NB_EPOCHS = 10\n",
    "FOLDS = 10\n",
    "EMBEDDING_SIZE = 300\n",
    "\n",
    "BATCH_SIZE = 32 # 64, 128\n",
    "NB_FILTERS = 200 #200\n",
    "FILTER_LENGTH = 4 # test with 2,3,4,5\n",
    "# HIDDEN_DIMS = NB_FILTERS * 2\n",
    "HIDDEN_DIMS = 32\n",
    "MAX_LEN = 210 #test with other values(only this value work for now)\n",
    "DROPOUT_VALUE_1 = 0.5 #0.8 #0.3\n",
    "DROPOUT_VALUE_2 = 0.5\n",
    "L2_REG= 0.01\n",
    "\n",
    "RNN = LSTM\n",
    "\n",
    "model_save_path = \"../trained_models/RNN1.hdf5\""
   ]
  },
  {
   "cell_type": "code",
   "execution_count": 36,
   "metadata": {},
   "outputs": [
    {
     "name": "stdout",
     "output_type": "stream",
     "text": [
      "Model: \"RNN_model\"\n",
      "_________________________________________________________________\n",
      "Layer (type)                 Output Shape              Param #   \n",
      "=================================================================\n",
      "main_input (InputLayer)      (None, 64, 16)            0         \n",
      "_________________________________________________________________\n",
      "lstm_3 (LSTM)                (None, 32)                6272      \n",
      "_________________________________________________________________\n",
      "mlp (Dense)                  (None, 32)                1056      \n",
      "_________________________________________________________________\n",
      "drop (Dropout)               (None, 32)                0         \n",
      "_________________________________________________________________\n",
      "output (Dense)               (None, 4)                 132       \n",
      "=================================================================\n",
      "Total params: 7,460\n",
      "Trainable params: 7,460\n",
      "Non-trainable params: 0\n",
      "_________________________________________________________________\n",
      "None\n"
     ]
    },
    {
     "name": "stderr",
     "output_type": "stream",
     "text": [
      "/home/lahiru/anaconda3/envs/LASER-tf-1/lib/python3.6/site-packages/ipykernel_launcher.py:13: UserWarning: Update your `Dense` call to the Keras 2 API: `Dense(32, activation=\"relu\", name=\"mlp\", kernel_initializer=\"he_normal\", kernel_constraint=<keras.con..., bias_constraint=<keras.con...)`\n",
      "  del sys.path[0]\n",
      "/home/lahiru/anaconda3/envs/LASER-tf-1/lib/python3.6/site-packages/ipykernel_launcher.py:18: UserWarning: Update your `Dense` call to the Keras 2 API: `Dense(4, activation=\"softmax\", name=\"output\", kernel_initializer=\"he_normal\")`\n",
      "/home/lahiru/anaconda3/envs/LASER-tf-1/lib/python3.6/site-packages/ipykernel_launcher.py:20: UserWarning: Update your `Model` call to the Keras 2 API: `Model(name=\"RNN_model\", inputs=Tensor(\"ma..., outputs=Tensor(\"ou...)`\n"
     ]
    }
   ],
   "source": [
    "model = RNN_model()"
   ]
  },
  {
   "cell_type": "markdown",
   "metadata": {},
   "source": [
    "# Holdout"
   ]
  },
  {
   "cell_type": "code",
   "execution_count": 93,
   "metadata": {},
   "outputs": [
    {
     "name": "stdout",
     "output_type": "stream",
     "text": [
      "Training and Testing...\n",
      "Train on 10518 samples, validate on 2630 samples\n",
      "Epoch 1/10\n",
      "10518/10518 [==============================] - 7s 676us/step - loss: 0.8956 - accuracy: 0.6178 - precision_16: 0.6887 - recall_16: 0.4787 - f1: 0.5585 - val_loss: 0.8311 - val_accuracy: 0.6555 - val_precision_16: 0.6926 - val_recall_16: 0.6023 - val_f1: 0.6419\n",
      "Epoch 2/10\n",
      "10518/10518 [==============================] - 6s 600us/step - loss: 0.8258 - accuracy: 0.6588 - precision_16: 0.7087 - recall_16: 0.5666 - f1: 0.6278 - val_loss: 0.7865 - val_accuracy: 0.6745 - val_precision_16: 0.7133 - val_recall_16: 0.6160 - val_f1: 0.6585\n",
      "Epoch 3/10\n",
      "10518/10518 [==============================] - 6s 603us/step - loss: 0.7962 - accuracy: 0.6751 - precision_16: 0.7238 - recall_16: 0.5939 - f1: 0.6509 - val_loss: 0.7678 - val_accuracy: 0.6833 - val_precision_16: 0.7229 - val_recall_16: 0.6171 - val_f1: 0.6652\n",
      "Epoch 4/10\n",
      "10518/10518 [==============================] - 6s 586us/step - loss: 0.7727 - accuracy: 0.6804 - precision_16: 0.7297 - recall_16: 0.6089 - f1: 0.6627 - val_loss: 0.7766 - val_accuracy: 0.6806 - val_precision_16: 0.7319 - val_recall_16: 0.5760 - val_f1: 0.6437\n",
      "Epoch 5/10\n",
      "10518/10518 [==============================] - 6s 561us/step - loss: 0.7544 - accuracy: 0.6941 - precision_16: 0.7421 - recall_16: 0.6236 - f1: 0.6765 - val_loss: 0.7550 - val_accuracy: 0.6890 - val_precision_16: 0.7291 - val_recall_16: 0.6232 - val_f1: 0.6702\n",
      "Epoch 6/10\n",
      "10518/10518 [==============================] - 6s 579us/step - loss: 0.7356 - accuracy: 0.7026 - precision_16: 0.7484 - recall_16: 0.6293 - f1: 0.6824 - val_loss: 0.7690 - val_accuracy: 0.6825 - val_precision_16: 0.7399 - val_recall_16: 0.5852 - val_f1: 0.6511\n",
      "Epoch 7/10\n",
      "10518/10518 [==============================] - 6s 578us/step - loss: 0.7239 - accuracy: 0.7062 - precision_16: 0.7534 - recall_16: 0.6392 - f1: 0.6904 - val_loss: 0.7602 - val_accuracy: 0.6920 - val_precision_16: 0.7330 - val_recall_16: 0.6232 - val_f1: 0.6726\n",
      "Epoch 8/10\n",
      "10518/10518 [==============================] - 7s 623us/step - loss: 0.7081 - accuracy: 0.7171 - precision_16: 0.7580 - recall_16: 0.6573 - f1: 0.7035 - val_loss: 0.7845 - val_accuracy: 0.6935 - val_precision_16: 0.7136 - val_recall_16: 0.6567 - val_f1: 0.6833\n",
      "Epoch 9/10\n",
      "10518/10518 [==============================] - 6s 590us/step - loss: 0.6865 - accuracy: 0.7249 - precision_16: 0.7646 - recall_16: 0.6655 - f1: 0.7108 - val_loss: 0.7898 - val_accuracy: 0.6913 - val_precision_16: 0.7176 - val_recall_16: 0.6319 - val_f1: 0.6714\n",
      "Epoch 10/10\n",
      "10518/10518 [==============================] - 6s 592us/step - loss: 0.6743 - accuracy: 0.7305 - precision_16: 0.7705 - recall_16: 0.6745 - f1: 0.7183 - val_loss: 0.7759 - val_accuracy: 0.6890 - val_precision_16: 0.7182 - val_recall_16: 0.6338 - val_f1: 0.6728\n"
     ]
    }
   ],
   "source": [
    "train_model,train_his = Train_Model(model,X_train, y_train,val_data = (X_test, y_test), cross_validation = False)"
   ]
  },
  {
   "cell_type": "code",
   "execution_count": 94,
   "metadata": {},
   "outputs": [
    {
     "data": {
      "text/plain": [
       "dict_keys(['val_loss', 'val_accuracy', 'val_precision_16', 'val_recall_16', 'val_f1', 'loss', 'accuracy', 'precision_16', 'recall_16', 'f1'])"
      ]
     },
     "execution_count": 94,
     "metadata": {},
     "output_type": "execute_result"
    }
   ],
   "source": [
    "train_his.history.keys()"
   ]
  },
  {
   "cell_type": "code",
   "execution_count": 99,
   "metadata": {},
   "outputs": [
    {
     "data": {
      "image/png": "[encoded data removed]",
      "text/plain": [
       "<Figure size 432x288 with 1 Axes>"
      ]
     },
     "metadata": {
      "needs_background": "light"
     },
     "output_type": "display_data"
    }
   ],
   "source": [
    "plt.plot(train_his.history['f1'])\n",
    "plt.plot(train_his.history['val_f1'])\n",
    "plt.title('model f1')\n",
    "plt.ylabel('f1')\n",
    "plt.xlabel('epoch')\n",
    "plt.legend(['train', 'test'], loc='upper left')\n",
    "plt.show()"
   ]
  },
  {
   "cell_type": "code",
   "execution_count": 96,
   "metadata": {},
   "outputs": [
    {
     "name": "stdout",
     "output_type": "stream",
     "text": [
      "2630/2630 [==============================] - 0s 174us/step\n"
     ]
    }
   ],
   "source": [
    "scores = train_model.evaluate(X_test, y_test, verbose=1)"
   ]
  },
  {
   "cell_type": "code",
   "execution_count": 97,
   "metadata": {},
   "outputs": [
    {
     "name": "stdout",
     "output_type": "stream",
     "text": [
      "Evaluation Scores:\n",
      " loss of 0.775907118238877; \n",
      " accuracy of 0.6889733672142029 ;\n",
      " precision_16 of 0.7182248830795288 ;\n",
      " recall_16 of 0.6338403224945068 ;\n",
      " f1 of 0.6727717518806458 ;\n",
      " \n"
     ]
    }
   ],
   "source": [
    "print(f\"\"\"Evaluation Scores:\n",
    " {train_model.metrics_names[0]} of {scores[0]}; \n",
    " {train_model.metrics_names[1]} of {scores[1]} ;\n",
    " {train_model.metrics_names[2]} of {scores[2]} ;\n",
    " {train_model.metrics_names[3]} of {scores[3]} ;\n",
    " {train_model.metrics_names[4]} of {scores[4]} ;\n",
    " \"\"\")"
   ]
  },
  {
   "cell_type": "markdown",
   "metadata": {},
   "source": [
    "# Cross Validation"
   ]
  },
  {
   "cell_type": "code",
   "execution_count": 37,
   "metadata": {},
   "outputs": [],
   "source": [
    "def Do_Cross_Validation(X,y):\n",
    "\n",
    "  # Define per-fold score containers\n",
    "  loss_per_fold = []\n",
    "  acc_per_fold = []\n",
    "  precision_per_fold = []\n",
    "  recall_per_fold = []\n",
    "  f1_per_fold = []\n",
    "  \n",
    "\n",
    "  kfold = KFold(n_splits=FOLDS, shuffle=True)\n",
    "\n",
    "  fold_no = 1\n",
    "  inputs = X\n",
    "  targets = y\n",
    "  for train, test in kfold.split(inputs, targets):\n",
    "\n",
    "    model = RNN_model()\n",
    "\n",
    "    # Generate a print\n",
    "    print('------------------------------------------------------------------------')\n",
    "    print(f'Training for fold {fold_no} ...')\n",
    "\n",
    "    # Fit data to model\n",
    "    model, his = Train_Model(model,inputs[train], targets[train], cross_validation=True)\n",
    " \n",
    "    # Generate generalization metrics\n",
    "    scores = model.evaluate(inputs[test], targets[test], verbose=0)\n",
    "\n",
    "    print(f\"\"\"Score for fold {fold_no}:\n",
    "     {model.metrics_names[0]} of {scores[0]}; \n",
    "     {model.metrics_names[1]} of {scores[1]*100}% ;\n",
    "     {model.metrics_names[2]} of {scores[2]*100}% ;\n",
    "     {model.metrics_names[3]} of {scores[3]*100}% ;\n",
    "     {model.metrics_names[4]} of {scores[4]*100}% ;\n",
    "     \"\"\")\n",
    "    \n",
    "    loss_per_fold.append(scores[0])\n",
    "    acc_per_fold.append(scores[1])\n",
    "    precision_per_fold.append(scores[2])\n",
    "    recall_per_fold.append(scores[3])\n",
    "    f1_per_fold.append(scores[4])\n",
    "\n",
    "    # Increase fold number\n",
    "    fold_no = fold_no + 1\n",
    "\n",
    "  # == Provide average scores ==\n",
    "  print('------------------------------------------------------------------------')\n",
    "  print('Score per fold')\n",
    "  for i in range(0, len(acc_per_fold)):\n",
    "    print('------------------------------------------------------------------------')\n",
    "    print(f\"\"\"> Fold {i+1} - \n",
    "    Loss: {loss_per_fold[i]} - \n",
    "    Accuracy: {acc_per_fold[i]}% - \n",
    "    Precesion: {precision_per_fold[i]}% - \n",
    "    Recall: {recall_per_fold[i]}% - \n",
    "    F1: {f1_per_fold[i]}%\n",
    "    \"\"\")\n",
    "  print('------------------------------------------------------------------------')\n",
    "  print('Average scores for all folds:')\n",
    "  print(f'> Loss: {np.mean(loss_per_fold)}')\n",
    "  print(f'> Accuracy: {np.mean(acc_per_fold)} (+- {np.std(acc_per_fold)})')\n",
    "  print(f'> Precision: {np.mean(precision_per_fold)}')\n",
    "  print(f'> Recall: {np.mean(recall_per_fold)}')\n",
    "  print(f'> F1: {np.mean(f1_per_fold)}')\n",
    "  print('------------------------------------------------------------------------')"
   ]
  },
  {
   "cell_type": "code",
   "execution_count": null,
   "metadata": {},
   "outputs": [
    {
     "name": "stderr",
     "output_type": "stream",
     "text": [
      "/home/lahiru/anaconda3/envs/LASER-tf-1/lib/python3.6/site-packages/ipykernel_launcher.py:13: UserWarning: Update your `Dense` call to the Keras 2 API: `Dense(32, activation=\"relu\", name=\"mlp\", kernel_initializer=\"he_normal\", kernel_constraint=<keras.con..., bias_constraint=<keras.con...)`\n",
      "  del sys.path[0]\n",
      "/home/lahiru/anaconda3/envs/LASER-tf-1/lib/python3.6/site-packages/ipykernel_launcher.py:18: UserWarning: Update your `Dense` call to the Keras 2 API: `Dense(4, activation=\"softmax\", name=\"output\", kernel_initializer=\"he_normal\")`\n",
      "/home/lahiru/anaconda3/envs/LASER-tf-1/lib/python3.6/site-packages/ipykernel_launcher.py:20: UserWarning: Update your `Model` call to the Keras 2 API: `Model(name=\"RNN_model\", inputs=Tensor(\"ma..., outputs=Tensor(\"ou...)`\n"
     ]
    },
    {
     "name": "stdout",
     "output_type": "stream",
     "text": [
      "Model: \"RNN_model\"\n",
      "_________________________________________________________________\n",
      "Layer (type)                 Output Shape              Param #   \n",
      "=================================================================\n",
      "main_input (InputLayer)      (None, 64, 16)            0         \n",
      "_________________________________________________________________\n",
      "lstm_4 (LSTM)                (None, 32)                6272      \n",
      "_________________________________________________________________\n",
      "mlp (Dense)                  (None, 32)                1056      \n",
      "_________________________________________________________________\n",
      "drop (Dropout)               (None, 32)                0         \n",
      "_________________________________________________________________\n",
      "output (Dense)               (None, 4)                 132       \n",
      "=================================================================\n",
      "Total params: 7,460\n",
      "Trainable params: 7,460\n",
      "Non-trainable params: 0\n",
      "_________________________________________________________________\n",
      "None\n",
      "------------------------------------------------------------------------\n",
      "Training for fold 1 ...\n",
      "Training and Testing...\n",
      "WARNING:tensorflow:From /home/lahiru/anaconda3/envs/LASER-tf-1/lib/python3.6/site-packages/keras/backend/tensorflow_backend.py:422: The name tf.global_variables is deprecated. Please use tf.compat.v1.global_variables instead.\n",
      "\n",
      "Epoch 1/10\n",
      "13553/13553 [==============================] - 13s 975us/step - loss: 1.1432 - accuracy: 0.5386 - precision_4: 0.6142 - recall_4: 0.3093 - f1: 0.4011\n",
      "Epoch 2/10\n",
      " 4768/13553 [=========>....................] - ETA: 8s - loss: 1.0722 - accuracy: 0.5721 - precision_4: 0.6319 - recall_4: 0.3909 - f1: 0.4796"
     ]
    }
   ],
   "source": [
    "Do_Cross_Validation(sinhala_std, y_sinhala)"
   ]
  },
  {
   "cell_type": "code",
   "execution_count": null,
   "metadata": {},
   "outputs": [],
   "source": []
  }
 ],
 "metadata": {
  "kernelspec": {
   "display_name": "Python 3",
   "language": "python",
   "name": "python3"
  },
  "language_info": {
   "codemirror_mode": {
    "name": "ipython",
    "version": 3
   },
   "file_extension": ".py",
   "mimetype": "text/x-python",
   "name": "python",
   "nbconvert_exporter": "python",
   "pygments_lexer": "ipython3",
   "version": "3.6.12"
  }
 },
 "nbformat": 4,
 "nbformat_minor": 4
}
