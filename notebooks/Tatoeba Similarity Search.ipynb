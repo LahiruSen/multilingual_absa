{
 "cells": [
  {
   "cell_type": "code",
   "execution_count": 1,
   "metadata": {},
   "outputs": [],
   "source": [
    "import sys\n",
    "import re\n",
    "import os\n",
    "from pathlib import Path\n",
    "from collections import namedtuple\n",
    "import numpy as np"
   ]
  },
  {
   "cell_type": "markdown",
   "metadata": {},
   "source": [
    "### Set up the LASER environmental variable as shown below. we are inside notebook folders, hence LASER_PATH will be one directory above this."
   ]
  },
  {
   "cell_type": "code",
   "execution_count": 2,
   "metadata": {},
   "outputs": [],
   "source": [
    "import os\n",
    "import sys\n",
    "import pandas as pd\n",
    "import numpy as np\n",
    "import pickle\n",
    "from collections import Counter, defaultdict\n",
    "import re\n",
    "\n",
    "pd.set_option('display.max_colwidth' , -1)\n",
    "\n",
    "LASER_PATH = \"..\"\n",
    "os.environ[\"LASER\"] = LASER_PATH "
   ]
  },
  {
   "cell_type": "markdown",
   "metadata": {},
   "source": [
    "#### need to set up DATA_PATH , CACHE_PATH , MODEL_PATH as shown below\n",
    "Codes below are inspired from this blog post https://medium.com/the-artificial-impostor/multilingual-similarity-search-using-pretrained-bidirectional-lstm-encoder-e34fac5958b0"
   ]
  },
  {
   "cell_type": "code",
   "execution_count": 3,
   "metadata": {},
   "outputs": [],
   "source": [
    "sys.path.append(LASER_PATH + '/source')\n",
    "sys.path.append(LASER_PATH + '/source/lib')\n",
    "\n",
    "DATA_PATH = Path(\"../data/tatoeba/v1/\")\n",
    "CACHE_PATH = Path(\"cache/\")\n",
    "CACHE_PATH.mkdir(exist_ok=True)\n",
    "MODEL_PATH = Path(\"../models\")\n",
    "\n",
    "from indexing import IndexLoad, IndexTextOpen, IndexTextQuery ,IndexSearchKNN, IndexCreate, IndexSearchMultiple\n",
    "from embed import SentenceEncoder, EncodeLoad, EncodeFile\n",
    "from text_processing import Token, BPEfastApply"
   ]
  },
  {
   "cell_type": "code",
   "execution_count": 4,
   "metadata": {},
   "outputs": [],
   "source": [
    "SPACE_NORMALIZER = re.compile(\"\\s+\")\n",
    "Batch = namedtuple('Batch', 'srcs tokens lengths')"
   ]
  },
  {
   "cell_type": "code",
   "execution_count": 5,
   "metadata": {},
   "outputs": [],
   "source": [
    "def MarginRatio(em, ofp, params, args, stats):\n",
    "    if args.include_source == 'always':\n",
    "        ofp.write('{:d}\\t{:6.1f}\\t{}\\n'\n",
    "                  .format(stats.nbs, 0.0, sentences[n].replace('@@ ', '')))\n",
    "    D, I = params.idx.search(em, args.margin_k)\n",
    "    Mean = D.mean(axis=1)\n",
    "    for n in range(D.shape[0]):\n",
    "        if D[n, 0] / Mean[n] <= args.threshold:\n",
    "            if args.include_source == 'matches':\n",
    "                ofp.write('{:d}\\t{:6.1f}\\t{}\\n'\n",
    "                          .format(stats.nbs, 0.0, sentences[n].replace('@@ ', '')))\n",
    "            txt = IndexTextQuery(params.T, params.R, I[n, 0])\n",
    "            ofp.write('{:d}\\t{:7.5f}\\t{}\\n'.format(stats.nbs, D[n, 0], txt))\n",
    "            stats.nbp += 1\n",
    "\n",
    "        stats.nbs += 1"
   ]
  },
  {
   "cell_type": "code",
   "execution_count": 6,
   "metadata": {},
   "outputs": [],
   "source": [
    "def buffered_read(fp, buffer_size):\n",
    "    buffer = []\n",
    "    for src_str in fp:\n",
    "        buffer.append(src_str.strip())\n",
    "        if len(buffer) >= buffer_size:\n",
    "            yield buffer\n",
    "            buffer = []\n",
    "\n",
    "    if len(buffer) > 0:\n",
    "        yield buffer"
   ]
  },
  {
   "cell_type": "markdown",
   "metadata": {},
   "source": [
    "### Tokenization and BPE extraction\n",
    "We are working on  two input files -\n",
    "\n",
    "1) tatoeba.hin-eng.hin ( Tatoeba test data set Hindi Sentences) \n",
    "\n",
    "2) tatoeba.hin-eng.eng  ( Tatoeba test data set English Sentences) "
   ]
  },
  {
   "cell_type": "code",
   "execution_count": 7,
   "metadata": {},
   "outputs": [
    {
     "name": "stdout",
     "output_type": "stream",
     "text": [
      " - Tokenizer: tatoeba.hin-eng.hin in language hin  \n"
     ]
    }
   ],
   "source": [
    "Token(\n",
    "    str(DATA_PATH / \"tatoeba.hin-eng.hin\"),\n",
    "    str(CACHE_PATH / \"tatoeba.hin-eng.hin\"),\n",
    "    lang=\"hin\",\n",
    "    romanize=False,\n",
    "    lower_case=True, gzip=False,\n",
    "    verbose=True, over_write=False)"
   ]
  },
  {
   "cell_type": "code",
   "execution_count": 8,
   "metadata": {},
   "outputs": [
    {
     "name": "stdout",
     "output_type": "stream",
     "text": [
      " - Tokenizer: tatoeba.hin-eng.eng in language en  \n"
     ]
    }
   ],
   "source": [
    "Token(\n",
    "    str(DATA_PATH / \"tatoeba.hin-eng.eng\"),\n",
    "    str(CACHE_PATH / \"tatoeba.hin-eng.eng\"),\n",
    "    lang=\"en\",\n",
    "    romanize=False,\n",
    "    lower_case=True, gzip=False,\n",
    "    verbose=True, over_write=False)"
   ]
  },
  {
   "cell_type": "code",
   "execution_count": 9,
   "metadata": {},
   "outputs": [
    {
     "name": "stdout",
     "output_type": "stream",
     "text": [
      " - fast BPE: processing tatoeba.hin-eng.eng\n"
     ]
    }
   ],
   "source": [
    "bpe_codes = str(MODEL_PATH / \"93langs.fcodes\")\n",
    "BPEfastApply(\n",
    "    str(CACHE_PATH / \"tatoeba.hin-eng.eng\"),\n",
    "    str(CACHE_PATH / \"tatoeba.hin-eng.eng.bpe\"),\n",
    "    bpe_codes,\n",
    "    verbose=True, over_write=False)"
   ]
  },
  {
   "cell_type": "code",
   "execution_count": 10,
   "metadata": {},
   "outputs": [
    {
     "name": "stdout",
     "output_type": "stream",
     "text": [
      " - fast BPE: processing tatoeba.hin-eng.hin\n"
     ]
    }
   ],
   "source": [
    "bpe_codes = str(MODEL_PATH / \"93langs.fcodes\")\n",
    "BPEfastApply(\n",
    "    str(CACHE_PATH / \"tatoeba.hin-eng.hin\"),\n",
    "    str(CACHE_PATH / \"tatoeba.hin-eng.hin.bpe\"),\n",
    "    bpe_codes,\n",
    "    verbose=True, over_write=False)"
   ]
  },
  {
   "cell_type": "markdown",
   "metadata": {},
   "source": [
    "## Extract Sentence Embeddings"
   ]
  },
  {
   "cell_type": "code",
   "execution_count": 11,
   "metadata": {},
   "outputs": [
    {
     "name": "stdout",
     "output_type": "stream",
     "text": [
      " - Encoder: tatoeba.hin-eng.hin.bpe to tatoeba.hin-eng.hin.enc\n",
      " - Encoder: 1000 sentences in 0s\n"
     ]
    }
   ],
   "source": [
    "encoder = SentenceEncoder(\n",
    "    str(MODEL_PATH / \"bilstm.93langs.2018-12-26.pt\"),\n",
    "    max_sentences=None,\n",
    "    max_tokens=10000,\n",
    "    cpu=False)\n",
    "\n",
    "\n",
    "EncodeFile(\n",
    "    encoder,\n",
    "    str(CACHE_PATH / \"tatoeba.hin-eng.hin.bpe\"),\n",
    "    str(CACHE_PATH / \"tatoeba.hin-eng.hin.enc\"),\n",
    "    verbose=True, over_write=False)"
   ]
  },
  {
   "cell_type": "code",
   "execution_count": 12,
   "metadata": {},
   "outputs": [
    {
     "name": "stdout",
     "output_type": "stream",
     "text": [
      " - Encoder: tatoeba.hin-eng.eng.bpe to tatoeba.hin-eng.eng.enc\n",
      " - Encoder: 1000 sentences in 0s\n"
     ]
    }
   ],
   "source": [
    "EncodeFile(\n",
    "    encoder,\n",
    "    str(CACHE_PATH / \"tatoeba.hin-eng.eng.bpe\"),\n",
    "    str(CACHE_PATH / \"tatoeba.hin-eng.eng.enc\"),\n",
    "    verbose=True, over_write=False)"
   ]
  },
  {
   "cell_type": "markdown",
   "metadata": {},
   "source": [
    "## Create Index"
   ]
  },
  {
   "cell_type": "code",
   "execution_count": 13,
   "metadata": {},
   "outputs": [
    {
     "name": "stdout",
     "output_type": "stream",
     "text": [
      " - embedding: cache/tatoeba.hin-eng.eng.enc 1000 examples of dim 1024\n",
      " - creating FAISS index\n"
     ]
    }
   ],
   "source": [
    "data_en, index_en = IndexCreate(\n",
    "    str(CACHE_PATH / \"tatoeba.hin-eng.eng.enc\"), 'FlatL2', verbose=True, save_index=False)\n"
   ]
  },
  {
   "cell_type": "code",
   "execution_count": 14,
   "metadata": {},
   "outputs": [
    {
     "name": "stdout",
     "output_type": "stream",
     "text": [
      " - embedding: cache/tatoeba.hin-eng.hin.enc 1000 examples of dim 1024\n",
      " - creating FAISS index\n"
     ]
    }
   ],
   "source": [
    "data_hin, index_hin = IndexCreate(\n",
    "    str(CACHE_PATH / \"tatoeba.hin-eng.hin.enc\"), 'FlatL2', verbose=True, save_index=False)"
   ]
  },
  {
   "cell_type": "markdown",
   "metadata": {},
   "source": [
    "## Evaluation"
   ]
  },
  {
   "cell_type": "code",
   "execution_count": 15,
   "metadata": {},
   "outputs": [
    {
     "name": "stdout",
     "output_type": "stream",
     "text": [
      "Calculating similarity error (indices):\n",
      " - similarity error en=>hin  5.80%\n",
      " - similarity error hin=>en  4.80%\n"
     ]
    }
   ],
   "source": [
    "err = IndexSearchMultiple(\n",
    "    [data_en, data_hin], [index_en, index_hin], langs=[\"en\", \"hin\"], verbose=True)"
   ]
  },
  {
   "cell_type": "markdown",
   "metadata": {},
   "source": [
    "### Error Analysis"
   ]
  },
  {
   "cell_type": "markdown",
   "metadata": {},
   "source": [
    "Read in the tokenized documents:"
   ]
  },
  {
   "cell_type": "code",
   "execution_count": 16,
   "metadata": {},
   "outputs": [
    {
     "name": "stdout",
     "output_type": "stream",
     "text": [
      "1000 1000\n"
     ]
    }
   ],
   "source": [
    "documents = {}\n",
    "for lang in (\"eng\", \"hin\"):\n",
    "    with open(CACHE_PATH / f\"tatoeba.hin-eng.{lang}\") as fin:\n",
    "        documents[lang] = list(fin.readlines())\n",
    "print(len(documents[\"eng\"]), len(documents[\"hin\"]))"
   ]
  },
  {
   "cell_type": "markdown",
   "metadata": {},
   "source": [
    "### Misclassfied examples in English to Hindi Similarity Search"
   ]
  },
  {
   "cell_type": "code",
   "execution_count": 17,
   "metadata": {},
   "outputs": [
    {
     "name": "stdout",
     "output_type": "stream",
     "text": [
      "(1000, 1)\n",
      "Total english sentences with correct index in hindi:  942\n"
     ]
    }
   ],
   "source": [
    "_, matched_indices = index_hin.search(data_en, 1)\n",
    "print(matched_indices.shape)\n",
    "print('Total english sentences with correct index in hindi: ' , sum([x == i for i, x in enumerate(matched_indices[:, 0])]))"
   ]
  },
  {
   "cell_type": "code",
   "execution_count": 18,
   "metadata": {},
   "outputs": [
    {
     "name": "stdout",
     "output_type": "stream",
     "text": [
      "source:  i accompanied her on a walk .\n",
      "predict: मैं सफ ़ र पर उसके साथ गया ।\n",
      "correct: मैं उसके साथ सैर के लिए गया ।\n",
      "\n",
      "source:  he is possessed of intelligence .\n",
      "predict: वह हरफनमौला है ।\n",
      "correct: वह अकलमंद है ।\n",
      "\n",
      "source:  it 's for free .\n",
      "predict: यह मुफ ़ ् त का है ।\n",
      "correct: यह मुफ ़ ् त है ।\n",
      "\n",
      "source:  this lion is very tame .\n",
      "predict: टॉम बहुत स ् वार ् थी है ।\n",
      "correct: यह शेर बहुत पालतू है ।\n",
      "\n",
      "source:  the novel is centered on the civil war .\n",
      "predict: शीतयुद ् ध द ् वितीय विश ् वयुद ् ध के बाद शुरू हुआ ।\n",
      "correct: यह उपन ् यास सिविल वॉर के बारे में है ।\n",
      "\n",
      "source:  to make matters worse , he fell ill .\n",
      "predict: कहा जाता है कि वह बीमार है ।\n",
      "correct: और-तो-और वह बीमार भी पड ़ गया ।\n",
      "\n",
      "source:  what is the name of this bird ?\n",
      "predict: इस पक ् षी का नाम क ् या है ?\n",
      "correct: इस चिड ़ िया का नाम क ् या है ?\n",
      "\n",
      "source:  that is my book .\n",
      "predict: वह मेरी किताब है ।\n",
      "correct: वह मेरा पुस ् तक है ।\n",
      "\n",
      "source:  she is dressed in white .\n",
      "predict: उसने लाल कपड ़ े पहने हैं ।\n",
      "correct: उसने सफ ़ ेद कपड ़ े पहने हुएँ हैं ।\n",
      "\n",
      "source:  he is a jack of all trades .\n",
      "predict: वह मेरे पड ़ ोसियों में से एक है ।\n",
      "correct: वह हरफनमौला है ।\n",
      "\n",
      "source:  you 're a life saver .\n",
      "predict: यह शेर बहुत पालतू है ।\n",
      "correct: तुमने मेरी जान बचाली ।\n",
      "\n",
      "source:  talking is one thing , doing is another .\n",
      "predict: जवाब न देना भी एक तरह का जवाब होता है ।\n",
      "correct: बोलने और करने में फ ़ र ् क होता है ।\n",
      "\n",
      "source:  i want shelter .\n",
      "predict: मुझे एक तोता चाहिए ।\n",
      "correct: मुझे पनाह चाहिए !\n",
      "\n",
      "source:  he was accused of murder .\n",
      "predict: यह साबित कर दिया गया कि वह चोर था ।\n",
      "correct: उसपर कत ् ल का इलज ़ ाम लगाया गया ।\n",
      "\n",
      "source:  the man committed murder .\n",
      "predict: पुलिस ने हत ् या की गुथी को सुलझाने के लिए कड ़ ा प ् रयास किया ।\n",
      "correct: उस आदमी ने कत ् ल किया ।\n",
      "\n",
      "source:  in the past , people used to travel by a diligence .\n",
      "predict: एक समय वे सफ ़ र करने में परिश ् रम करते थे\n",
      "correct: पुराने ज़माने में लोग परिश ् रम से सफ ़ र करते थे\n",
      "\n",
      "source:  i go to school by subway .\n",
      "predict: मैं स ् कूल चलकर जाती हूँ ।\n",
      "correct: मैं मेट ् रो लेकर स ् कूल जाती हूँ ।\n",
      "\n",
      "source:  is there a cafe ?\n",
      "predict: मैं कॉफ ़ ी पीता हूँ ।\n",
      "correct: यहाँ कैफ ़ े है क ् या ?\n",
      "\n",
      "source:  it was hard for me to refuse his request .\n",
      "predict: मुझे उसके प ् रस ् ताव को अस ् वीकार करना पड ़ ा ।\n",
      "correct: मेरे लिए उससे \" ना \" कहना बहुत मुश ् किल था ।\n",
      "\n",
      "source:  i am an astrologer .\n",
      "predict: वह अभिनेता है ।\n",
      "correct: मैं ज ् योत ् षी हूँ |\n",
      "\n",
      "source:  tom must be so scared .\n",
      "predict: वे टॉम से डरते हैं ।\n",
      "correct: टॉम कितना डरा हुआ होगा ।\n",
      "\n",
      "source:  hey , what 's that ?\n",
      "predict: अरे ! यह क ् या है ?\n",
      "correct: अरे ! वह क ् या है ?\n",
      "\n",
      "source:  tom did it all .\n",
      "predict: टॉम ने उसे बताया ।\n",
      "correct: टॉम ने सभ कुछ किया ।\n",
      "\n",
      "source:  if you love somebody , let them go , for if they return , they were always yours . and if they don 't , they never were .\n",
      "predict: छोटी छोटी बातों का आनंद उठाइए , क ् योंकि हो सकता है कि किसी दिन आप मुड़ कर देखें तो आप को अनुभव हो कि ये तो बड़ी बातें थीं ।\n",
      "correct: जिनसे प ् रेम करते हैं , उन ् हें जाने दें , वे यदि लौट आते हैं तो वे सदा के लिए आपके हैं । और अगर नहीं लौटते हैं तो वे कभी आपके थे ही नहीं ।\n",
      "\n",
      "source:  good thoughts bear good fruit , bad thoughts bear bad fruit .\n",
      "predict: युवा बने रहने का रहस ् य है ईमानदारी से जीना , धीरे धीरे खाना और अपनी उम ् र जाहिर न करना ।\n",
      "correct: सुविचरों से सुफल उपजते हैं और कुविचारों से कुफल ।\n",
      "\n",
      "source:  if you want a place in the sun , you 've got to put up with a few blisters .\n",
      "predict: जब आप जागृत अवस ् था में होते हैं , तो ही सर ् वश ् रेष ् ठ स ् वप ् नों का सृजन होता है .\n",
      "correct: आप आराम की ज़िंदगी चाहते हैं तो आप को कुछ परेशानी तो उठानी ही होगी ।\n",
      "\n",
      "source:  your blood is red .\n",
      "predict: तुम ् हारे होंठ लाल हैं ।\n",
      "correct: तुम ् हारा ख ़ ून लाल रंग का है ।\n",
      "\n",
      "source:  it is not the man who has too little , but the man who craves more , that is poor .\n",
      "predict: मुझे ऐसे मित ् र की आवश ् यकता नहीं जो मेरे साथ-साथ बदले और मेरी हां में हां भरे ; ऐसा तो मेरी परछाई कहीं बेहतर कर लेती है ।\n",
      "correct: वह व ् यक ् ति ग़रीब नहीं है जिस के पास थोड़ा बहुत ही है । ग ़ रीब तो वह है जो ज़ ् यादा के लिए मरा जा रहा है ।\n",
      "\n",
      "source:  watch your language .\n",
      "predict: मुझे तुम ् हारी भाषा आती है ।\n",
      "correct: ज ़ बान संभाल ।\n",
      "\n",
      "source:  put tom to bed .\n",
      "predict: टॉम सोने जा रहा है ।\n",
      "correct: टॉम को सुलाओ ।\n",
      "\n",
      "source:  he who is fixed to a star does not change his mind .\n",
      "predict: शिक ् षा का ध ् येय है एक खाली दिमाग को खुले दिमाग में बदलना ।\n",
      "correct: जो व ् यक ् ति किसी तारे से बंधा होता है वह पीछे नहीं मुड़ता ।\n",
      "\n",
      "source:  the one thing that doesn 't abide by majority rule is a person 's conscience .\n",
      "predict: ईमानदारी किसी कायदे कानून की मोहताज़ नहीं होती ।\n",
      "correct: एक ही चीज़ है जो बहुमत को नहीं मानती और वह है मनुष ् य की अंतरात ् मा ।\n",
      "\n",
      "source:  storms make trees take deeper roots .\n",
      "predict: ऐसा माना जाता है कि मानव शिकारियों द ् वारा की गई लूटमार ही अनेक प ् रजातियों के लुप ् त होने का बड ़ ा कारण है ।\n",
      "correct: तूफ़ानों से पेड़ों की जड़ें और गहरी व मज़बूत होती है ।\n",
      "\n",
      "source:  i was just joking .\n",
      "predict: मैं तो बस मजाक कर रहा था ।\n",
      "correct: मैं तो बस मजाक कर रहा थी ।\n",
      "\n",
      "source:  it 'll only take a minute .\n",
      "predict: बस एक मिनट लगेगा ।\n",
      "correct: बस एक मिनट ही तो लगेगा ।\n",
      "\n",
      "source:  what did he say to you ?\n",
      "predict: वे तुम ् हें क ् या कहते हैं ?\n",
      "correct: उसने तुम से क ् या कहाँ ?\n",
      "\n",
      "source:  this parrot has green feathers .\n",
      "predict: इस सूप में मछली का स ् वाद है ।\n",
      "correct: इस तोते के हरे पर हैं ।\n",
      "\n",
      "source:  tom is quite artistic .\n",
      "predict: टॉम बहुत कलात ् मक है ।\n",
      "correct: टॉम काफी कलात ् मक है ।\n",
      "\n",
      "source:  tom has a cold now .\n",
      "predict: पानी ठंडा है ।\n",
      "correct: अभी टॉम को जुकाम है ।\n",
      "\n",
      "source:  this place is ours .\n",
      "predict: यह पैसा मेरा है ।\n",
      "correct: यह जगा हमारी है ।\n",
      "\n",
      "source:  tom used to be skinny .\n",
      "predict: टॉम लोकप ् रिय था ।\n",
      "correct: टॉम पतला हुआ करता था ।\n",
      "\n",
      "source:  it is my father 's house .\n",
      "predict: मेरे पापा का घर है ।\n",
      "correct: मेरे पिताजी का घर है ।\n",
      "\n",
      "source:  mary is a kindergarten teacher .\n",
      "predict: टॉम साम ् यवादी है ।\n",
      "correct: मेरी नर ् सरी टीचर है ।\n",
      "\n",
      "source:  it could be a weapon .\n",
      "predict: हेरोइन हो सकता है ।\n",
      "correct: हत ् यार हो सकता है ।\n",
      "\n",
      "source:  i 'm the surgeon .\n",
      "predict: मालिक मैं हूँ ।\n",
      "correct: सर ् जन मैं हूँ ।\n",
      "\n",
      "source:  you put in too much sugar .\n",
      "predict: तुम ने कुछ ज ़ ् यादा ही पी ली है ।\n",
      "correct: तुम कुछ ज ़ ् यादा ही शक ् कर डालते हो ।\n",
      "\n",
      "source:  you should 've called the cops .\n",
      "predict: आपको पुलिस को बुलाना चाहिए था ।\n",
      "correct: पुलिस को बुलाना चाहिए था ।\n",
      "\n",
      "source:  add the rice and cook gently until the grains begin to turn translucent .\n",
      "predict: कुछ बच ् चों ने यह सोचा कि वे लोरी रच सकते हैं , तस ् वीर में रंग भर सकते हैं या टैड ् डी बियर बना सकते हैं ।\n",
      "correct: चावल डालें और धीरे-धीरे उस समय तक पकाएं जब तक कि दानें पारभासी ( स ् वच ् छ ) न हो जाएं ।\n",
      "\n",
      "source:  why did you let her go ?\n",
      "predict: तुमने उसे जाने क ् यों दिया ?\n",
      "correct: आपने उसे जाने क ् यों दिया ?\n",
      "\n",
      "source:  you should have studied harder .\n",
      "predict: तुम ् हें और मेहनत से पढ ़ ाई करनी चाहिए थी ।\n",
      "correct: आपको और मेहनत से पढ ़ ाई करनी चाहिए थी ।\n",
      "\n",
      "source:  i 've done the right thing .\n",
      "predict: मैंने गलत चीज ़ की है ।\n",
      "correct: मैंने सही चीज ़ की है ।\n",
      "\n",
      "source:  it 's no use crying over spilt milk .\n",
      "predict: अगर थक गए हो तो पढ ़ ाई करने से कोई फ ़ ायदा नहीं है ।\n",
      "correct: अब पछताए क ् या होत जब चिड ़ िया चुग गई खेत ।\n",
      "\n",
      "source:  when in rome , do as the romans do .\n",
      "predict: जब आप जागृत अवस ् था में होते हैं , तो ही सर ् वश ् रेष ् ठ स ् वप ् नों का सृजन होता है .\n",
      "correct: जैसा देस , वैसा भेस ।\n",
      "\n",
      "source:  what is the meaning of this word ?\n",
      "predict: इसका क ् या मतलब हो सकता है ?\n",
      "correct: इस अल ् फाज का मतलब क ् या है ?\n",
      "\n",
      "source:  when did he return from osaka ?\n",
      "predict: वह ओसाका से वापस कब आया ?\n",
      "correct: वह ओसाका से कब लौटा ?\n",
      "\n",
      "source:  everyone felt sorry for tom .\n",
      "predict: हम सब टॉम के लिए दुःखी थे ।\n",
      "correct: सब टॉम के लिए दुःखी थे i\n",
      "\n",
      "source:  do you speak marathi ?\n",
      "predict: मैं फ ़ ारसी भाषा बोलता हूँ ।\n",
      "correct: मराठी बोलते हो ?\n",
      "\n",
      "source:  next year i 'm going to hawaii .\n",
      "predict: अगले साल मैं अमरीका जाने वाला हूँ ।\n",
      "correct: अगले साल मैं हवाई जा रहा हूँ ।\n",
      "\n"
     ]
    }
   ],
   "source": [
    "\n",
    "for idx in np.where([x != i for i, x in enumerate(matched_indices[:, 0])])[0]:\n",
    "    print(\n",
    "        \"source:  \", documents[\"eng\"][idx].strip() + \"\\n\",\n",
    "        \"predict: \", documents[\"hin\"][matched_indices[idx, 0]].strip() + \"\\n\",\n",
    "        \"correct: \", documents[\"hin\"][idx].strip() + \"\\n\", sep=\"\"\n",
    "    )"
   ]
  },
  {
   "cell_type": "markdown",
   "metadata": {},
   "source": [
    "### Misclassfied examples in English to Hindi Similarity Search"
   ]
  },
  {
   "cell_type": "code",
   "execution_count": 19,
   "metadata": {},
   "outputs": [
    {
     "name": "stdout",
     "output_type": "stream",
     "text": [
      "(1000, 1)\n",
      "Total hindi sentences with correct index in english:  952\n"
     ]
    }
   ],
   "source": [
    "_, matched_indices = index_en.search(data_hin, 1)\n",
    "print(matched_indices.shape)\n",
    "print('Total hindi sentences with correct index in english: ' , sum([x == i for i, x in enumerate(matched_indices[:, 0])]))"
   ]
  },
  {
   "cell_type": "code",
   "execution_count": 20,
   "metadata": {},
   "outputs": [
    {
     "name": "stdout",
     "output_type": "stream",
     "text": [
      "source:  मैं उसके साथ सैर के लिए गया ।\n",
      "predict: i 'm with him .\n",
      "correct: i accompanied her on a walk .\n",
      "\n",
      "source:  वह अकलमंद है ।\n",
      "predict: it 's for free .\n",
      "correct: he is possessed of intelligence .\n",
      "\n",
      "source:  यह मुफ ़ ् त का है ।\n",
      "predict: it 's for free .\n",
      "correct: it is free of charge .\n",
      "\n",
      "source:  यह उपन ् यास सिविल वॉर के बारे में है ।\n",
      "predict: are osakans greedy ?\n",
      "correct: the novel is centered on the civil war .\n",
      "\n",
      "source:  वह अमीर है हो है पर कंजूस भी है ।\n",
      "predict: my family is wealthy .\n",
      "correct: he may be rich , but he is stingy .\n",
      "\n",
      "source:  और-तो-और वह बीमार भी पड ़ गया ।\n",
      "predict: it is said that he is sick .\n",
      "correct: to make matters worse , he fell ill .\n",
      "\n",
      "source:  इस पक ् षी का नाम क ् या है ?\n",
      "predict: what is the name of this bird ?\n",
      "correct: what do you call this bird ?\n",
      "\n",
      "source:  वह मेरा पुस ् तक है ।\n",
      "predict: that 's my book .\n",
      "correct: that is my book .\n",
      "\n",
      "source:  उसने सफ ़ ेद कपड ़ े पहने हुएँ हैं ।\n",
      "predict: she 's wearing red .\n",
      "correct: she is dressed in white .\n",
      "\n",
      "source:  वह हरफनमौला है ।\n",
      "predict: it 's for free .\n",
      "correct: he is a jack of all trades .\n",
      "\n",
      "source:  तुमने मेरी जान बचाली ।\n",
      "predict: you helped me .\n",
      "correct: you 're a life saver .\n",
      "\n",
      "source:  बोलने और करने में फ ़ र ् क होता है ।\n",
      "predict: i don 't have time to talk .\n",
      "correct: talking is one thing , doing is another .\n",
      "\n",
      "source:  मुझे पनाह चाहिए !\n",
      "predict: you startled me !\n",
      "correct: i want shelter .\n",
      "\n",
      "source:  उसपर कत ् ल का इलज ़ ाम लगाया गया ।\n",
      "predict: i caught a glimpse of her .\n",
      "correct: he was accused of murder .\n",
      "\n",
      "source:  आ सको तो आना ।\n",
      "predict: come on in .\n",
      "correct: come if you can .\n",
      "\n",
      "source:  पुराने ज़माने में लोग परिश ् रम से सफ ़ र करते थे\n",
      "predict: they adopted the orphan .\n",
      "correct: in the past , people used to travel by a diligence .\n",
      "\n",
      "source:  वह नतीजे के लिए बेचैन है ।\n",
      "predict: it 's for free .\n",
      "correct: he is anxious about the result .\n",
      "\n",
      "source:  यह स ् थान मुझे बेहद भयानक लगता है |\n",
      "predict: it is difficult for me .\n",
      "correct: this place gives me the creeps .\n",
      "\n",
      "source:  मैं ज ् योत ् षी हूँ |\n",
      "predict: i 'm an animal .\n",
      "correct: i am an astrologer .\n",
      "\n",
      "source:  मज ़ ाक है ।\n",
      "predict: it was sort of fun .\n",
      "correct: it 's a joke .\n",
      "\n",
      "source:  डर के जीने की तुलना में तो मर जाना ही बेहतर है ।\n",
      "predict: it is better to live rich , than to die rich .\n",
      "correct: it is better to die on your feet than to live on your knees .\n",
      "\n",
      "source:  टॉम ने सभ कुछ किया ।\n",
      "predict: tom was popular .\n",
      "correct: tom did it all .\n",
      "\n",
      "source:  आपकी अनुपस ् तिथि में बहुत कुछ हो चुका है |\n",
      "predict: you have a lot to learn .\n",
      "correct: a lot 's happened while you 've been away .\n",
      "\n",
      "source:  सदा जवान रहने के लिए मुख का सौंदर ् य नहीं , मस ् तिष ् क की उड़ान ज़रूरी है ।\n",
      "predict: what soap is for the body , tears are for the soul .\n",
      "correct: when it comes to staying young , a mind-lift beats a face-lift any day .\n",
      "\n",
      "source:  सादगी का मतलब है सीमित बोरिया बिस ् तर के साथ ज़िंदगी का सफ़र तय करना ।\n",
      "predict: the village head decided to build a large granary to protect the grain from the weevils .\n",
      "correct: simplicity is making the journey of this life with just baggage enough .\n",
      "\n",
      "source:  नदी बहती है ।\n",
      "predict: this river is beautiful .\n",
      "correct: a river flows .\n",
      "\n",
      "source:  हम जो हैं वह हमें ईश ् वर की देन है , हम जो बनते हैं वह परमेश ् वर को हमारी देन है ।\n",
      "predict: we cannot become what we need to be by remaining what we are .\n",
      "correct: what we are is god 's gift to us . what we become is our gift to god .\n",
      "\n",
      "source:  टॉम को सुलाओ ।\n",
      "predict: listen to tom .\n",
      "correct: put tom to bed .\n",
      "\n",
      "source:  तूफ़ानों से पेड़ों की जड़ें और गहरी व मज़बूत होती है ।\n",
      "predict: the most commonly reported flu symptoms are fever , chills , sweating , astheania , headache and nausea .\n",
      "correct: storms make trees take deeper roots .\n",
      "\n",
      "source:  कोई सपना देखे बिना कुछ नहीं होता ।\n",
      "predict: man can 't live without dreams .\n",
      "correct: nothing happens unless first a dream .\n",
      "\n",
      "source:  मैं तो बस मजाक कर रहा था ।\n",
      "predict: i was just joking .\n",
      "correct: i was only joking .\n",
      "\n",
      "source:  बस एक मिनट लगेगा ।\n",
      "predict: it 'll only take a minute .\n",
      "correct: it will only take a minute .\n",
      "\n",
      "source:  टॉम सिलाफ ़ न बजाता है ।\n",
      "predict: tom couldn 't breathe .\n",
      "correct: tom plays the xylophone .\n",
      "\n",
      "source:  मुझे एक तोता चाहिए ।\n",
      "predict: i want a blanket .\n",
      "correct: i want a parrot .\n",
      "\n",
      "source:  इस तोते के हरे पर हैं ।\n",
      "predict: this feels like silk .\n",
      "correct: this parrot has green feathers .\n",
      "\n",
      "source:  अभी टॉम को जुकाम है ।\n",
      "predict: tom is resting now .\n",
      "correct: tom has a cold now .\n",
      "\n",
      "source:  क ् या मंगाऊँ ?\n",
      "predict: what could it mean ?\n",
      "correct: what should i order ?\n",
      "\n",
      "source:  टॉम बहुत स ् वार ् थी है ।\n",
      "predict: tom is very quiet .\n",
      "correct: tom is very selfish .\n",
      "\n",
      "source:  मेरे पापा का घर है ।\n",
      "predict: it is my father 's house .\n",
      "correct: this is my father 's house .\n",
      "\n",
      "source:  मेरी नर ् सरी टीचर है ।\n",
      "predict: are osakans greedy ?\n",
      "correct: mary is a kindergarten teacher .\n",
      "\n",
      "source:  क ् या तुम ् हारा नाम टॉम है ?\n",
      "predict: is your name tom ?\n",
      "correct: is tom your name ?\n",
      "\n",
      "source:  हत ् यार हो सकता है ।\n",
      "predict: it could be heroin .\n",
      "correct: it could be a weapon .\n",
      "\n",
      "source:  टॉम ने तुम ् हें क ् या कहा ?\n",
      "predict: what did he say to you ?\n",
      "correct: why did tom call you ?\n",
      "\n",
      "source:  आपको पुलिस को बुलाना चाहिए था ।\n",
      "predict: you should 've called the cops .\n",
      "correct: you should have called the cops .\n",
      "\n",
      "source:  आपने उसे जाने क ् यों दिया ?\n",
      "predict: why did you let him go ?\n",
      "correct: why did you let her go ?\n",
      "\n",
      "source:  तुम ् हें और मेहनत से पढ ़ ाई करनी चाहिए थी ।\n",
      "predict: you should have studied harder .\n",
      "correct: you should 've studied harder .\n",
      "\n",
      "source:  अब पछताए क ् या होत जब चिड ़ िया चुग गई खेत ।\n",
      "predict: the animals in the forest died off .\n",
      "correct: it 's no use crying over spilt milk .\n",
      "\n",
      "source:  जैसा देस , वैसा भेस ।\n",
      "predict: this feels like silk .\n",
      "correct: when in rome , do as the romans do .\n",
      "\n"
     ]
    }
   ],
   "source": [
    "for idx in np.where([x != i for i, x in enumerate(matched_indices[:, 0])])[0]:\n",
    "    print(\n",
    "        \"source:  \", documents[\"hin\"][idx].strip() + \"\\n\",\n",
    "        \"predict: \", documents[\"eng\"][matched_indices[idx, 0]].strip() + \"\\n\",\n",
    "        \"correct: \", documents[\"eng\"][idx].strip() + \"\\n\", sep=\"\"\n",
    "    )"
   ]
  }
 ],
 "metadata": {
  "kernelspec": {
   "display_name": "Python 3",
   "language": "python",
   "name": "python3"
  },
  "language_info": {
   "codemirror_mode": {
    "name": "ipython",
    "version": 3
   },
   "file_extension": ".py",
   "mimetype": "text/x-python",
   "name": "python",
   "nbconvert_exporter": "python",
   "pygments_lexer": "ipython3",
   "version": "3.7.3"
  }
 },
 "nbformat": 4,
 "nbformat_minor": 2
}
