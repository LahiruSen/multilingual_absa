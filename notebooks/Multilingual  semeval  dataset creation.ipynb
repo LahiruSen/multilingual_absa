{
 "cells": [
  {
   "cell_type": "code",
   "execution_count": 1,
   "metadata": {},
   "outputs": [],
   "source": [
    "import os\n",
    "import sys\n",
    "import pandas as pd\n",
    "import numpy as np\n",
    "import pickle\n",
    "from collections import Counter, defaultdict\n",
    "import re\n",
    "\n",
    "pd.set_option('display.max_colwidth' , -1)\n",
    "\n",
    "from pathlib import Path\n",
    "from collections import namedtuple\n",
    "import numpy as np\n",
    "import xml.etree.ElementTree as ET"
   ]
  },
  {
   "cell_type": "code",
   "execution_count": 2,
   "metadata": {},
   "outputs": [],
   "source": [
    "def extract_aspects(lst_aspects):\n",
    "    res = []\n",
    "    for x in lst_aspects:\n",
    "        entity = x.split('#')[0] ; attribute = x.split('#')[1] ; res.append(entity)       \n",
    "    return res"
   ]
  },
  {
   "cell_type": "code",
   "execution_count": 3,
   "metadata": {},
   "outputs": [
    {
     "name": "stdout",
     "output_type": "stream",
     "text": [
      "there are 1708 reviews in this training set\n"
     ]
    }
   ],
   "source": [
    "\n",
    "english = ET.parse('../data/xml_files/English_restaurants.xml')\n",
    "root = english.getroot()\n",
    "labeled_reviews = []\n",
    "for review in root.findall(\"Review\"):\n",
    " \n",
    "\n",
    "    if review.find(\"sentences\"):\n",
    "        \n",
    "        for sentence in review.find(\"sentences\").findall('sentence'): \n",
    "            if sentence.find('Opinions'):\n",
    "                #print(sentence[0].text)\n",
    "                entry= {} ;   aspects = [] ;  polarities = []\n",
    "                for opinion in sentence.find('Opinions').findall('Opinion'):\n",
    "                    aspects.append(opinion.get('category'))\n",
    "                    polarities.append(opinion.get('polarity'))\n",
    "\n",
    "        \n",
    "    \n",
    "                entry[\"text\"] = sentence[0].text\n",
    "                entry[\"aspects\"] , entry['polarities']  =  aspects , polarities\n",
    "                labeled_reviews.append(entry)\n",
    "            \n",
    "eng_multi_aspects = pd.DataFrame(labeled_reviews)\n",
    "print(\"there are\",len(labeled_reviews),\"reviews in this training set\")\n"
   ]
  },
  {
   "cell_type": "code",
   "execution_count": 4,
   "metadata": {},
   "outputs": [
    {
     "name": "stdout",
     "output_type": "stream",
     "text": [
      "FOOD#QUALITY                0.338652\n",
      "SERVICE#GENERAL             0.179099\n",
      "RESTAURANT#GENERAL          0.168329\n",
      "AMBIENCE#GENERAL            0.101715\n",
      "FOOD#STYLE_OPTIONS          0.054647\n",
      "RESTAURANT#MISCELLANEOUS    0.039091\n",
      "FOOD#PRICES                 0.035899\n",
      "RESTAURANT#PRICES           0.031911\n",
      "DRINKS#QUALITY              0.018748\n",
      "DRINKS#STYLE_OPTIONS        0.012764\n",
      "LOCATION#GENERAL            0.011169\n",
      "DRINKS#PRICES               0.007978\n",
      "Name: value, dtype: float64\n"
     ]
    }
   ],
   "source": [
    "print(eng_multi_aspects.aspects.apply(pd.Series).merge(eng_multi_aspects , right_index = True , left_index = True)\\\n",
    ".drop(['aspects' , 'polarities'] ,axis = 1).melt(id_vars = ['text']).drop(['variable'] , axis = 1).dropna().value.value_counts(normalize = True))"
   ]
  },
  {
   "cell_type": "code",
   "execution_count": 5,
   "metadata": {},
   "outputs": [],
   "source": [
    "eng_multi_aspects['aspects2'] = eng_multi_aspects['aspects'].apply(lambda x: extract_aspects(x))\n",
    "eng_multi_aspects['aspects2'] = eng_multi_aspects['aspects2'].apply(lambda x : list(set(x)))\n",
    "\n",
    "eng_multi_aspects.drop(columns=[ 'aspects'] , inplace=True)\n",
    "eng_multi_aspects['len_aspects'] = eng_multi_aspects['aspects2'].apply(lambda x: len(x))\n",
    "eng_multi_aspects['polarities2'] = eng_multi_aspects.apply(lambda x: x['polarities'][0 : int(x['len_aspects'])]  , axis = 1)\n",
    "eng_multi_aspects.drop(columns=[  'polarities' , 'len_aspects' ] , inplace=True)\n",
    "\n",
    "eng_multi_aspects.rename(columns={'aspects2': 'aspects' , 'polarities2': 'polarities'} , inplace=True)\n",
    "eng_multi_aspects.to_csv('../data/English_restaurants.csv' , index = False)\n"
   ]
  },
  {
   "cell_type": "code",
   "execution_count": 6,
   "metadata": {},
   "outputs": [
    {
     "name": "stdout",
     "output_type": "stream",
     "text": [
      "there are 1317 reviews in this training set\n"
     ]
    }
   ],
   "source": [
    "english = ET.parse('../data/xml_files/Dutch_restaurants.xml')\n",
    "root = english.getroot()\n",
    "\n",
    "labeled_reviews = []\n",
    "for review in root.findall(\"Review\"):\n",
    "    if review.find(\"sentences\"):\n",
    "        for sentence in review.find(\"sentences\").findall('sentence'): \n",
    "            if sentence.find('Opinions'):\n",
    "                #print(sentence[0].text)\n",
    "                entry= {} ;   aspects = [] ;  polarities = []\n",
    "                for opinion in sentence.find('Opinions').findall('Opinion'):\n",
    "                    aspects.append(opinion.get('category'))\n",
    "                    polarities.append(opinion.get('polarity'))\n",
    "                entry[\"text\"] = sentence[0].text\n",
    "                entry[\"aspects\"] , entry['polarities']  =  aspects , polarities\n",
    "                labeled_reviews.append(entry)\n",
    "            \n",
    "du_multi_aspects = pd.DataFrame(labeled_reviews)\n",
    "print(\"there are\",len(labeled_reviews),\"reviews in this training set\")\n",
    "\n",
    "\n",
    "du_multi_aspects['aspects2'] = du_multi_aspects['aspects'].apply(lambda x: extract_aspects(x))\n",
    "du_multi_aspects['aspects2'] = du_multi_aspects['aspects2'].apply(lambda x : list(set(x)))\n",
    "\n",
    "du_multi_aspects.drop(columns=[ 'aspects'] , inplace=True)\n",
    "du_multi_aspects['len_aspects'] = du_multi_aspects['aspects2'].apply(lambda x: len(x))\n",
    "du_multi_aspects['polarities2'] = du_multi_aspects.apply(lambda x: x['polarities'][0 : int(x['len_aspects'])]  , axis = 1)\n",
    "du_multi_aspects.drop(columns=[  'polarities' , 'len_aspects' ] , inplace=True)\n",
    "\n",
    "du_multi_aspects.rename(columns={'aspects2': 'aspects' , 'polarities2': 'polarities'} , inplace=True)\n",
    "du_multi_aspects.to_csv('../data/Dutch_restaurants.csv' , index = False)"
   ]
  },
  {
   "cell_type": "code",
   "execution_count": 7,
   "metadata": {},
   "outputs": [
    {
     "data": {
      "text/html": [
       "<div>\n",
       "<style scoped>\n",
       "    .dataframe tbody tr th:only-of-type {\n",
       "        vertical-align: middle;\n",
       "    }\n",
       "\n",
       "    .dataframe tbody tr th {\n",
       "        vertical-align: top;\n",
       "    }\n",
       "\n",
       "    .dataframe thead th {\n",
       "        text-align: right;\n",
       "    }\n",
       "</style>\n",
       "<table border=\"1\" class=\"dataframe\">\n",
       "  <thead>\n",
       "    <tr style=\"text-align: right;\">\n",
       "      <th></th>\n",
       "      <th>text</th>\n",
       "      <th>aspects</th>\n",
       "      <th>polarities</th>\n",
       "    </tr>\n",
       "  </thead>\n",
       "  <tbody>\n",
       "  </tbody>\n",
       "</table>\n",
       "</div>"
      ],
      "text/plain": [
       "Empty DataFrame\n",
       "Columns: [text, aspects, polarities]\n",
       "Index: []"
      ]
     },
     "execution_count": 7,
     "metadata": {},
     "output_type": "execute_result"
    }
   ],
   "source": [
    "eng_multi_aspects[eng_multi_aspects['polarities'].apply(lambda x: ' '.join(x)).str.contains('conflict')]"
   ]
  },
  {
   "cell_type": "code",
   "execution_count": 8,
   "metadata": {},
   "outputs": [
    {
     "data": {
      "text/html": [
       "<div>\n",
       "<style scoped>\n",
       "    .dataframe tbody tr th:only-of-type {\n",
       "        vertical-align: middle;\n",
       "    }\n",
       "\n",
       "    .dataframe tbody tr th {\n",
       "        vertical-align: top;\n",
       "    }\n",
       "\n",
       "    .dataframe thead th {\n",
       "        text-align: right;\n",
       "    }\n",
       "</style>\n",
       "<table border=\"1\" class=\"dataframe\">\n",
       "  <thead>\n",
       "    <tr style=\"text-align: right;\">\n",
       "      <th></th>\n",
       "      <th>text</th>\n",
       "      <th>aspects</th>\n",
       "      <th>polarities</th>\n",
       "    </tr>\n",
       "  </thead>\n",
       "  <tbody>\n",
       "  </tbody>\n",
       "</table>\n",
       "</div>"
      ],
      "text/plain": [
       "Empty DataFrame\n",
       "Columns: [text, aspects, polarities]\n",
       "Index: []"
      ]
     },
     "execution_count": 8,
     "metadata": {},
     "output_type": "execute_result"
    }
   ],
   "source": [
    "du_multi_aspects[du_multi_aspects['polarities'].apply(lambda x: ' '.join(x)).str.contains('conflict')]"
   ]
  },
  {
   "cell_type": "code",
   "execution_count": 9,
   "metadata": {},
   "outputs": [
    {
     "name": "stdout",
     "output_type": "stream",
     "text": [
      "there are 1626 reviews in this training set\n"
     ]
    }
   ],
   "source": [
    "english = ET.parse('../data/xml_files/Spanish_restaurants.xml')\n",
    "root = english.getroot()\n",
    "\n",
    "labeled_reviews = []\n",
    "for review in root.findall(\"Review\"):\n",
    "    if review.find(\"sentences\"):\n",
    "        for sentence in review.find(\"sentences\").findall('sentence'): \n",
    "            if sentence.find('Opinions'):\n",
    "                #print(sentence[0].text)\n",
    "                entry= {} ;   aspects = [] ;  polarities = []\n",
    "                for opinion in sentence.find('Opinions').findall('Opinion'):\n",
    "                    aspects.append(opinion.get('category'))\n",
    "                    polarities.append(opinion.get('polarity'))\n",
    "                entry[\"text\"] = sentence[0].text\n",
    "                entry[\"aspects\"] , entry['polarities']  =  aspects , polarities\n",
    "                labeled_reviews.append(entry)\n",
    "            \n",
    "spanish_multi_aspects = pd.DataFrame(labeled_reviews)\n",
    "print(\"there are\",len(labeled_reviews),\"reviews in this training set\")\n",
    "\n",
    "\n",
    "\n",
    "\n",
    "spanish_multi_aspects['aspects2'] = spanish_multi_aspects['aspects'].apply(lambda x: extract_aspects(x))\n",
    "spanish_multi_aspects['aspects2'] = spanish_multi_aspects['aspects2'].apply(lambda x : list(set(x)))\n",
    "\n",
    "spanish_multi_aspects.drop(columns=[ 'aspects'] , inplace=True)\n",
    "spanish_multi_aspects['len_aspects'] = spanish_multi_aspects['aspects2'].apply(lambda x: len(x))\n",
    "spanish_multi_aspects['polarities2'] = spanish_multi_aspects.apply(lambda x: x['polarities'][0 : int(x['len_aspects'])]  , axis = 1)\n",
    "spanish_multi_aspects.drop(columns=[  'polarities' , 'len_aspects' ] , inplace=True)\n",
    "\n",
    "spanish_multi_aspects.rename(columns={'aspects2': 'aspects' , 'polarities2': 'polarities'} , inplace=True)\n"
   ]
  },
  {
   "cell_type": "code",
   "execution_count": 10,
   "metadata": {},
   "outputs": [
    {
     "data": {
      "text/html": [
       "<div>\n",
       "<style scoped>\n",
       "    .dataframe tbody tr th:only-of-type {\n",
       "        vertical-align: middle;\n",
       "    }\n",
       "\n",
       "    .dataframe tbody tr th {\n",
       "        vertical-align: top;\n",
       "    }\n",
       "\n",
       "    .dataframe thead th {\n",
       "        text-align: right;\n",
       "    }\n",
       "</style>\n",
       "<table border=\"1\" class=\"dataframe\">\n",
       "  <thead>\n",
       "    <tr style=\"text-align: right;\">\n",
       "      <th></th>\n",
       "      <th>text</th>\n",
       "      <th>aspects</th>\n",
       "      <th>polarities</th>\n",
       "    </tr>\n",
       "  </thead>\n",
       "  <tbody>\n",
       "    <tr>\n",
       "      <th>1589</th>\n",
       "      <td>Es un lugar entrañable de Barcelona que hay que conocer, ambiente inigualable (pero ruidoso, no es para una cena íntima) y cosmopolita.</td>\n",
       "      <td>[RESTAURANT, AMBIENCE]</td>\n",
       "      <td>[positive, conflict]</td>\n",
       "    </tr>\n",
       "  </tbody>\n",
       "</table>\n",
       "</div>"
      ],
      "text/plain": [
       "                                                                                                                                         text  \\\n",
       "1589  Es un lugar entrañable de Barcelona que hay que conocer, ambiente inigualable (pero ruidoso, no es para una cena íntima) y cosmopolita.   \n",
       "\n",
       "                     aspects            polarities  \n",
       "1589  [RESTAURANT, AMBIENCE]  [positive, conflict]  "
      ]
     },
     "execution_count": 10,
     "metadata": {},
     "output_type": "execute_result"
    }
   ],
   "source": [
    "spanish_multi_aspects[spanish_multi_aspects['polarities'].apply(lambda x: ' '.join(x)).str.contains('conflict')]"
   ]
  },
  {
   "cell_type": "code",
   "execution_count": 11,
   "metadata": {},
   "outputs": [],
   "source": [
    "spanish_multi_aspects.at[1589 , 'polarities'] =  ['positive','neutral'] "
   ]
  },
  {
   "cell_type": "code",
   "execution_count": 12,
   "metadata": {},
   "outputs": [
    {
     "data": {
      "text/html": [
       "<div>\n",
       "<style scoped>\n",
       "    .dataframe tbody tr th:only-of-type {\n",
       "        vertical-align: middle;\n",
       "    }\n",
       "\n",
       "    .dataframe tbody tr th {\n",
       "        vertical-align: top;\n",
       "    }\n",
       "\n",
       "    .dataframe thead th {\n",
       "        text-align: right;\n",
       "    }\n",
       "</style>\n",
       "<table border=\"1\" class=\"dataframe\">\n",
       "  <thead>\n",
       "    <tr style=\"text-align: right;\">\n",
       "      <th></th>\n",
       "      <th>text</th>\n",
       "      <th>aspects</th>\n",
       "      <th>polarities</th>\n",
       "    </tr>\n",
       "  </thead>\n",
       "  <tbody>\n",
       "  </tbody>\n",
       "</table>\n",
       "</div>"
      ],
      "text/plain": [
       "Empty DataFrame\n",
       "Columns: [text, aspects, polarities]\n",
       "Index: []"
      ]
     },
     "execution_count": 12,
     "metadata": {},
     "output_type": "execute_result"
    }
   ],
   "source": [
    "spanish_multi_aspects[spanish_multi_aspects['polarities'].apply(lambda x: ' '.join(x)).str.contains('conflict')]"
   ]
  },
  {
   "cell_type": "code",
   "execution_count": 13,
   "metadata": {},
   "outputs": [],
   "source": [
    "spanish_multi_aspects.to_csv('../data/Spanish_restaurants.csv' , index = False)"
   ]
  },
  {
   "cell_type": "code",
   "execution_count": 14,
   "metadata": {},
   "outputs": [],
   "source": [
    "# english = ET.parse('../data/English_laptops.xml')\n",
    "# root = english.getroot()\n",
    "\n",
    "# labeled_reviews = []\n",
    "# for review in root.findall(\"Review\"):\n",
    "#     if review.find(\"sentences\"):\n",
    "#         for sentence in review.find(\"sentences\").findall('sentence'): \n",
    "#             if sentence.find('Opinions'):\n",
    "#                 #print(sentence[0].text)\n",
    "#                 entry= {} ;   aspects = [] ;  polarities = []\n",
    "#                 for opinion in sentence.find('Opinions').findall('Opinion'):\n",
    "#                     aspects.append(opinion.get('category'))\n",
    "#                     polarities.append(opinion.get('polarity'))\n",
    "#                 entry[\"text\"] = sentence[0].text\n",
    "#                 entry[\"aspects\"] , entry['polarities']  =  aspects , polarities\n",
    "#                 labeled_reviews.append(entry)\n",
    "            \n",
    "# eng_laptop_multi = pd.DataFrame(labeled_reviews)\n",
    "# print(\"there are\",len(labeled_reviews),\"reviews in this training set\")\n",
    "\n",
    "# eng_laptop_multi.to_csv('../data/English_laptops.csv' , index = False)\n",
    "\n",
    "# eng_laptop_multi.aspects.apply(pd.Series).merge(eng_laptop_multi , right_index = True , left_index = True)\\\n",
    "# .drop(['aspects' , 'polarities'] ,axis = 1)\\\n",
    "# .melt(id_vars = ['text']).drop(['variable'] , axis = 1).dropna().value.value_counts(normalize = False).head()\n",
    "\n",
    "# english = ET.parse('../data/Chinese_phones.xml')\n",
    "# root = english.getroot()\n",
    "\n",
    "# labeled_reviews = []\n",
    "# for review in root.findall(\"Review\"):\n",
    "#     if review.find(\"sentences\"):\n",
    "#         for sentence in review.find(\"sentences\").findall('sentence'): \n",
    "#             if sentence.find('Opinions'):\n",
    "#                 #print(sentence[0].text)\n",
    "#                 entry= {} ;   aspects = [] ;  polarities = []\n",
    "#                 for opinion in sentence.find('Opinions').findall('Opinion'):\n",
    "#                     aspects.append(opinion.get('category'))\n",
    "#                     polarities.append(opinion.get('polarity'))\n",
    "#                 entry[\"text\"] = sentence[0].text\n",
    "#                 entry[\"aspects\"] , entry['polarities']  =  aspects , polarities\n",
    "#                 labeled_reviews.append(entry)\n",
    "            \n",
    "# chinese_phones_multi = pd.DataFrame(labeled_reviews)\n",
    "# print(\"there are\",len(labeled_reviews),\"reviews in this training set\")\n",
    "\n",
    "# chinese_phones_multi.to_csv('../data/Chinese_phones.csv' , index = False)\n",
    "\n",
    "# english = ET.parse('../data/Chinese_camera.xml')\n",
    "# root = english.getroot()\n",
    "\n",
    "# labeled_reviews = []\n",
    "# for review in root.findall(\"Review\"):\n",
    "#     if review.find(\"sentences\"):\n",
    "#         for sentence in review.find(\"sentences\").findall('sentence'): \n",
    "#             if sentence.find('Opinions'):\n",
    "#                 #print(sentence[0].text)\n",
    "#                 entry= {} ;   aspects = [] ;  polarities = []\n",
    "#                 for opinion in sentence.find('Opinions').findall('Opinion'):\n",
    "#                     aspects.append(opinion.get('category'))\n",
    "#                     polarities.append(opinion.get('polarity'))\n",
    "#                 entry[\"text\"] = sentence[0].text\n",
    "#                 entry[\"aspects\"] , entry['polarities']  =  aspects , polarities\n",
    "#                 labeled_reviews.append(entry)\n",
    "            \n",
    "# chinese_cameras_multi = pd.DataFrame(labeled_reviews)\n",
    "# print(\"there are\",len(labeled_reviews),\"reviews in this training set\")\n",
    "# chinese_cameras_multi.to_csv('../data/Chinese_camera.csv' , index = False)\n",
    "\n",
    "# chinese_phones_multi.aspects.apply(pd.Series).merge(chinese_phones_multi , right_index = True , left_index = True)\\\n",
    "# .drop(['aspects' , 'polarities'] ,axis = 1)\\\n",
    "# .melt(id_vars = ['text']).drop(['variable'] , axis = 1).dropna().value.value_counts(normalize = False).head()\n",
    "\n",
    "# chinese_phones_multi.polarities.apply(pd.Series).merge(chinese_phones_multi , right_index = True , left_index = True)\\\n",
    "# .drop(['aspects' , 'polarities'] ,axis = 1)\\\n",
    "# .melt(id_vars = ['text']).drop(['variable'] , axis = 1).dropna().value.value_counts(normalize = False).head()\n",
    "\n",
    "# eng_laptop_multi.polarities.apply(pd.Series).merge(eng_laptop_multi , right_index = True , left_index = True)\\\n",
    "# .drop(['aspects' , 'polarities'] ,axis = 1)\\\n",
    "# .melt(id_vars = ['text']).drop(['variable'] , axis = 1).dropna().value.value_counts(normalize = False).head()"
   ]
  },
  {
   "cell_type": "code",
   "execution_count": 15,
   "metadata": {},
   "outputs": [
    {
     "data": {
      "text/html": [
       "<div>\n",
       "<style scoped>\n",
       "    .dataframe tbody tr th:only-of-type {\n",
       "        vertical-align: middle;\n",
       "    }\n",
       "\n",
       "    .dataframe tbody tr th {\n",
       "        vertical-align: top;\n",
       "    }\n",
       "\n",
       "    .dataframe thead th {\n",
       "        text-align: right;\n",
       "    }\n",
       "</style>\n",
       "<table border=\"1\" class=\"dataframe\">\n",
       "  <thead>\n",
       "    <tr style=\"text-align: right;\">\n",
       "      <th></th>\n",
       "      <th>text</th>\n",
       "      <th>aspects</th>\n",
       "      <th>polarities</th>\n",
       "    </tr>\n",
       "  </thead>\n",
       "  <tbody>\n",
       "    <tr>\n",
       "      <th>0</th>\n",
       "      <td>Lange wachttijd.</td>\n",
       "      <td>[SERVICE]</td>\n",
       "      <td>[negative]</td>\n",
       "    </tr>\n",
       "    <tr>\n",
       "      <th>1</th>\n",
       "      <td>Zelfde dessert, 2 dagen na mekaar.</td>\n",
       "      <td>[FOOD]</td>\n",
       "      <td>[negative]</td>\n",
       "    </tr>\n",
       "    <tr>\n",
       "      <th>2</th>\n",
       "      <td>Ontbijtbuffet was tip top in orde.</td>\n",
       "      <td>[FOOD]</td>\n",
       "      <td>[positive]</td>\n",
       "    </tr>\n",
       "    <tr>\n",
       "      <th>3</th>\n",
       "      <td>Niet goedkoop!</td>\n",
       "      <td>[RESTAURANT]</td>\n",
       "      <td>[negative]</td>\n",
       "    </tr>\n",
       "    <tr>\n",
       "      <th>4</th>\n",
       "      <td>Maar eens in het kasteelrestaurant aangekomen werd het een feest.</td>\n",
       "      <td>[RESTAURANT]</td>\n",
       "      <td>[positive]</td>\n",
       "    </tr>\n",
       "  </tbody>\n",
       "</table>\n",
       "</div>"
      ],
      "text/plain": [
       "                                                                text  \\\n",
       "0  Lange wachttijd.                                                    \n",
       "1  Zelfde dessert, 2 dagen na mekaar.                                  \n",
       "2  Ontbijtbuffet was tip top in orde.                                  \n",
       "3  Niet goedkoop!                                                      \n",
       "4  Maar eens in het kasteelrestaurant aangekomen werd het een feest.   \n",
       "\n",
       "        aspects  polarities  \n",
       "0  [SERVICE]     [negative]  \n",
       "1  [FOOD]        [negative]  \n",
       "2  [FOOD]        [positive]  \n",
       "3  [RESTAURANT]  [negative]  \n",
       "4  [RESTAURANT]  [positive]  "
      ]
     },
     "execution_count": 15,
     "metadata": {},
     "output_type": "execute_result"
    }
   ],
   "source": [
    "du_multi_aspects.head()"
   ]
  },
  {
   "cell_type": "code",
   "execution_count": null,
   "metadata": {},
   "outputs": [],
   "source": []
  }
 ],
 "metadata": {
  "kernelspec": {
   "display_name": "Python 3",
   "language": "python",
   "name": "python3"
  },
  "language_info": {
   "codemirror_mode": {
    "name": "ipython",
    "version": 3
   },
   "file_extension": ".py",
   "mimetype": "text/x-python",
   "name": "python",
   "nbconvert_exporter": "python",
   "pygments_lexer": "ipython3",
   "version": "3.7.3"
  }
 },
 "nbformat": 4,
 "nbformat_minor": 2
}
